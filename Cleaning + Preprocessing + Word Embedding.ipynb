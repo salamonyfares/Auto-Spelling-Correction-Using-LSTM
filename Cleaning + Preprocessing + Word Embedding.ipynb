{
 "cells": [
  {
   "cell_type": "markdown",
   "metadata": {},
   "source": [
    "## Auto Spelling Correction"
   ]
  },
  {
   "cell_type": "markdown",
   "metadata": {},
   "source": [
    "**In this Notebook we will go through the process of spelling correction using different NLP models**"
   ]
  },
  {
   "cell_type": "code",
   "execution_count": null,
   "metadata": {
    "colab": {
     "base_uri": "https://localhost:8080/",
     "height": 73,
     "resources": {
      "http://localhost:8080/nbextensions/google.colab/files.js": {
       "data": "Ly8gQ29weXJpZ2h0IDIwMTcgR29vZ2xlIExMQwovLwovLyBMaWNlbnNlZCB1bmRlciB0aGUgQXBhY2hlIExpY2Vuc2UsIFZlcnNpb24gMi4wICh0aGUgIkxpY2Vuc2UiKTsKLy8geW91IG1heSBub3QgdXNlIHRoaXMgZmlsZSBleGNlcHQgaW4gY29tcGxpYW5jZSB3aXRoIHRoZSBMaWNlbnNlLgovLyBZb3UgbWF5IG9idGFpbiBhIGNvcHkgb2YgdGhlIExpY2Vuc2UgYXQKLy8KLy8gICAgICBodHRwOi8vd3d3LmFwYWNoZS5vcmcvbGljZW5zZXMvTElDRU5TRS0yLjAKLy8KLy8gVW5sZXNzIHJlcXVpcmVkIGJ5IGFwcGxpY2FibGUgbGF3IG9yIGFncmVlZCB0byBpbiB3cml0aW5nLCBzb2Z0d2FyZQovLyBkaXN0cmlidXRlZCB1bmRlciB0aGUgTGljZW5zZSBpcyBkaXN0cmlidXRlZCBvbiBhbiAiQVMgSVMiIEJBU0lTLAovLyBXSVRIT1VUIFdBUlJBTlRJRVMgT1IgQ09ORElUSU9OUyBPRiBBTlkgS0lORCwgZWl0aGVyIGV4cHJlc3Mgb3IgaW1wbGllZC4KLy8gU2VlIHRoZSBMaWNlbnNlIGZvciB0aGUgc3BlY2lmaWMgbGFuZ3VhZ2UgZ292ZXJuaW5nIHBlcm1pc3Npb25zIGFuZAovLyBsaW1pdGF0aW9ucyB1bmRlciB0aGUgTGljZW5zZS4KCi8qKgogKiBAZmlsZW92ZXJ2aWV3IEhlbHBlcnMgZm9yIGdvb2dsZS5jb2xhYiBQeXRob24gbW9kdWxlLgogKi8KKGZ1bmN0aW9uKHNjb3BlKSB7CmZ1bmN0aW9uIHNwYW4odGV4dCwgc3R5bGVBdHRyaWJ1dGVzID0ge30pIHsKICBjb25zdCBlbGVtZW50ID0gZG9jdW1lbnQuY3JlYXRlRWxlbWVudCgnc3BhbicpOwogIGVsZW1lbnQudGV4dENvbnRlbnQgPSB0ZXh0OwogIGZvciAoY29uc3Qga2V5IG9mIE9iamVjdC5rZXlzKHN0eWxlQXR0cmlidXRlcykpIHsKICAgIGVsZW1lbnQuc3R5bGVba2V5XSA9IHN0eWxlQXR0cmlidXRlc1trZXldOwogIH0KICByZXR1cm4gZWxlbWVudDsKfQoKLy8gTWF4IG51bWJlciBvZiBieXRlcyB3aGljaCB3aWxsIGJlIHVwbG9hZGVkIGF0IGEgdGltZS4KY29uc3QgTUFYX1BBWUxPQURfU0laRSA9IDEwMCAqIDEwMjQ7CgpmdW5jdGlvbiBfdXBsb2FkRmlsZXMoaW5wdXRJZCwgb3V0cHV0SWQpIHsKICBjb25zdCBzdGVwcyA9IHVwbG9hZEZpbGVzU3RlcChpbnB1dElkLCBvdXRwdXRJZCk7CiAgY29uc3Qgb3V0cHV0RWxlbWVudCA9IGRvY3VtZW50LmdldEVsZW1lbnRCeUlkKG91dHB1dElkKTsKICAvLyBDYWNoZSBzdGVwcyBvbiB0aGUgb3V0cHV0RWxlbWVudCB0byBtYWtlIGl0IGF2YWlsYWJsZSBmb3IgdGhlIG5leHQgY2FsbAogIC8vIHRvIHVwbG9hZEZpbGVzQ29udGludWUgZnJvbSBQeXRob24uCiAgb3V0cHV0RWxlbWVudC5zdGVwcyA9IHN0ZXBzOwoKICByZXR1cm4gX3VwbG9hZEZpbGVzQ29udGludWUob3V0cHV0SWQpOwp9CgovLyBUaGlzIGlzIHJvdWdobHkgYW4gYXN5bmMgZ2VuZXJhdG9yIChub3Qgc3VwcG9ydGVkIGluIHRoZSBicm93c2VyIHlldCksCi8vIHdoZXJlIHRoZXJlIGFyZSBtdWx0aXBsZSBhc3luY2hyb25vdXMgc3RlcHMgYW5kIHRoZSBQeXRob24gc2lkZSBpcyBnb2luZwovLyB0byBwb2xsIGZvciBjb21wbGV0aW9uIG9mIGVhY2ggc3RlcC4KLy8gVGhpcyB1c2VzIGEgUHJvbWlzZSB0byBibG9jayB0aGUgcHl0aG9uIHNpZGUgb24gY29tcGxldGlvbiBvZiBlYWNoIHN0ZXAsCi8vIHRoZW4gcGFzc2VzIHRoZSByZXN1bHQgb2YgdGhlIHByZXZpb3VzIHN0ZXAgYXMgdGhlIGlucHV0IHRvIHRoZSBuZXh0IHN0ZXAuCmZ1bmN0aW9uIF91cGxvYWRGaWxlc0NvbnRpbnVlKG91dHB1dElkKSB7CiAgY29uc3Qgb3V0cHV0RWxlbWVudCA9IGRvY3VtZW50LmdldEVsZW1lbnRCeUlkKG91dHB1dElkKTsKICBjb25zdCBzdGVwcyA9IG91dHB1dEVsZW1lbnQuc3RlcHM7CgogIGNvbnN0IG5leHQgPSBzdGVwcy5uZXh0KG91dHB1dEVsZW1lbnQubGFzdFByb21pc2VWYWx1ZSk7CiAgcmV0dXJuIFByb21pc2UucmVzb2x2ZShuZXh0LnZhbHVlLnByb21pc2UpLnRoZW4oKHZhbHVlKSA9PiB7CiAgICAvLyBDYWNoZSB0aGUgbGFzdCBwcm9taXNlIHZhbHVlIHRvIG1ha2UgaXQgYXZhaWxhYmxlIHRvIHRoZSBuZXh0CiAgICAvLyBzdGVwIG9mIHRoZSBnZW5lcmF0b3IuCiAgICBvdXRwdXRFbGVtZW50Lmxhc3RQcm9taXNlVmFsdWUgPSB2YWx1ZTsKICAgIHJldHVybiBuZXh0LnZhbHVlLnJlc3BvbnNlOwogIH0pOwp9CgovKioKICogR2VuZXJhdG9yIGZ1bmN0aW9uIHdoaWNoIGlzIGNhbGxlZCBiZXR3ZWVuIGVhY2ggYXN5bmMgc3RlcCBvZiB0aGUgdXBsb2FkCiAqIHByb2Nlc3MuCiAqIEBwYXJhbSB7c3RyaW5nfSBpbnB1dElkIEVsZW1lbnQgSUQgb2YgdGhlIGlucHV0IGZpbGUgcGlja2VyIGVsZW1lbnQuCiAqIEBwYXJhbSB7c3RyaW5nfSBvdXRwdXRJZCBFbGVtZW50IElEIG9mIHRoZSBvdXRwdXQgZGlzcGxheS4KICogQHJldHVybiB7IUl0ZXJhYmxlPCFPYmplY3Q+fSBJdGVyYWJsZSBvZiBuZXh0IHN0ZXBzLgogKi8KZnVuY3Rpb24qIHVwbG9hZEZpbGVzU3RlcChpbnB1dElkLCBvdXRwdXRJZCkgewogIGNvbnN0IGlucHV0RWxlbWVudCA9IGRvY3VtZW50LmdldEVsZW1lbnRCeUlkKGlucHV0SWQpOwogIGlucHV0RWxlbWVudC5kaXNhYmxlZCA9IGZhbHNlOwoKICBjb25zdCBvdXRwdXRFbGVtZW50ID0gZG9jdW1lbnQuZ2V0RWxlbWVudEJ5SWQob3V0cHV0SWQpOwogIG91dHB1dEVsZW1lbnQuaW5uZXJIVE1MID0gJyc7CgogIGNvbnN0IHBpY2tlZFByb21pc2UgPSBuZXcgUHJvbWlzZSgocmVzb2x2ZSkgPT4gewogICAgaW5wdXRFbGVtZW50LmFkZEV2ZW50TGlzdGVuZXIoJ2NoYW5nZScsIChlKSA9PiB7CiAgICAgIHJlc29sdmUoZS50YXJnZXQuZmlsZXMpOwogICAgfSk7CiAgfSk7CgogIGNvbnN0IGNhbmNlbCA9IGRvY3VtZW50LmNyZWF0ZUVsZW1lbnQoJ2J1dHRvbicpOwogIGlucHV0RWxlbWVudC5wYXJlbnRFbGVtZW50LmFwcGVuZENoaWxkKGNhbmNlbCk7CiAgY2FuY2VsLnRleHRDb250ZW50ID0gJ0NhbmNlbCB1cGxvYWQnOwogIGNvbnN0IGNhbmNlbFByb21pc2UgPSBuZXcgUHJvbWlzZSgocmVzb2x2ZSkgPT4gewogICAgY2FuY2VsLm9uY2xpY2sgPSAoKSA9PiB7CiAgICAgIHJlc29sdmUobnVsbCk7CiAgICB9OwogIH0pOwoKICAvLyBXYWl0IGZvciB0aGUgdXNlciB0byBwaWNrIHRoZSBmaWxlcy4KICBjb25zdCBmaWxlcyA9IHlpZWxkIHsKICAgIHByb21pc2U6IFByb21pc2UucmFjZShbcGlja2VkUHJvbWlzZSwgY2FuY2VsUHJvbWlzZV0pLAogICAgcmVzcG9uc2U6IHsKICAgICAgYWN0aW9uOiAnc3RhcnRpbmcnLAogICAgfQogIH07CgogIGNhbmNlbC5yZW1vdmUoKTsKCiAgLy8gRGlzYWJsZSB0aGUgaW5wdXQgZWxlbWVudCBzaW5jZSBmdXJ0aGVyIHBpY2tzIGFyZSBub3QgYWxsb3dlZC4KICBpbnB1dEVsZW1lbnQuZGlzYWJsZWQgPSB0cnVlOwoKICBpZiAoIWZpbGVzKSB7CiAgICByZXR1cm4gewogICAgICByZXNwb25zZTogewogICAgICAgIGFjdGlvbjogJ2NvbXBsZXRlJywKICAgICAgfQogICAgfTsKICB9CgogIGZvciAoY29uc3QgZmlsZSBvZiBmaWxlcykgewogICAgY29uc3QgbGkgPSBkb2N1bWVudC5jcmVhdGVFbGVtZW50KCdsaScpOwogICAgbGkuYXBwZW5kKHNwYW4oZmlsZS5uYW1lLCB7Zm9udFdlaWdodDogJ2JvbGQnfSkpOwogICAgbGkuYXBwZW5kKHNwYW4oCiAgICAgICAgYCgke2ZpbGUudHlwZSB8fCAnbi9hJ30pIC0gJHtmaWxlLnNpemV9IGJ5dGVzLCBgICsKICAgICAgICBgbGFzdCBtb2RpZmllZDogJHsKICAgICAgICAgICAgZmlsZS5sYXN0TW9kaWZpZWREYXRlID8gZmlsZS5sYXN0TW9kaWZpZWREYXRlLnRvTG9jYWxlRGF0ZVN0cmluZygpIDoKICAgICAgICAgICAgICAgICAgICAgICAgICAgICAgICAgICAgJ24vYSd9IC0gYCkpOwogICAgY29uc3QgcGVyY2VudCA9IHNwYW4oJzAlIGRvbmUnKTsKICAgIGxpLmFwcGVuZENoaWxkKHBlcmNlbnQpOwoKICAgIG91dHB1dEVsZW1lbnQuYXBwZW5kQ2hpbGQobGkpOwoKICAgIGNvbnN0IGZpbGVEYXRhUHJvbWlzZSA9IG5ldyBQcm9taXNlKChyZXNvbHZlKSA9PiB7CiAgICAgIGNvbnN0IHJlYWRlciA9IG5ldyBGaWxlUmVhZGVyKCk7CiAgICAgIHJlYWRlci5vbmxvYWQgPSAoZSkgPT4gewogICAgICAgIHJlc29sdmUoZS50YXJnZXQucmVzdWx0KTsKICAgICAgfTsKICAgICAgcmVhZGVyLnJlYWRBc0FycmF5QnVmZmVyKGZpbGUpOwogICAgfSk7CiAgICAvLyBXYWl0IGZvciB0aGUgZGF0YSB0byBiZSByZWFkeS4KICAgIGxldCBmaWxlRGF0YSA9IHlpZWxkIHsKICAgICAgcHJvbWlzZTogZmlsZURhdGFQcm9taXNlLAogICAgICByZXNwb25zZTogewogICAgICAgIGFjdGlvbjogJ2NvbnRpbnVlJywKICAgICAgfQogICAgfTsKCiAgICAvLyBVc2UgYSBjaHVua2VkIHNlbmRpbmcgdG8gYXZvaWQgbWVzc2FnZSBzaXplIGxpbWl0cy4gU2VlIGIvNjIxMTU2NjAuCiAgICBsZXQgcG9zaXRpb24gPSAwOwogICAgZG8gewogICAgICBjb25zdCBsZW5ndGggPSBNYXRoLm1pbihmaWxlRGF0YS5ieXRlTGVuZ3RoIC0gcG9zaXRpb24sIE1BWF9QQVlMT0FEX1NJWkUpOwogICAgICBjb25zdCBjaHVuayA9IG5ldyBVaW50OEFycmF5KGZpbGVEYXRhLCBwb3NpdGlvbiwgbGVuZ3RoKTsKICAgICAgcG9zaXRpb24gKz0gbGVuZ3RoOwoKICAgICAgY29uc3QgYmFzZTY0ID0gYnRvYShTdHJpbmcuZnJvbUNoYXJDb2RlLmFwcGx5KG51bGwsIGNodW5rKSk7CiAgICAgIHlpZWxkIHsKICAgICAgICByZXNwb25zZTogewogICAgICAgICAgYWN0aW9uOiAnYXBwZW5kJywKICAgICAgICAgIGZpbGU6IGZpbGUubmFtZSwKICAgICAgICAgIGRhdGE6IGJhc2U2NCwKICAgICAgICB9LAogICAgICB9OwoKICAgICAgbGV0IHBlcmNlbnREb25lID0gZmlsZURhdGEuYnl0ZUxlbmd0aCA9PT0gMCA/CiAgICAgICAgICAxMDAgOgogICAgICAgICAgTWF0aC5yb3VuZCgocG9zaXRpb24gLyBmaWxlRGF0YS5ieXRlTGVuZ3RoKSAqIDEwMCk7CiAgICAgIHBlcmNlbnQudGV4dENvbnRlbnQgPSBgJHtwZXJjZW50RG9uZX0lIGRvbmVgOwoKICAgIH0gd2hpbGUgKHBvc2l0aW9uIDwgZmlsZURhdGEuYnl0ZUxlbmd0aCk7CiAgfQoKICAvLyBBbGwgZG9uZS4KICB5aWVsZCB7CiAgICByZXNwb25zZTogewogICAgICBhY3Rpb246ICdjb21wbGV0ZScsCiAgICB9CiAgfTsKfQoKc2NvcGUuZ29vZ2xlID0gc2NvcGUuZ29vZ2xlIHx8IHt9OwpzY29wZS5nb29nbGUuY29sYWIgPSBzY29wZS5nb29nbGUuY29sYWIgfHwge307CnNjb3BlLmdvb2dsZS5jb2xhYi5fZmlsZXMgPSB7CiAgX3VwbG9hZEZpbGVzLAogIF91cGxvYWRGaWxlc0NvbnRpbnVlLAp9Owp9KShzZWxmKTsK",
       "headers": [
        [
         "content-type",
         "application/javascript"
        ]
       ],
       "ok": true,
       "status": 200,
       "status_text": ""
      }
     }
    },
    "id": "AX1wES0HyldR",
    "outputId": "4f2835cd-c9b6-40c4-e2b2-fa2f6dedb04a"
   },
   "outputs": [
    {
     "data": {
      "text/html": [
       "\n",
       "     <input type=\"file\" id=\"files-51656571-a1e7-4c38-b891-f6d32766ccaf\" name=\"files[]\" multiple disabled\n",
       "        style=\"border:none\" />\n",
       "     <output id=\"result-51656571-a1e7-4c38-b891-f6d32766ccaf\">\n",
       "      Upload widget is only available when the cell has been executed in the\n",
       "      current browser session. Please rerun this cell to enable.\n",
       "      </output>\n",
       "      <script src=\"/nbextensions/google.colab/files.js\"></script> "
      ],
      "text/plain": [
       "<IPython.core.display.HTML object>"
      ]
     },
     "metadata": {
      "tags": []
     },
     "output_type": "display_data"
    },
    {
     "name": "stdout",
     "output_type": "stream",
     "text": [
      "Saving imdb_master.csv to imdb_master.csv\n"
     ]
    }
   ],
   "source": [
    "from google.colab import files\n",
    "uploaded = files.upload()\n"
   ]
  },
  {
   "cell_type": "code",
   "execution_count": 1,
   "metadata": {
    "ExecuteTime": {
     "end_time": "2021-06-10T12:21:40.079979Z",
     "start_time": "2021-06-10T12:21:31.211253Z"
    },
    "colab": {
     "base_uri": "https://localhost:8080/"
    },
    "id": "doo3sbF9zIC-",
    "outputId": "5035ade3-9f3a-467e-be44-24649bd3dfe9"
   },
   "outputs": [
    {
     "name": "stderr",
     "output_type": "stream",
     "text": [
      "[nltk_data] Downloading package stopwords to\n",
      "[nltk_data]     C:\\Users\\PC\\AppData\\Roaming\\nltk_data...\n",
      "[nltk_data]   Package stopwords is already up-to-date!\n"
     ]
    }
   ],
   "source": [
    "import numpy as np\n",
    "np.random.seed(13)\n",
    "import pandas as pd\n",
    "from keras.models import Sequential\n",
    "from keras.layers import Dense, Embedding, Lambda\n",
    "from keras.utils.data_utils import get_file\n",
    "from keras.utils import np_utils\n",
    "from keras.preprocessing import sequence\n",
    "from keras.preprocessing.text import Tokenizer\n",
    "from nltk.corpus import stopwords\n",
    "from collections import defaultdict\n",
    "import nltk\n",
    "nltk.download('stopwords')\n",
    "import pandas as pd\n",
    "import numpy as np\n",
    "import matplotlib.pyplot as plt\n",
    "import seaborn as sns\n",
    "import re\n",
    "import string\n",
    "from nltk.corpus import wordnet as wn\n",
    "from nltk.corpus import stopwords\n",
    "stopwords=set(stopwords.words('english'))\n",
    "from collections import defaultdict\n",
    "from collections import  Counter\n",
    "plt.style.use('ggplot')\n",
    "get_ipython().run_line_magic('matplotlib', 'inline')\n",
    "from nltk.stem import PorterStemmer\n",
    "from nltk.stem.snowball import *\n",
    "from nltk.tokenize import word_tokenize\n",
    "from nltk.tokenize import word_tokenize as WordTokenizer\n",
    "# Importing all required libraries for this task.\n",
    "from nltk.util import ngrams\n",
    "from nltk.metrics.distance import edit_distance\n",
    "from nltk.corpus import words\n",
    "from nltk.tokenize import RegexpTokenizer\n",
    "from itertools import chain\n",
    "import json\n",
    "from nltk.stem import WordNetLemmatizer\n",
    "from nltk.tokenize import PunktSentenceTokenizer\n",
    "from nltk.stem import *\n",
    "from nltk.corpus import wordnet as wn\n",
    "import time\n",
    "from tqdm import tqdm\n",
    "from difflib import SequenceMatcher\n",
    "lemmatizer = WordNetLemmatizer()\n",
    "from wordcloud import WordCloud"
   ]
  },
  {
   "cell_type": "code",
   "execution_count": 11,
   "metadata": {
    "ExecuteTime": {
     "end_time": "2021-06-10T12:21:42.784551Z",
     "start_time": "2021-06-10T12:21:41.460665Z"
    },
    "id": "pvTlhhG7zIFm"
   },
   "outputs": [],
   "source": [
    "df = pd.read_csv(\"imdb_master.csv\",encoding=\"latin-1\")\n",
    "df.head(10)\n",
    "\n",
    "import pandas as pd\n",
    "import io\n",
    "# df = pd.read_csv(io.StringIO(uploaded['imdb_master.csv'].decode('latin-1')))\n"
   ]
  },
  {
   "cell_type": "code",
   "execution_count": 12,
   "metadata": {
    "ExecuteTime": {
     "end_time": "2021-06-10T12:22:03.871222Z",
     "start_time": "2021-06-10T12:22:03.851274Z"
    },
    "colab": {
     "base_uri": "https://localhost:8080/",
     "height": 343
    },
    "id": "fH-S2OXLzIIF",
    "outputId": "c4b84c8d-87d8-41e3-a1b0-6a85ee47d65e"
   },
   "outputs": [
    {
     "data": {
      "text/html": [
       "<div>\n",
       "<style scoped>\n",
       "    .dataframe tbody tr th:only-of-type {\n",
       "        vertical-align: middle;\n",
       "    }\n",
       "\n",
       "    .dataframe tbody tr th {\n",
       "        vertical-align: top;\n",
       "    }\n",
       "\n",
       "    .dataframe thead th {\n",
       "        text-align: right;\n",
       "    }\n",
       "</style>\n",
       "<table border=\"1\" class=\"dataframe\">\n",
       "  <thead>\n",
       "    <tr style=\"text-align: right;\">\n",
       "      <th></th>\n",
       "      <th>Unnamed: 0</th>\n",
       "      <th>type</th>\n",
       "      <th>review</th>\n",
       "      <th>label</th>\n",
       "      <th>file</th>\n",
       "    </tr>\n",
       "  </thead>\n",
       "  <tbody>\n",
       "    <tr>\n",
       "      <th>0</th>\n",
       "      <td>0</td>\n",
       "      <td>test</td>\n",
       "      <td>Once again Mr. Costner has dragged out a movie...</td>\n",
       "      <td>neg</td>\n",
       "      <td>0_2.txt</td>\n",
       "    </tr>\n",
       "    <tr>\n",
       "      <th>1</th>\n",
       "      <td>1</td>\n",
       "      <td>test</td>\n",
       "      <td>This is an example of why the majority of acti...</td>\n",
       "      <td>neg</td>\n",
       "      <td>10000_4.txt</td>\n",
       "    </tr>\n",
       "    <tr>\n",
       "      <th>2</th>\n",
       "      <td>2</td>\n",
       "      <td>test</td>\n",
       "      <td>First of all I hate those moronic rappers, who...</td>\n",
       "      <td>neg</td>\n",
       "      <td>10001_1.txt</td>\n",
       "    </tr>\n",
       "    <tr>\n",
       "      <th>3</th>\n",
       "      <td>3</td>\n",
       "      <td>test</td>\n",
       "      <td>Not even the Beatles could write songs everyon...</td>\n",
       "      <td>neg</td>\n",
       "      <td>10002_3.txt</td>\n",
       "    </tr>\n",
       "    <tr>\n",
       "      <th>4</th>\n",
       "      <td>4</td>\n",
       "      <td>test</td>\n",
       "      <td>Brass pictures (movies is not a fitting word f...</td>\n",
       "      <td>neg</td>\n",
       "      <td>10003_3.txt</td>\n",
       "    </tr>\n",
       "    <tr>\n",
       "      <th>5</th>\n",
       "      <td>5</td>\n",
       "      <td>test</td>\n",
       "      <td>A funny thing happened to me while watching \"M...</td>\n",
       "      <td>neg</td>\n",
       "      <td>10004_2.txt</td>\n",
       "    </tr>\n",
       "    <tr>\n",
       "      <th>6</th>\n",
       "      <td>6</td>\n",
       "      <td>test</td>\n",
       "      <td>This German horror film has to be one of the w...</td>\n",
       "      <td>neg</td>\n",
       "      <td>10005_2.txt</td>\n",
       "    </tr>\n",
       "    <tr>\n",
       "      <th>7</th>\n",
       "      <td>7</td>\n",
       "      <td>test</td>\n",
       "      <td>Being a long-time fan of Japanese film, I expe...</td>\n",
       "      <td>neg</td>\n",
       "      <td>10006_2.txt</td>\n",
       "    </tr>\n",
       "    <tr>\n",
       "      <th>8</th>\n",
       "      <td>8</td>\n",
       "      <td>test</td>\n",
       "      <td>\"Tokyo Eyes\" tells of a 17 year old Japanese g...</td>\n",
       "      <td>neg</td>\n",
       "      <td>10007_4.txt</td>\n",
       "    </tr>\n",
       "    <tr>\n",
       "      <th>9</th>\n",
       "      <td>9</td>\n",
       "      <td>test</td>\n",
       "      <td>Wealthy horse ranchers in Buenos Aires have a ...</td>\n",
       "      <td>neg</td>\n",
       "      <td>10008_4.txt</td>\n",
       "    </tr>\n",
       "  </tbody>\n",
       "</table>\n",
       "</div>"
      ],
      "text/plain": [
       "   Unnamed: 0  type                                             review label  \\\n",
       "0           0  test  Once again Mr. Costner has dragged out a movie...   neg   \n",
       "1           1  test  This is an example of why the majority of acti...   neg   \n",
       "2           2  test  First of all I hate those moronic rappers, who...   neg   \n",
       "3           3  test  Not even the Beatles could write songs everyon...   neg   \n",
       "4           4  test  Brass pictures (movies is not a fitting word f...   neg   \n",
       "5           5  test  A funny thing happened to me while watching \"M...   neg   \n",
       "6           6  test  This German horror film has to be one of the w...   neg   \n",
       "7           7  test  Being a long-time fan of Japanese film, I expe...   neg   \n",
       "8           8  test  \"Tokyo Eyes\" tells of a 17 year old Japanese g...   neg   \n",
       "9           9  test  Wealthy horse ranchers in Buenos Aires have a ...   neg   \n",
       "\n",
       "          file  \n",
       "0      0_2.txt  \n",
       "1  10000_4.txt  \n",
       "2  10001_1.txt  \n",
       "3  10002_3.txt  \n",
       "4  10003_3.txt  \n",
       "5  10004_2.txt  \n",
       "6  10005_2.txt  \n",
       "7  10006_2.txt  \n",
       "8  10007_4.txt  \n",
       "9  10008_4.txt  "
      ]
     },
     "execution_count": 12,
     "metadata": {},
     "output_type": "execute_result"
    }
   ],
   "source": [
    " df.head(10)"
   ]
  },
  {
   "cell_type": "markdown",
   "metadata": {},
   "source": [
    "# EDA & data cleaning and preprocessing"
   ]
  },
  {
   "cell_type": "markdown",
   "metadata": {},
   "source": [
    "**EDA & Cleaning & Noising: Fares**\n",
    "\n",
    "**Data Preprocessing: Zulfiqar**"
   ]
  },
  {
   "cell_type": "markdown",
   "metadata": {},
   "source": [
    "## EDA"
   ]
  },
  {
   "cell_type": "markdown",
   "metadata": {},
   "source": [
    "**In this part we explore the dataset to see what we are dealing with**"
   ]
  },
  {
   "cell_type": "code",
   "execution_count": 13,
   "metadata": {
    "ExecuteTime": {
     "end_time": "2021-06-10T12:22:05.712686Z",
     "start_time": "2021-06-10T12:22:05.679750Z"
    },
    "id": "YT6LRBU0zIKk"
   },
   "outputs": [],
   "source": [
    "df_train = df[df['type']=='train'].reset_index(drop=True)"
   ]
  },
  {
   "cell_type": "code",
   "execution_count": 14,
   "metadata": {
    "ExecuteTime": {
     "end_time": "2021-06-10T12:22:19.417174Z",
     "start_time": "2021-06-10T12:22:19.403186Z"
    },
    "colab": {
     "base_uri": "https://localhost:8080/"
    },
    "id": "8aPmDGNYzIMg",
    "outputId": "c45b6abd-c39d-4f0e-a3c5-6e041faa9bb3"
   },
   "outputs": [
    {
     "data": {
      "text/plain": [
       "array(['neg', 'pos', 'unsup'], dtype=object)"
      ]
     },
     "execution_count": 14,
     "metadata": {},
     "output_type": "execute_result"
    }
   ],
   "source": [
    "df.label.unique()"
   ]
  },
  {
   "cell_type": "code",
   "execution_count": 15,
   "metadata": {},
   "outputs": [
    {
     "data": {
      "text/plain": [
       "<matplotlib.image.AxesImage at 0x2534c7f0940>"
      ]
     },
     "execution_count": 15,
     "metadata": {},
     "output_type": "execute_result"
    },
    {
     "data": {
      "image/png": "[encoded data removed]",
      "text/plain": [
       "<Figure size 720x1080 with 1 Axes>"
      ]
     },
     "metadata": {
      "needs_background": "light"
     },
     "output_type": "display_data"
    }
   ],
   "source": [
    "#Creating the word cloud to see what are the most common words in the dataset\n",
    "cloud_data = str(df[\"review\"])\n",
    "stopwordss=set(stopwords.words('english'))\n",
    "wordcloud = WordCloud(\n",
    "                          background_color='white',\n",
    "                          stopwords=stopwordss,\n",
    "                          max_words=300,\n",
    "                          max_font_size=25, \n",
    "                          random_state=42\n",
    "                         ).generate(cloud_data)\n",
    "plt.figure(figsize=(10,15))\n",
    "plt.imshow(wordcloud)"
   ]
  },
  {
   "cell_type": "markdown",
   "metadata": {},
   "source": [
    "**We see the number of reviews on each class to understand the nature of the words in the dataset**"
   ]
  },
  {
   "cell_type": "code",
   "execution_count": 16,
   "metadata": {
    "colab": {
     "base_uri": "https://localhost:8080/",
     "height": 356
    },
    "id": "8yDrT5q_VanR",
    "outputId": "b15fa9cb-6e25-43c4-f265-2f14ccc79649"
   },
   "outputs": [
    {
     "data": {
      "image/png": "[encoded data removed]",
      "text/plain": [
       "<Figure size 720x360 with 3 Axes>"
      ]
     },
     "metadata": {
      "needs_background": "light"
     },
     "output_type": "display_data"
    }
   ],
   "source": [
    "fig,(ax1,ax2,ax3)=plt.subplots(1,3,figsize=(10,5))\n",
    "df_train_len=df_train[df_train['label']=='neg']['review'].str.len()\n",
    "ax1.hist(df_train_len,color='red')\n",
    "ax1.set_title('neg')\n",
    "df_train_len=df_train[df_train['label']=='pos']['review'].str.len()\n",
    "ax2.hist(df_train_len,color='green')\n",
    "ax2.set_title('pos')\n",
    "df_train_len=df_train[df_train['label']=='unsup']['review'].str.len()\n",
    "ax3.hist(df_train_len,color='blue')\n",
    "ax3.set_title('unsup')\n",
    "fig.suptitle('Characters in Review')\n",
    "plt.show()"
   ]
  },
  {
   "cell_type": "code",
   "execution_count": 17,
   "metadata": {
    "colab": {
     "base_uri": "https://localhost:8080/",
     "height": 356
    },
    "id": "Hd4a6VnpVcRS",
    "outputId": "3a32a0a0-4be6-4c84-b077-04a2d0baf015"
   },
   "outputs": [
    {
     "data": {
      "image/png": "[encoded data removed]",
      "text/plain": [
       "<Figure size 720x360 with 3 Axes>"
      ]
     },
     "metadata": {
      "needs_background": "light"
     },
     "output_type": "display_data"
    }
   ],
   "source": [
    "fig,(ax1,ax2,ax3)=plt.subplots(1,3,figsize=(10,5))\n",
    "df_train_len=df_train[df_train['label']=='neg']['review'].str.split().map(lambda x: len(x))\n",
    "ax1.hist(df_train_len,color='red')\n",
    "ax1.set_title('neg')\n",
    "df_train_len=df_train[df_train['label']=='pos']['review'].str.split().map(lambda x: len(x))\n",
    "ax2.hist(df_train_len,color='green')\n",
    "ax2.set_title('pos')\n",
    "df_train_len=df_train[df_train['label']=='unsup']['review'].str.split().map(lambda x: len(x))\n",
    "ax3.hist(df_train_len,color='blue')\n",
    "ax3.set_title('unsup')\n",
    "fig.suptitle('Words in Review')\n",
    "plt.show()\n"
   ]
  },
  {
   "cell_type": "markdown",
   "metadata": {},
   "source": [
    "**Creating our corpus by taking the colum of reviews and adding it to our corpus to perform the NLP-specific EDA on**"
   ]
  },
  {
   "cell_type": "code",
   "execution_count": 18,
   "metadata": {
    "ExecuteTime": {
     "end_time": "2021-06-10T12:22:25.599898Z",
     "start_time": "2021-06-10T12:22:22.266452Z"
    },
    "id": "le4yT9HczIQD"
   },
   "outputs": [],
   "source": [
    "\n",
    "corpus=[]\n",
    "for x in df_train['review'].str.split():\n",
    "    for i in x:\n",
    "        corpus.append(i)\n"
   ]
  },
  {
   "cell_type": "code",
   "execution_count": 19,
   "metadata": {
    "ExecuteTime": {
     "end_time": "2021-06-10T12:22:30.717170Z",
     "start_time": "2021-06-10T12:22:28.115299Z"
    },
    "id": "s-6nrD0zB0l2"
   },
   "outputs": [],
   "source": [
    "\n",
    "from nltk.corpus import stopwords\n",
    "stop_words = set(stopwords.words(\"english\"))\n",
    "from collections import defaultdict\n",
    "\n",
    "dic=defaultdict(int)\n",
    "for word in corpus:\n",
    "    if word in stop_words:\n",
    "        dic[word]+=1\n",
    "        \n",
    "top=sorted(dic.items(), key=lambda x:x[1],reverse=True)[:10] \n"
   ]
  },
  {
   "cell_type": "markdown",
   "metadata": {},
   "source": [
    "**Reviewing the number of stopwords in the dataset**"
   ]
  },
  {
   "cell_type": "code",
   "execution_count": 20,
   "metadata": {
    "colab": {
     "base_uri": "https://localhost:8080/",
     "height": 320
    },
    "id": "42XtjlHFVe73",
    "outputId": "4ef58822-ac54-4a62-b825-1764419f1c09",
    "scrolled": true
   },
   "outputs": [
    {
     "data": {
      "image/png": "[encoded data removed]",
      "text/plain": [
       "<Figure size 720x360 with 1 Axes>"
      ]
     },
     "metadata": {
      "needs_background": "light"
     },
     "output_type": "display_data"
    }
   ],
   "source": [
    "plt.figure(figsize=(10,5))\n",
    "x,y=zip(*top)\n",
    "plt.bar(x,y)\n",
    "plt.show()"
   ]
  },
  {
   "cell_type": "markdown",
   "metadata": {},
   "source": [
    "**Viewing the number of punctuation in the dataset**"
   ]
  },
  {
   "cell_type": "code",
   "execution_count": 21,
   "metadata": {
    "colab": {
     "base_uri": "https://localhost:8080/",
     "height": 320
    },
    "id": "HxHlBQOLVjbe",
    "outputId": "28973e13-07d1-4471-af9c-f83bdb172b09"
   },
   "outputs": [
    {
     "data": {
      "image/png": "[encoded data removed]",
      "text/plain": [
       "<Figure size 720x360 with 1 Axes>"
      ]
     },
     "metadata": {
      "needs_background": "light"
     },
     "output_type": "display_data"
    }
   ],
   "source": [
    "plt.figure(figsize=(10,5))\n",
    "dic=defaultdict(int)\n",
    "special = string.punctuation\n",
    "for i in (corpus):\n",
    "    if i in special:\n",
    "        dic[i]+=1\n",
    "        \n",
    "x,y=zip(*dic.items())\n",
    "plt.bar(x,y)\n",
    "plt.show()\n"
   ]
  },
  {
   "cell_type": "markdown",
   "metadata": {},
   "source": [
    "**Viewing the most common words in the dataset**"
   ]
  },
  {
   "cell_type": "code",
   "execution_count": 22,
   "metadata": {
    "colab": {
     "base_uri": "https://localhost:8080/",
     "height": 282
    },
    "id": "0Y41H59kVlMW",
    "outputId": "3251d2c2-e1e1-4a7c-c038-cbff9bc6aa9c"
   },
   "outputs": [
    {
     "data": {
      "text/plain": [
       "<AxesSubplot:>"
      ]
     },
     "execution_count": 22,
     "metadata": {},
     "output_type": "execute_result"
    },
    {
     "data": {
      "image/png": "[encoded data removed]",
      "text/plain": [
       "<Figure size 432x288 with 1 Axes>"
      ]
     },
     "metadata": {
      "needs_background": "light"
     },
     "output_type": "display_data"
    }
   ],
   "source": [
    "counter=Counter(corpus)\n",
    "most=counter.most_common()\n",
    "x=[]\n",
    "y=[]\n",
    "for word,count in most[:40]:\n",
    "    if (word not in stop_words) :\n",
    "        x.append(word)\n",
    "        y.append(count)\n",
    "\n",
    "sns.barplot(x=y,y=x)\n"
   ]
  },
  {
   "cell_type": "markdown",
   "metadata": {},
   "source": [
    "## Data Cleaning"
   ]
  },
  {
   "cell_type": "markdown",
   "metadata": {},
   "source": [
    "**Here we start to clean our dataset from all the unnecessary data using some helper functions based on Regex**\n",
    "\n",
    "<ul>\n",
    "    <li><strong>URL_remove:</strong> this function removes any URLs from the dataset</li>\n",
    "    <li><strong>html_remove:</strong> this function removes any HTML tags from the dataset</li>\n",
    "    <li><strong>emoji_remove:</strong> as this is a movie review, it can be written from mobile phones and containing emojis; this function removes any emojis in the dataset</li>\n",
    "    <li><strong>punct_remove:</strong> this function removes all the punctiuation as it is useless and makes the dataset so big and adding a lot of computational power</li>\n",
    "    <li><strong>text_cleaning:</strong> this is a general function that contains some regex expressions to perform further cleaning on the data</li>\n",
    "    <li><strong>str.lower:</strong> this function call from str library makes all the characters is lowercase</li>\n",
    "</ul>"
   ]
  },
  {
   "cell_type": "code",
   "execution_count": 23,
   "metadata": {
    "ExecuteTime": {
     "end_time": "2021-06-10T12:22:33.153343Z",
     "start_time": "2021-06-10T12:22:33.138652Z"
    },
    "id": "ngIK7d2zB0oc"
   },
   "outputs": [],
   "source": [
    "def URL_remove(text):\n",
    "    url = re.compile(r'https?://\\S+|www\\.\\S+')\n",
    "    return url.sub(r'',text)\n",
    "\n",
    "def html_remove(text):\n",
    "    html=re.compile(r'<.*?>')\n",
    "    return html.sub(r'',text)\n",
    "\n",
    "def emoji_remove(text):\n",
    "    emoji_pattern = re.compile(\"[\"\n",
    "                           u\"\\U0001F600-\\U0001F64F\"  # emoticons\n",
    "                           u\"\\U0001F300-\\U0001F5FF\"  # symbols & pictographs\n",
    "                           u\"\\U0001F680-\\U0001F6FF\"  # transport & map symbols\n",
    "                           u\"\\U0001F1E0-\\U0001F1FF\"  # flags (iOS)\n",
    "                           u\"\\U00002702-\\U000027B0\"\n",
    "                           u\"\\U000024C2-\\U0001F251\"\n",
    "                           \"]+\", flags=re.UNICODE)\n",
    "    return emoji_pattern.sub(r'', text)\n",
    "\n",
    "def punct_remove(text):\n",
    "    table=str.maketrans('','',string.punctuation)\n",
    "    return text.translate(table)\n",
    "\n",
    "def text_cleaning(text):\n",
    "    text = re.sub('\\[.*?\\]', '', text)\n",
    "    text = re.sub('\\w*\\d\\w*', '', text)\n",
    "    text = re.sub('[‘’“”…]', '', text)\n",
    "    text = re.sub('\\n', '', text)\n",
    "    return text\n"
   ]
  },
  {
   "cell_type": "code",
   "execution_count": 24,
   "metadata": {
    "ExecuteTime": {
     "end_time": "2021-06-10T12:22:40.571115Z",
     "start_time": "2021-06-10T12:22:35.624614Z"
    },
    "id": "YSBUclGSB0qz"
   },
   "outputs": [],
   "source": [
    "\n",
    "df['review']=df['review'].apply(lambda x : URL_remove(x))\n",
    "df['review']=df['review'].apply(lambda x : html_remove(x))\n",
    "df['review']=df['review'].apply(lambda x: emoji_remove(x))\n",
    "# df['review']=df['review'].apply(lambda x : punct_remove(x))\n",
    "# df['review']=df['review'].apply(lambda x: text_cleaning(x))\n",
    "df['review']=df['review'].str.lower()\n",
    "df=df.drop(['Unnamed: 0', 'file'], axis=1)\n"
   ]
  },
  {
   "cell_type": "markdown",
   "metadata": {},
   "source": [
    "**Splitting the data into training and testing after cleaning**"
   ]
  },
  {
   "cell_type": "code",
   "execution_count": 25,
   "metadata": {
    "ExecuteTime": {
     "end_time": "2021-06-10T12:22:43.335532Z",
     "start_time": "2021-06-10T12:22:43.304738Z"
    },
    "colab": {
     "base_uri": "https://localhost:8080/",
     "height": 195
    },
    "id": "gsbtPV7sB0tE",
    "outputId": "d6fac24f-4daf-4d82-92af-2e967491850b"
   },
   "outputs": [
    {
     "data": {
      "text/html": [
       "<div>\n",
       "<style scoped>\n",
       "    .dataframe tbody tr th:only-of-type {\n",
       "        vertical-align: middle;\n",
       "    }\n",
       "\n",
       "    .dataframe tbody tr th {\n",
       "        vertical-align: top;\n",
       "    }\n",
       "\n",
       "    .dataframe thead th {\n",
       "        text-align: right;\n",
       "    }\n",
       "</style>\n",
       "<table border=\"1\" class=\"dataframe\">\n",
       "  <thead>\n",
       "    <tr style=\"text-align: right;\">\n",
       "      <th></th>\n",
       "      <th>type</th>\n",
       "      <th>review</th>\n",
       "      <th>label</th>\n",
       "    </tr>\n",
       "  </thead>\n",
       "  <tbody>\n",
       "    <tr>\n",
       "      <th>0</th>\n",
       "      <td>train</td>\n",
       "      <td>story of a man who has unnatural feelings for ...</td>\n",
       "      <td>neg</td>\n",
       "    </tr>\n",
       "    <tr>\n",
       "      <th>1</th>\n",
       "      <td>train</td>\n",
       "      <td>airport '77 starts as a brand new luxury 747 p...</td>\n",
       "      <td>neg</td>\n",
       "    </tr>\n",
       "    <tr>\n",
       "      <th>2</th>\n",
       "      <td>train</td>\n",
       "      <td>this film lacked something i couldn't put my f...</td>\n",
       "      <td>neg</td>\n",
       "    </tr>\n",
       "    <tr>\n",
       "      <th>3</th>\n",
       "      <td>train</td>\n",
       "      <td>sorry everyone,,, i know this is supposed to b...</td>\n",
       "      <td>neg</td>\n",
       "    </tr>\n",
       "    <tr>\n",
       "      <th>4</th>\n",
       "      <td>train</td>\n",
       "      <td>when i was little my parents took me along to ...</td>\n",
       "      <td>neg</td>\n",
       "    </tr>\n",
       "  </tbody>\n",
       "</table>\n",
       "</div>"
      ],
      "text/plain": [
       "    type                                             review label\n",
       "0  train  story of a man who has unnatural feelings for ...   neg\n",
       "1  train  airport '77 starts as a brand new luxury 747 p...   neg\n",
       "2  train  this film lacked something i couldn't put my f...   neg\n",
       "3  train  sorry everyone,,, i know this is supposed to b...   neg\n",
       "4  train  when i was little my parents took me along to ...   neg"
      ]
     },
     "execution_count": 25,
     "metadata": {},
     "output_type": "execute_result"
    }
   ],
   "source": [
    "\n",
    "df_train_clean = df[df['type']=='train'].reset_index(drop=True)\n",
    "df_test_clean = df[df['type']=='test'].reset_index(drop=True)\n",
    "df_train_clean.head()\n"
   ]
  },
  {
   "cell_type": "code",
   "execution_count": 26,
   "metadata": {
    "ExecuteTime": {
     "end_time": "2021-06-10T12:22:45.828483Z",
     "start_time": "2021-06-10T12:22:45.813048Z"
    },
    "colab": {
     "base_uri": "https://localhost:8080/"
    },
    "id": "6pJhopCXB0yD",
    "outputId": "9cc6785d-e6cb-4040-d543-0ace3eecd43b"
   },
   "outputs": [
    {
     "data": {
      "text/plain": [
       "['story of a man who has unnatural feelings for a pig',\n",
       " ' starts out with a opening scene that is a terrific example of absurd comedy',\n",
       " \" a formal orchestra audience is turned into an insane, violent mob by the crazy chantings of it's singers\",\n",
       " ' unfortunately it stays absurd the whole time with no general narrative eventually making it just too off putting',\n",
       " ' even those from the era should be turned off',\n",
       " ' the cryptic dialogue would make shakespeare seem easy to a third grader',\n",
       " \" on a technical level it's better than you might think with some good cinematography by future great vilmos zsigmond\",\n",
       " ' future stars sally kirkland and frederic forrest can be seen briefly',\n",
       " '']"
      ]
     },
     "execution_count": 26,
     "metadata": {},
     "output_type": "execute_result"
    }
   ],
   "source": [
    "len(df_train_clean[\"review\"])\n",
    "df_train_clean[\"review\"][0].split('.')\n"
   ]
  },
  {
   "cell_type": "code",
   "execution_count": 27,
   "metadata": {
    "ExecuteTime": {
     "end_time": "2021-06-10T12:22:48.340330Z",
     "start_time": "2021-06-10T12:22:48.277787Z"
    },
    "colab": {
     "base_uri": "https://localhost:8080/"
    },
    "id": "tAlvJwjXB00V",
    "outputId": "bbb2bb4e-d521-496b-f96d-e11c36b3b0d2"
   },
   "outputs": [
    {
     "name": "stdout",
     "output_type": "stream",
     "text": [
      "story of a man who has unnatural feelings for a pig\n"
     ]
    },
    {
     "data": {
      "text/plain": [
       "215413"
      ]
     },
     "execution_count": 27,
     "metadata": {},
     "output_type": "execute_result"
    }
   ],
   "source": [
    "splitted_reviews=[]\n",
    "splitted_reviews_sentences=[]\n",
    "for i in range(len(df_train_clean[\"review\"])-74000):\n",
    "    splitted_reviews+=df_train_clean[\"review\"][i].split(' ')\n",
    "    #splitted_reviews_sentences.append(df_train_clean[\"review\"][i].split('.'))\n",
    "    splitted_reviews_sentences+=df_train_clean[\"review\"][i].split('.')\n",
    "\n",
    "    \n",
    "len(splitted_reviews)\n",
    "print(splitted_reviews_sentences[0])\n",
    "len(splitted_reviews_sentences)\n",
    "len(splitted_reviews)\n"
   ]
  },
  {
   "cell_type": "code",
   "execution_count": 28,
   "metadata": {
    "ExecuteTime": {
     "end_time": "2021-06-10T12:22:51.291403Z",
     "start_time": "2021-06-10T12:22:51.041039Z"
    },
    "id": "N4aU6Rbbkol2"
   },
   "outputs": [],
   "source": [
    "\n",
    "upd_splitted_reviews_sentences=[]\n",
    "for i in splitted_reviews_sentences:\n",
    "    x=punct_remove(i)\n",
    "    xx=text_cleaning(x)\n",
    "    upd_splitted_reviews_sentences.append(xx)"
   ]
  },
  {
   "cell_type": "code",
   "execution_count": 29,
   "metadata": {
    "ExecuteTime": {
     "end_time": "2021-06-10T12:22:55.162992Z",
     "start_time": "2021-06-10T12:22:53.947787Z"
    },
    "id": "a2UnKIDMkooU"
   },
   "outputs": [],
   "source": [
    "upd_splitted_reviews_words=[]\n",
    "for i in splitted_reviews:\n",
    "    x=punct_remove(i)\n",
    "    xx=text_cleaning(x)\n",
    "    upd_splitted_reviews_words.append(xx)"
   ]
  },
  {
   "cell_type": "code",
   "execution_count": 30,
   "metadata": {
    "ExecuteTime": {
     "end_time": "2021-06-10T12:22:57.877978Z",
     "start_time": "2021-06-10T12:22:57.805110Z"
    },
    "colab": {
     "base_uri": "https://localhost:8080/"
    },
    "id": "huNIjN-9koqr",
    "outputId": "3f5bc763-a3a0-411f-f0c9-8910493bfa77"
   },
   "outputs": [
    {
     "data": {
      "text/plain": [
       "['story of a man who has unnatural feelings for a pig',\n",
       " 'starts out with a opening scene that is a terrific example of absurd comedy',\n",
       " 'a formal orchestra audience is turned into an insane violent mob by the crazy chantings of its singers',\n",
       " 'unfortunately it stays absurd the whole time with no general narrative eventually making it just too off putting',\n",
       " 'even those from the era should be turned off',\n",
       " 'the cryptic dialogue would make shakespeare seem easy to a third grader',\n",
       " 'on a technical level its better than you might think with some good cinematography by future great vilmos zsigmond',\n",
       " 'future stars sally kirkland and frederic forrest can be seen briefly',\n",
       " 'airport  starts as a brand new luxury  plane is loaded up with valuable paintings  such belonging to rich businessman philip stevens james stewart who is flying them  a bunch of vips to his estate in preparation of it being opened to the public as a museum also on board is stevens daughter julie kathleen quinlan  her son',\n",
       " 'the luxury jetliner takes off as planned but midair the plane is hijacked by the copilot chambers robert foxworth  his two accomplices banker monte markham  wilson michael pataki who knock the passengers  crew out with sleeping gas they plan to steal the valuable cargo  land on a disused plane strip on an isolated island but while making his descent chambers almost hits an oil rig in the ocean  loses control of the plane sending it crashing into the sea where it sinks to the bottom right bang in the middle of the bermuda triangle',\n",
       " 'with air in short supply water leaking in  having flown over  miles off course the problems mount for the survivors as they await help with time fast running out',\n",
       " 'also known under the slightly different tile airport  this second sequel to the smashhit disaster thriller airport  was directed by jerry jameson  while once again like its predecessors i cant say airport  is any sort of forgotten classic it is entertaining although not necessarily for the right reasons',\n",
       " 'out of the three airport films i have seen so far i actually liked this one the best just',\n",
       " 'it has my favourite plot of the three with a nice midair hijacking  then the crashing didnt he see the oil rig  sinking of the  maybe the makers were trying to cross the original airport with another popular disaster flick of the period the poseidon adventure   submerged is where it stays until the end with a stark dilemma facing those trapped inside either suffocate when the air runs out or drown as the  floods or if any of the doors are opened  its a decent idea that could have made for a great little disaster flick but bad unsympathetic characters dull dialogue lethargic setpieces  a real lack of danger or suspense or tension means this is a missed opportunity',\n",
       " 'while the rather sluggish plot keeps one entertained for  odd minutes not that much happens after the plane sinks  theres not as much urgency as i thought there should have been',\n",
       " 'even when the navy become involved things dont pick up that much with a few shots of huge ships  helicopters flying about but theres just something lacking here',\n",
       " 'george kennedy as the jinxed airline worker joe patroni is back but only gets a couple of scenes  barely even says anything preferring to just look worried in the background',\n",
       " 'the home video  theatrical version of airport  run  minutes while the us tv versions add an extra hour of footage including a new opening credits sequence many more scenes with george kennedy as patroni flashbacks to flesh out characters longer rescue scenes  the discovery or another couple of dead bodies including the navigator',\n",
       " 'while i would like to see this extra footage i am not sure i could sit through a near three hour cut of airport',\n",
       " 'as expected the film has dated badly with horrible fashions  interior design choices i will say no more other than the toy plane model effects arent great either',\n",
       " 'along with the other two airport sequels this takes pride of place in the razzie awards hall of shame although i can think of lots of worse films than this so i reckon thats a little harsh',\n",
       " 'the action scenes are a little dull unfortunately the pace is slow  not much excitement or tension is generated which is a shame as i reckon this could have been a pretty good film if made properly',\n",
       " 'the production values are alright if nothing spectacular',\n",
       " 'the acting isnt great two time oscar winner jack lemmon has said since it was a mistake to star in this one time oscar winner james stewart looks old  frail also one time oscar winner lee grant looks drunk while sir christopher lee is given little to do  there are plenty of other familiar faces to look out for too',\n",
       " 'airport  is the most disaster orientated of the three airport films so far  i liked the ideas behind it even if they were a bit silly the production  bland direction doesnt help though  a film about a sunken plane just shouldnt be this boring or lethargic',\n",
       " 'followed by the concorde',\n",
       " 'airport',\n",
       " 'this film lacked something i couldnt put my finger on at first charisma on the part of the leading actress',\n",
       " 'this inevitably translated to lack of chemistry when she shared the screen with her leading man',\n",
       " 'even the romantic scenes came across as being merely the actors at play',\n",
       " 'it could very well have been the director who miscalculated what he needed from the actors',\n",
       " 'i just dont know',\n",
       " 'but could it have been the screenplay just exactly who was the chef in love with he seemed more enamored of his culinary skills and restaurant and ultimately of himself and his youthful exploits than of anybody or anything else',\n",
       " 'he never convinced me he was in love with the princess',\n",
       " 'i was disappointed in this movie',\n",
       " 'but dont forget it was nominated for an oscar so judge for yourself',\n",
       " 'sorry everyone i know this is supposed to be an art film but wow they should have handed out guns at the screening so people could blow their brains out and not watch',\n",
       " 'although the scene design and photographic direction was excellent this story is too painful to watch',\n",
       " 'the absence of a sound track was brutal',\n",
       " 'the loooonnnnng shots were too long',\n",
       " 'how long can you watch two people just sitting there and talking especially when the dialogue is two people complaining',\n",
       " 'i really had a hard time just getting through this film',\n",
       " 'the performances were excellent but how much of that dark sombre uninspired stuff can you take the only thing i liked was maureen stapleton and her red dress and dancing scene',\n",
       " 'otherwise this was a ripoff of bergman',\n",
       " 'and im no fan f his either',\n",
       " 'i think anyone who says they enjoyed   hours of this is well lying',\n",
       " 'when i was little my parents took me along to the theater to see interiors',\n",
       " 'it was one of many movies i watched with my parents but this was the only one we walked out of',\n",
       " 'since then i had never seen interiors until just recently and i could have lived out the rest of my life without it',\n",
       " 'what a pretentious ponderous and painfully boring piece of  wine and cheese tripe',\n",
       " 'woody allen is one of my favorite directors but interiors is by far the worst piece of crap of his career',\n",
       " 'in the unmistakable style of ingmar berman allen gives us a dark angular muted insight in to the lives of a family wrought by the psychological damage caused by divorce estrangement career love nonlove halitosis whatever',\n",
       " 'the film intentionally has no comic relief no music and is drenched in shadowy pathos',\n",
       " 'this film style can be best defined as expressionist in nature using an improvisational method of dialogue to illicit a more pronounced depth of meaning and truth',\n",
       " 'but woody allen is no ingmar bergman',\n",
       " 'the film is painfully slow and dull',\n",
       " 'but beyond that i simply had no connection with or sympathy for any of the characters',\n",
       " 'instead i felt only contempt for this parade of shuffling whining nicotine stained martyrs in a perpetual quest for identity',\n",
       " 'amid a backdrop of cosmopolitan affluence and baked brie intelligentsia the story looms like a fart in the room',\n",
       " 'everyone speaks in affected platitudes and elevated language between cigarettes',\n",
       " 'everyone is lost and struggling desperate to find direction or understanding or whatever and it just goes on and on to the point where you just want to slap all of them',\n",
       " 'its never about resolution its only about interminable introspective babble',\n",
       " 'it is nothing more than a psychological drama taken to an extreme beyond the audiences ability to connect',\n",
       " 'woody allen chose to make characters so immersed in themselves we feel left out',\n",
       " 'and for that reason i found this movie painfully self indulgent and spiritually draining',\n",
       " 'i see what he was going for but his insistence on promoting his message through prozac prose and distorted film techniques jettisons it past the point of relevance',\n",
       " 'i highly recommend this one if youre feeling a little too happy and need something to remind you of death',\n",
       " 'otherwise lets just pretend this film never happened',\n",
       " 'it appears that many critics find the idea of a woody allen drama unpalatable',\n",
       " 'and for good reason they are unbearably wooden and pretentious imitations of bergman',\n",
       " 'and lets not kid ourselves critics were mostly supportive of allens bergman pretensions allens whining accusations to the contrary notwithstanding',\n",
       " 'what i dont get is this why was allen generally applauded for his originality in imitating bergman but the contemporaneous brian depalma was excoriated for ripping off hitchcock in his suspensehorror films in robin woods view its a strange form of cultural snobbery',\n",
       " 'i would have to agree with that',\n",
       " 'the second attempt by a new york intellectual in less than  years to make a swedish film  the first being susan sontags brother carl which was made in sweden with swedish actors no less the results oscar wilde said it best in reference to dickens the old curiosity shop one would have to have a heart of stone not to laugh out loud at the death of little nell',\n",
       " 'pretty much the same thing here',\n",
       " 'interiors is chock full of solemnly intoned howlers',\n",
       " 'im afraid of my anger',\n",
       " 'looking into the middle distance i dont like who im becoming',\n",
       " 'the directorial quotations to use a polite term from bergman are close to parody',\n",
       " 'the incredibly selfinvolved family keep reminding us of how brilliant and talented they are to the point of strangulation',\n",
       " 'i read a poem of yours the other day',\n",
       " 'it was in  i dont know  the new yorker',\n",
       " 'oh',\n",
       " 'that was an old poem',\n",
       " 'i reworked it',\n",
       " 'far from not caring about these people however i found them quite hilarious',\n",
       " 'much of the dialog is exactly like the funny stuff from allens earlier films  only hes directed his actors to play the lines straight',\n",
       " 'having not cast himself in the movie he has poor mary beth hurt copy all of his thespian tics intonations and neurotic habits turning her into an embarrassing surrogate much like kenneth branagh in celebrity',\n",
       " 'the basic plot  dysfunctional family with quietly domineering mother  seems to be lifted more or less from bergmans winter light the basic family melodrama tricked up with a lot of existential angst',\n",
       " 'it all comes through in the shopworn visualaural tricks the deafening scratching of a pencil on paper the towering surf that dwarfs the people walking on the beach',\n",
       " 'etc etc',\n",
       " 'allens later serious films are less embarrassing but also far less entertaining',\n",
       " 'ill take interiors',\n",
       " 'woodys rarely made a funnier movie',\n",
       " 'i dont know who to blame the timid writers or the clueless director',\n",
       " 'it seemed to be one of those movies where so much was paid to the stars angie charlie denise rosanna and jon that there wasnt enough left to really make a movie',\n",
       " 'this could have been very entertaining but there was a veil of timidity even cowardice that hung over each scene',\n",
       " 'since it got an r rating anyway why was the ubiquitous bubble bath scene shot with a  woman and not angie harmon why does sheen sleepwalk through potentially hot relationships with two of the most beautiful and sexy actresses in the world if they were only looking for laughs why not cast whoopi goldberg and judy tenuta instead this was so predictable i was surprised to find that the director wasnt a five year old',\n",
       " 'what a waste not just for the viewers but for the actors as well',\n",
       " 'this film is mediocre at best',\n",
       " 'angie harmon is as funny as a bag of hammers',\n",
       " 'her bitchy demeanor from law and order carries over in a failed attempt at comedy',\n",
       " 'charlie sheen is the only one to come out unscathed in this horrible anticomedy',\n",
       " 'the only positive thing to come out of this mess is charlie and denises marriage',\n",
       " 'hopefully that effort produces better results',\n",
       " 'the film is bad',\n",
       " 'there is no other way to say it',\n",
       " 'the story is weak and outdated especially for this country',\n",
       " 'i dont think most people know what a walker is or will really care',\n",
       " 'i felt as if i was watching a movie from the',\n",
       " 'the subject was just not believable for the year  even being set in dc',\n",
       " 'i think this rang true for everyone else who watched it too as the applause were low and quick at the end',\n",
       " 'most didnt stay for the qa either',\n",
       " 'i dont think schrader really thought the film out ahead of time',\n",
       " 'many of the scenes seemed to be cut short as if they were never finished or he just didnt know how to finish them',\n",
       " 'he jumped from one scene to the next and you had to try and figure out or guess what was going on',\n",
       " 'i really didnt get woodys carter private life or boyfriend either',\n",
       " 'what were all the artistic male bondage and torture pictures from iraq prisons about what was he thinking i think it was his very poor attempt at trying to create this dark private subculture life for woodys character car',\n",
       " 'it didnt work',\n",
       " 'it didnt even seem to make sense really',\n",
       " 'the only good thing about this film was woody harrelson',\n",
       " 'he played his character car flawlessly',\n",
       " 'you really did get a great sense of what a walker may have been like say twenty years ago',\n",
       " 'he was great and most likely will never get recognized for it',\n",
       " 'as for lauren lily and kristin',\n",
       " 'boring',\n",
       " 'dont see it it is painful unless you are a true harrelson fan',\n",
       " 'this film is one giant pant load',\n",
       " 'paul schrader is utterly lost in his own bad screenplay',\n",
       " 'and his directing is about as comatose as it can be without his actually having been sleepwalking during the process',\n",
       " 'the worst though is woody harrelson whom i ordinarily like when hes properly cast',\n",
       " 'he plays the walker a homosexual man in d',\n",
       " 'c',\n",
       " 'who plays social companion to the bored wives of the washington elite',\n",
       " 'he couldnt have been more one dimensional if he had been cut out of a magazine and bounced around in front of the camera on a popsicle stick',\n",
       " 'his southern accent is that off the rack version that decrescendos from the beginning to the end of every line he delivers as though the heat and humidity of the south is still draining him of every ounce of energy he has',\n",
       " 'it is monotonous',\n",
       " 'but his is not the worst accent in the movie',\n",
       " 'his boyfriend played by moritz bleibtreau attempts to affect some kind of a mid east accent that is so clumsy he can barely deliver the bad lines written for him',\n",
       " 'he is incapable of rolling his rs in spite of the fact that in real life he is german and speaks several languages  one of them being italian thats kind of a good reason to cast someone else dont ya think from the story to the screenplay to the directing to the camera work to the performances by the leads this movie is bad from beginning to end',\n",
       " 'the only tolerable moments in this film came from three supporting actresses lily tomlin lauren bacall and kristin scott thomas',\n",
       " 'only these three managed to make it through this movie with their dignity in tact',\n",
       " 'in fact all three are excellent in spite of being trapped in a really bad film',\n",
       " 'ufortunately no one could ever be good enough to redeem this endless series of flaws',\n",
       " 'if you like these three actresses watch them in something else',\n",
       " 'this movie is not worth your time',\n",
       " 'the plot for descent if it actually can be called a plot has two noteworthy events',\n",
       " 'one near the beginning  one at the end',\n",
       " 'together these events make up maybe  of the total movie time',\n",
       " 'everything and i mean everything in between is basically the directors desperate effort to fill in the minutes',\n",
       " 'i like disturbing movies i like dark movies and i dont get troubled by gritty scenes  but if you expect me to sit through  minutes of hazydark literally scenes with no storyline you have another thing coming',\n",
       " 'rosario dawson one of my favorite actresses is completely wasted here',\n",
       " 'and no she doesnt get naked not even in the  version which i saw',\n",
       " 'if you have a couple of hours to throw away and want to watch descent take a nap instead  youll probably have more interesting dreams',\n",
       " 'plot is not worth discussion even if it hints at corruption murder power and the rest of thriller related topics',\n",
       " 'characters are interesting though sometimes',\n",
       " 'not realistic but interesting nevertheless',\n",
       " 'development is slow like tea drinking ceremony',\n",
       " 'visuals not stunning but good enough to ease the eye strain',\n",
       " 'good movie to watch after dinner before going to bed  nothing shocking too much nothing overexciting',\n",
       " 'movie sitcom style',\n",
       " 'i liked woody  excellent performance',\n",
       " 'had to fight the plot inadequacy and did the job pretty good',\n",
       " 'the rest are bearable though very predictable',\n",
       " 'the whole is watchable and better than most tv shows',\n",
       " 'this film is about a male escort getting involved in a murder investigation that happened in the circle of powerful mens wives',\n",
       " 'i thought the walker would be thrilling and engaging but i was so wrong',\n",
       " 'the pacing is painfully and excruciatingly slow that even after  minutes of the film nothing happens much',\n",
       " 'seriously the first hour could be condensed into ten minutes',\n",
       " 'thats how slow it is',\n",
       " 'the fact that it lacks any thrills or action scenes aggravates the boredom',\n",
       " 'its almost shocking that even argument scenes are so plain and devoid of emotion',\n",
       " 'maybe it is because of the stiff upper lip of the higher social class its sad that the walker becomes such a boring mess despite such a strong cast',\n",
       " 'blame it on the poor plot and even worse pacing',\n",
       " 'this movie must be in line for the most boring movie in years',\n",
       " 'not even woody harrison can save this movie from sinking to the bottom',\n",
       " 'the murder in this movie are supposed to be the point of interest in this movie but is not nothing is of any interest',\n",
       " 'the cast are not to bad but the script are just plain awful  i just sat in utter amazement during this movie thinking how on earth can anyone find this movie entertaining the producers of this movie were very clever',\n",
       " 'they made a boring movie but hid it well with the names of good actors and actresses on their cast',\n",
       " 'people will go to the blockbuster and probably see this movie and think woody harrison kristin scott thomas and willem dafoe this must be good and rent this movie',\n",
       " 'boy are they in for a horrible timeif you like getting ripped off go and rent this movie some people actually did enjoyed this movie but i like to watch a movie with meaning',\n",
       " 'a wornout plot of a man who takes the rap for a woman in a murder case  the equally wornout plot of an outsider on the inside who eventually is shut out',\n",
       " 'with such an outstanding case one would think the film would rise above its hackneyed origins',\n",
       " 'but scene after scene drones by with no change in intensity no character arcs and inexplicable behavior',\n",
       " 'the homosexuality theme was completely unnecessary  or on the other hand completely unexplored',\n",
       " 'it seemed to be included only to titillate the viewers',\n",
       " 'when will hollywood learn that having gay characters does not automatically make a more compelling picturea regrettably dreadful movie',\n",
       " 'when will lauren bacall pick a good one i expected better of her and kristin scott thomas',\n",
       " 'this one is definitely one to miss',\n",
       " 'i saw this movie at a drivein in',\n",
       " 'until howard the duck i considered this the worst movie i had ever seen',\n",
       " 'this movie tried to combine all the genera in one comedy horror teenage angst and the hot rod that must have sired my mother the car',\n",
       " 'maybe it deserves a second viewing to see if it is an accurate reflection of its time',\n",
       " 'ghost of dragstrip hollow is a typical  teens in turmoil movie',\n",
       " 'it is not a horror or science fiction movie',\n",
       " 'plot concerns a group of teens who are about to get kicked out of their hot rod club because they cannot meet the rent',\n",
       " 'once kicked out they decide to try an old haunted house',\n",
       " 'the only saving grace for the film is that the ghost paul blaisdell in the she creature suit turns out to be an out of work movie monster played by blaisdell',\n",
       " 'ghost of dragstrip hollow was one of the many  movies about hotrodding teens encountering the supernatural',\n",
       " 'in this case the teens cant pay the rent for their hangout and get evicted',\n",
       " 'with nowhere else to go they decide on an apparently haunted house',\n",
       " 'as you may have guessed once they arrive some weird things start happening',\n",
       " 'and theres a twist at the end',\n",
       " 'theres nothing in this movie that you havent seen in other movies but its nice entertainment nonetheless',\n",
       " 'my favorite character was the foulmouthed parrot',\n",
       " 'well let me rephrase that he didnt talk like a character in a quentin tarantino movie but he said things that we dont expect out of a bird',\n",
       " 'the movies pure hokum but harmless',\n",
       " 'ghost of dragstrip hollow appears to take place in a spotless netherworld an era long gone by where the biggest sin a kid could commit would be in defying the law and getting a traffic ticket',\n",
       " 'it opens with a young female auto fanatic getting the business from her arch rival who pressures her into a car race',\n",
       " 'thats about it for the dragracingthis bflick is mostly concerned with rock n roll man the folks at american international were obviously fond of decent square teens who liked to party and yet didnt mind an adult chaperone',\n",
       " 'there are a few amusing double entendres and fruity exchanges necking kid we thought wed come out for some fresh air',\n",
       " 'dad where did you think youd find it down her throat but the ghost is a little late in arriving',\n",
       " 'brief at  minutes the movie cheats us with a climactic car race that actually takes place offscreen and a prescooby doostyled unmasking which makes no sense',\n",
       " 'however for nostalgia buffs some mindless fun',\n",
       " 'from',\n",
       " 'the characters are unlikeable and the script is awful',\n",
       " 'its a waste of the talents of deneuve and auteuil',\n",
       " 'kareena kapoor in a bikini hmmmmmmmm',\n",
       " 'akshay kumar',\n",
       " 'anil kapoor',\n",
       " 'maybe saif',\n",
       " 'kareena kapoor in a bikini',\n",
       " 'good banner',\n",
       " 'kareena kapoor in a bikini',\n",
       " 'not one good reason not to see this movie',\n",
       " 'or so i thought',\n",
       " 'didnt these people make jbj',\n",
       " 'why o why did i forget that',\n",
       " 'for all the criticism the first half of the movie isnt that bad',\n",
       " 'there is some intrigue and you feel a sort of irritation mixed with excitement that i felt when seeing guy ritchie movies like lock stock and snatch',\n",
       " 'kareena kapoor is sizzling in a very skinny model sort of way',\n",
       " 'akshay kumar is akshay kumar as only he can be',\n",
       " 'anil kapoor is annoying but kind of funny you almost forget that most of the time you cannot understand him',\n",
       " 'saif is sidey ala main khiladi',\n",
       " 'once again',\n",
       " 'there is the occasional laugh and a few chuckles and a few goosebumps during the kareenasaif love story kareena in the rain behind me on my bike hmmmmmmm',\n",
       " 'but mostly this half promises more than it delivers',\n",
       " 'which makes the second half all the more unbearable',\n",
       " 'there was almost a cheer when the interval came not only because because of the wet kareena because of what people thought were the things to come',\n",
       " 'instead we were treated to mind numbing torture which is difficult to put in words',\n",
       " 'saif suddenly seam like a comic sidekick',\n",
       " 'suddenly the sexy kareena looks anorexic you realise that the second last floor is now empty and her face looks to big for her body  only girls can notice this and make other guys notice the second last floor was my observation',\n",
       " 'anil kapoor and his sidekicks get on your nerves',\n",
       " 'akshay kumar is the only one who carries off the madness to some extent but even he become intolerable after a while',\n",
       " 'all the while you are subjected to one absurdity after the other',\n",
       " 'why what when where what have i done to deserve this',\n",
       " 'a collective gasp went trough the audience before every song in the second half which were ordinary even without the movie around it',\n",
       " 'cannot relieve the trauma anymore',\n",
       " 'conclusion',\n",
       " 'this movie starts of as a buzz which you feel could even turn out to a high but ends up slowly moving towards a headache and then rapidly turns into a full blown migraine attack',\n",
       " 'please dont watch this movie for any reason other than academic interest',\n",
       " 's cast akshay kumar first half',\n",
       " 's what when how who to much confusion',\n",
       " 'need a book to fill this',\n",
       " 's cast the whole second half need many pages to fill this',\n",
       " 'total  im trying to avoid the  and  too not seem to extreme but make no mistake this movie is unwatchable no matter how decent the first half is',\n",
       " 'i rented this on dvd and i kind of feel bad since dawson and lugacy are so earnest about it in the dvd comments',\n",
       " 'its not a bad movie exactly but its one of those films that desperately wants to be a deep comment on human nature while not realizing that its story is practically a genre',\n",
       " 'plus it is a little simplistic about the issue in a lot of ways and the characters behavior often strains belief',\n",
       " 'id say its a film that you would get something out of if you dont have a lot of filmtvliteraturelife behind you to be honest ive seen almost exactly the same story in horror comics even',\n",
       " 'otherwise its point has been made before and more artfully',\n",
       " 'and that gets to the big problem which is that it really doesnt have much of cinematic interest to it besides the point',\n",
       " 'it ends up being a fairly bland movie overall that invests everything in the idea that the basic story will be shocking and compelling and it doesnt really pay off',\n",
       " 'vijay krishna acharyas tashan is a overhyped stylized product',\n",
       " 'sure its a one of the most stylish films but when it comes to content even the masses will reject this one',\n",
       " 'why the films script is as amateur as a  year old baby',\n",
       " 'script is king without a good script even the greatest director of alltime cannot do anything',\n",
       " 'tashan is produced by the most successful production banner yash raj films and mega stars appearing in it',\n",
       " 'but nothing on earth can save you if you script is bland',\n",
       " 'thumbs down performances anil kapoor is a veteran actor',\n",
       " 'but how could he okay a role like this akshay kumar is great actor in fact hes the sole saving grace',\n",
       " 'kareena kapoor has never looked so hot',\n",
       " 'she looks stunning and leaves you all stand up',\n",
       " 'saif ali khan doesnt get his due in here',\n",
       " 'sanjay mishra manoj phawa and yashpal sharma are wasted',\n",
       " 'tashan is a boring film',\n",
       " 'the films failure at the box office should you keep away',\n",
       " 'the worst movie i have seen since tera jadoo chal gaya',\n",
       " 'there is no story no humor no nothing the action sequences seem more like a series of haphazard akshay kumar thumbsup advertisements stitched together',\n",
       " 'heavily influenced from the matrix and kungfu hustle but very poorly executed',\n",
       " 'i did not go a lot of expectations but watching this movie is an exasperating experience which makes you wonder what were these guys thinking',\n",
       " 'the only thing you might remember after watching it is an anorexic kareena in a bikini',\n",
       " 'the reason why i did not give a rating of  is that every time i think i have seen the worst bollywood proves me wrong',\n",
       " 'summer season is here when the choices in the cinemas are limited to whats the hottest movie of the week given',\n",
       " 'of the screens dedicated to screening it',\n",
       " 'ok so i may exaggerate on the percentage but you get my drift',\n",
       " 'besides stuff from hollywood bollywood too have their own share of highly anticipated blockbusters and from some of the trailers shown im hyped to watch them too',\n",
       " 'tashan was billed as one of the most highly anticipated for  but i was quite surprised at the lower than low turnout at the cinemas',\n",
       " 'when i watched jodha akbar it was a full house but it wasnt for tashan',\n",
       " 'after watching it i knew why',\n",
       " 'it was entertaining but it was fundamentally weak',\n",
       " 'just like its literal english title which means style tashan is all style but little substance',\n",
       " 'not that it doesnt have the usual star power but scenes felt forced and some bordered on a tad ridiculous even for bollywood standards i must say',\n",
       " 'which is quite surprising given that tashan is directed and written by vijay krishna acharya who wrote dhoom and dhoom  both of which i enjoyed tremendously',\n",
       " 'in his rookie directorial outing with tashan while you cant fault his direction youd probably scratch your head over the plot which was clunky at best',\n",
       " 'it tried to force too many things into the story though credit be given where it allowed you some avenue to question character motivation but that came a little too late and only toward the finale which left you guessing for just a moment before it latched into full blown action mimicking many a thai action movie with hong kongs wirework and hollywoods ludicrous firearms and gunplay with zero recoil',\n",
       " 'and in a bid to include everything including the kitchen sink you have an assortment of vehicles appearing and the one that took the cake in a dhoom  homage was the jetski boat in the middle of nowhere',\n",
       " 'at best tashan can be enjoyed as unintentional comedy and this is attributed to how the cast hammed up with their characters',\n",
       " 'saif ali khan plays jimmy cliff a call center executive who gives english tuition only as a platform for fishing out new girlfriend material',\n",
       " 'his playboy ways gets junked aside when he meets with pooja singh kareena kapoor whos not exactly who she seems the meek and sweet natured hottie',\n",
       " 'she engages jimmys services for her boss mobster bhaiyyaji anil kapoor who probably gets most of the laughs as he speaks broken english and phrases must like how an ahbeng does it',\n",
       " 'and to complete the quartet akshay kumar plays bachchan pandey an illiterate gangster for hire who got engaged by bhaiyyaji to hunt down jimmy and pooja when they escape with money stolen from bahiyyajis business',\n",
       " 'so begins a road trip of sorts with friends who turned enemies and enemies whom you know will become friends as the road trip wears on',\n",
       " 'jimmy cliff is probably the most implausible of all because he goes from zero to hero executing moves that would shame rambo in absolutely no time which is quite out of character',\n",
       " 'kareena kapoor amps up the sex factor as she uses her charms to guile both men and has plenty of opportunity to do so given the much touted bikini scenes and other costumes that boast of plunging necklines or hemlines way above the knee',\n",
       " 'every character has a backstory created and i thought akshay kumars bachchan pandey was probably the best the most touching and the most fun of the lot even though his character seemed a lot like a nongreen incredible hulk with his gravitydefying leaps and power packing punches',\n",
       " 'his wounds also heal automatically which impressively puts wolverine to shame',\n",
       " 'and the best part is his theme song which is damn alphamale and played in rara mode each time he takes on adversaries',\n",
       " 'but sad to say thats the only tune that is memorable something that cheers bachchan pandeybachchanpandey',\n",
       " 'for most bollywood movies i watch i will usually be able to despite the obvious language gaps emerge from screenings humming a tune or two',\n",
       " 'i wasnt able to do that after tashan because the songs unfortunately just werent catchy at all',\n",
       " 'usually the songdance routine works well into the storyline without any necessity to bring the characters out of the current scene or location',\n",
       " 'that i enjoy versus plucking them out and plonking them into extreme settings high atop a mountain or atop jagged rocks on the beach front',\n",
       " 'tashan probably didnt take itself too seriously but coming from vijay krishna acharyas story you probably wanted something a little more decent rather than the ridiculous and for continuity to be a little more careful as well',\n",
       " 'billed as a blockbuster now i can start to understand why the crowds have already shunned this one',\n",
       " 'despite akshay kumr stealing the show tashan could have been better on the whole',\n",
       " 'shame on yash raj films and aditya chopra who seems to have lost their intelligence over the years and providing steady fare of tripe in this piece of cinematic crap thats not even worth you tube standards',\n",
       " 'i was gritting my teeth throughout the whole flick start to finish with the schizophrenic direction plot line that never quite materialized and on the last scene i just felt ashamed that my country and its crorepati film makers can throw away crores on such stupidity',\n",
       " 'shame on the actors for taking this work and even commenting on it as some piece of work they can own up to',\n",
       " 'saif ali khan completely disappointed in your choice of film',\n",
       " 'kareen shows enough skin for the puberty stricken and akshay comes up as the dimwit',\n",
       " 'anil another retard with a pubescent fascination for english',\n",
       " 'his cronies were commendable in their acting and with the bizarre cinematography scattered in the last  minutes it was enough to pop a blood vessel',\n",
       " 'dont waste any brain cells energy or your money to go see this go see  rent amu with konkana sensharma instead a beautiful piece of independent film thats ever come out of india',\n",
       " 'intelligent poignant and a wonderful storytale that will touch everyone with intelligent actors and gave me hope that all is not lost in indian cinema making',\n",
       " 'first lesson that some film makers particularly those inspired by hollywood need to know  just style does not sell',\n",
       " 'i guess tashan when translated will mean style',\n",
       " 'second if you are hell bent on selling style that does not spare you from having a decent story',\n",
       " 'tashan has some story which could have sufficed with some better director',\n",
       " 'but it is not slick',\n",
       " 'for example all three  saif kareena and akshay  are narrators at different points in the story',\n",
       " 'but this setup is not utilized to properly',\n",
       " 'there could have been a better mix and match of their narrations',\n",
       " 'actions sequences are from the seventies',\n",
       " 'cheoreography of the film is awful',\n",
       " 'i think vaibhavi merchant just sleep walked through this film',\n",
       " 'vishalshekhar have put up a good score but it does not belong to this film',\n",
       " 'why is there a sufi song dil haara in tashan why is the cool hinglish song dil dance maare not on anil kapoor when he is the one who is english crazy akshay kumar is the saving grace of the film',\n",
       " 'but he is in his stereotyped self',\n",
       " 'you wont mind missing this film',\n",
       " 'if this is a  product from one of the biggest production houses of indian film industry yash raj then i am afraid it is a very long ahead for us to reach the right standards',\n",
       " 'if you can go wrong to this length with such an enormous star cast of anil akshay saif and kareena then movie making is still to be studied much harder by everyone associated with this film',\n",
       " 'the film lacks in almost all departments except cinematography and akshay kumar',\n",
       " 'he has a few good dialogues to render but that alone cannot make you enjoy a flick with huge expectations',\n",
       " 'the first scene of a car going down into a river from the mountain has very cheap graphics like that of a cartoon film',\n",
       " 'that itself was a clear indicator of the directors vision',\n",
       " 'every actor who otherwise is an asset to a movie is simply wasted',\n",
       " 'anil kapoors gimmick of attempting good english falls flat most of the times',\n",
       " 'and saif will surely hit himself thinking why he signed this movie',\n",
       " 'in short its the biggest waste of resourses after jhoom barabar jhoom',\n",
       " 'i would say that even aaja nachle was a better enjoyable movie than this',\n",
       " 'one cannot understand how and why this kind of script was written and approved',\n",
       " 'the most unwanted was the flashback sequence of akshays love story',\n",
       " 'after the faulty script the weakest point of the movie is its music',\n",
       " 'vishal shekhar have given just some filler tunes to each song',\n",
       " 'the songs start off very well and suddenly the tunes drop drastically',\n",
       " 'only one song falak tak chal is somehow good of all in the lot',\n",
       " 'an opportunity wasted by vishal shekhar',\n",
       " 'regarding the continuity intelligence of the makers just sample this  akshay and saif are on the road in the hilly area of a foreign location probably ladakh',\n",
       " 'in the next scene they are searching for kareena in haridwar and then back in the hills with kareena in the dicky of their car',\n",
       " 'i am still thinking who wrote this',\n",
       " 'if you manage to sit till the last then the climax is too long with silly and unnecessary stunts',\n",
       " 'you can see all the heroes walking through the storm of bullets not hurt as if they are god',\n",
       " 'are we still seeing a  movie with all these technical heights achieved so no more words on this pathetic and downgrade movie but a sincere request to senior actors from their fan',\n",
       " 'dear anil kapoor  akshay kumar if possible please ask for a preview of your movies after their first copy is out',\n",
       " 'as artists of such stature you have certain responsibilities towards your fans and viewers',\n",
       " 'people still clap for you as you enter the screen in your first scenes respectively',\n",
       " 'i think this kind of movie should not see the daylight as it hampers the reputation of all associated with the movie the actors and the production house both',\n",
       " 'i had some expectation for the movie since it had a nice star cast and it is the return of the duo of akshay and saif',\n",
       " 'well i was hesitant to watch the movie because this was done by the same man who wrote the story for dhoom franchise because i hated dhoom  but if dhoom  is compared to tashan i would say dhoom  is very realistic',\n",
       " 'when i saw the credits at the beginning i felt nice because it was put up in a nice way',\n",
       " 'well the very first scene itself pised me off',\n",
       " 'then the major drawback of the movie is the action sequences',\n",
       " 'me and my friends were laughing our guts off watching this crappy fights',\n",
       " 'it was like akshay against some  thugs and all and the thugs even got machine guns phew',\n",
       " 'you got to see this to understand how bad the action sequences are',\n",
       " 'the other thing about the movie is the far too predictable story',\n",
       " 'it reminded me of some of the early  movies',\n",
       " 'well the only thing the movie is worth is of sexy kareena who looked really hot in this one',\n",
       " 'and for that i give a rating of  out of',\n",
       " 'guys please',\n",
       " 'please',\n",
       " 'dont see this one thinking that it is a real gangster movie',\n",
       " 'well you can watch this to have some laughs at the terrible fight scenes',\n",
       " 'thats all',\n",
       " 'the action in this movie beats sunny bhai in gadar',\n",
       " 'akshay kumar possess the superpowers of leonidus in  neo in matrix along with spiderman and superman',\n",
       " 'it is hilarious',\n",
       " 'except for the typical akshay kumar and anil kapoor comedy i cannot see anything positive in this film',\n",
       " 'the story looks like the writer told his  old son to write',\n",
       " 'the movie is so unreal that anil kapoors long range shooting with a shotgun is the least most mistake by the director',\n",
       " 'except for the directors tashan to make this movie there is no other tashan',\n",
       " 'i regret wasting my money on this movie and i would not recommend it to anybody',\n",
       " 'is the least i can give on imdb or i would give it a zero',\n",
       " 'i had a lot of expectations from this movie and more so since it was a yashraj film',\n",
       " 'jimmy operates a call centre and one day he is invited by pooja singh to teach her boss lakhan singh english',\n",
       " 'the two fall in love and decide to run away but pooja tells jimmy that she cant do this as she owes a debt to lakhan singh who is also known as bhaiyyaji',\n",
       " 'but they decide and steal money from him and its only then that jimmy finds out that bhaiyyaji  lakhan singh is a don',\n",
       " 'in the meantime bhaiyyaji hires a man bachchan pandey to track down jimmy and pooja',\n",
       " 'starring saif ali khan kareena kapoor anil kapoor and akshaye kumar the movie is directed by first time director viay krishna acharya and is produced by both aditya chopra and yash chopra',\n",
       " 'tashan has to be one of the worse films that i have ever watched',\n",
       " 'yes the scenery is good and kareena kapoor and her much publicised weight loss looks good',\n",
       " 'but plot is extremely thin on story and at times makes no sense from one scene to the other  hence why i have said at the beginning that i had expected more from this film as it was a yashraj production',\n",
       " 'with reference to songs unfortunately there is not one song that i can remember now',\n",
       " 'there are moments where one can laugh and that is mainly thanks to akshaye kumar and saif could have definitely done better while kareena kapoor played her part well',\n",
       " 'but this cannot be said for anil kapoor  it did not suit him at all as a villain',\n",
       " 'lastlynever mind aditya chopra who in the past has produced and directed good films such as mohabbatein what was yash chopra doing by producing such a trash movie conclusion bad movie not worth wasting your time and that is my first and last impression',\n",
       " 'i had no idea what the film is about before i saw it because tashan only had teaser trailers while it was being promoted',\n",
       " 'so i asked my friends if they knew anything about it and they said that it is the directorial debut of vijay krishna acharya who wrote the screenplays for dhoom    and saif ali khans son ibrahim makes his debut in the film by playing him as a child in his flashback',\n",
       " 'after watching it i understood that why their wasnt a proper trailer because there wasnt anything in the film to show',\n",
       " 'the story was extremely dum and even a  year old child can come up with a better storyline',\n",
       " 'there was hardly any action and the camera shook at every possible angle there is and its difficult to figure out that who is killing who',\n",
       " 'also the action was daft  unrealistic e',\n",
       " 'g',\n",
       " 'man with a handgun managed to kill about  men with machine guns',\n",
       " 'while i was watching tashan it reminded me of  filmssin city during the opening credits',\n",
       " 'koyla anil kapoors terrible english like amrish puri in koyla',\n",
       " 'jhoom barabar jhoom the outrageously ridiculous jokes that are not even a jot funny',\n",
       " 'i also heard the budget is  crores which is the same amount as dhoom  and i dont know where all the money went to',\n",
       " 'anyway if you did not like dhoom  then there is absolutely no chance that you will like tashan',\n",
       " 'race was hot on heels and that is a million times better',\n",
       " 'the only  good songs are dil haara  challiya and both songs are shot in greece at good locations but what is the use of it in a rubbish film even anil kapoors terrible english couldnt save this discomfiture',\n",
       " 'i dont want to go too far into detail because i cant really justify wasting much time on reviewing this film but i had to give an alternate opinion to hopefully help people avoid the movie',\n",
       " 'the animation is crud and the story alternates between boringpointless to extremely irritating',\n",
       " 'the humor was completely lost on the audience and yes  ghost in the shell fans this is not an action scifi or anything like that  its an attempt at slapstick comedy and the humor just did not work after being translated',\n",
       " 'it was a total chore to watch this movie and horrible way for me to kick off the film fest especially considering how excited i was and how open i was for anything  i wasnt expecting a ghost in the shell sequel but i was expecting something entertaining and it simply didnt achieve this',\n",
       " 'yaaawwnnn',\n",
       " 'rent kinos journey instead',\n",
       " 'tashan  the title itself explains the nature of the movie',\n",
       " 'this type of movies are actually made for flop',\n",
       " 'what a shame that yash raj films produces such movies those are worthless than cgrade movies',\n",
       " 'or even some cgrade movies have better and pleasing story than tashan',\n",
       " 'the much hyped and overconfidently promoted tashan poorly bombed at the boxoffice which it certainly deserved',\n",
       " 'in my view this is the worst movie ever made from honourable yash raj films banner',\n",
       " 'how come they handled such a heavy project to new vijay krishna acharya who has no actual sense of making action flick he tried to imitate sanjay gadhvis ways of making like dhoom but he suffered at last',\n",
       " 'the action scenes are more like than comics or cartoon movies made for exhausting the audiences',\n",
       " 'the story also loses in its meaning and substances to tenderly win the audiences hearts',\n",
       " 'in most scenes anil kapoor reminds me of southern tamil star rajnikant in his body languages and wordly expressions',\n",
       " 'i am not a fan of neither saif nor akshay but the award of kareena should have finally gone to saifs hand instead of akshay',\n",
       " 'just from the starting point i expected of it but at the end it displeased me with the climax truth',\n",
       " 'saif is the main behind the whole adventure while akshay joins in the midst',\n",
       " 'in any movie the final should be judged with the whole characters of the entire story and the award or say reward should be given to the one who deserves credit',\n",
       " 'and tashan loses in this way and unexpectedly failed to become a hit',\n",
       " 'akshays has nothing new to show off his comedian talent here but still reminds of his previous movies',\n",
       " 'he seriously need to form a new image to his fans that would impress them again and again',\n",
       " 'in between saif did a great job in race and now he returned again in his hilarious nature through this movie',\n",
       " 'but he has fully developed himself in the acting field',\n",
       " 'and last but not the least about kareena',\n",
       " 'she looks really hot with bikini dress of which some complain as she became too lean',\n",
       " 'but i myself dont think so instead she became slim',\n",
       " 'yes slim it is a good factor for a female to attract the major people or say male',\n",
       " 'beside them it is nice that saifs son ibrahim appears in the beginning  last as young saif',\n",
       " 'i hope now he too will lean forward in target of making acting as his career',\n",
       " 'those who like this tashan they are either mentally immatured or still want to go back to childhood or say want to be admitted in an asylum',\n",
       " 'thumbs down to debutante director vijay krishna acharya who mishandled the project offered by yash raj films',\n",
       " 'in future he should experiment and study the script minimum of  years before going into practical directions',\n",
       " 'sorry i dont like to rate good stars to this type of junk movies',\n",
       " 'i just saw the movie in theater',\n",
       " 'the movie has very few good points to talk about',\n",
       " 'kareenas beauty and a couple of songs may be',\n",
       " 'thats it',\n",
       " 'the movie is a complete disappointment in all areas',\n",
       " 'anyone associated with the movie will be disappointed even mumbai indians too just now chennai has made it to semifinal',\n",
       " 'but the worst i feel about the movie is the action scenes',\n",
       " 'now days bollywood is trying to copy action scenes from hollywood',\n",
       " 'but they forget that hollywood directors takes a lot effect to make it look like real',\n",
       " 'but unfortunately bollywood directors do not have that much of time',\n",
       " 'they spend their time on songs and publicity of the movie',\n",
       " 'now such too stupid action scenes may work in south as the audience just pay to watch their favorite actor killing bunch of people',\n",
       " 'but in bollywood this is certainly not going to work',\n",
       " 'all the action scenes i wish i could have forwarded',\n",
       " 'at the end even some chinese people appear from nowhere to beat akshay kumar',\n",
       " 'this is height of stupidity',\n",
       " 'audience is not paying to watch such stupidity',\n",
       " 'i think bollywood now should forget about the action movies',\n",
       " 'they cant make it',\n",
       " 'the last good action i have seen was from ghatak and khiladiyon ka khialdi',\n",
       " 'the current scene in bollywood is really sad for action movie fans like me',\n",
       " 'does these people see their movie after completion cant they figure out that the slow motion action which is done using ropes is too unrealistic and childish better not to have action scenes if you cant handle it',\n",
       " 'i just want to go back to amitabhs era where movie like zanjeer and deewar were having thrilling action scenes',\n",
       " 'the sound effect was not very effective in those days but visually it is much better than current era scenes',\n",
       " 'this movie now should open the eyes of the bollywood movie directors',\n",
       " 'please dont make any more action movies until you acquire the art of making it realistic',\n",
       " 'the storyline was okay',\n",
       " 'akshay kumar was good as always and that was the only good thing about the movie',\n",
       " 'kareena kapoor looked bad',\n",
       " 'there was so hue and cry over her size zero but she did not looked good leaner',\n",
       " 'i dont know why the hell did anil kapoor accepted such a bad role',\n",
       " 'there was nothing much to do for him in the movie',\n",
       " 'just because it is a yashraj film does not means that an actor should accept the role however bad it is',\n",
       " 'said ali khan was alright',\n",
       " 'i think that it is high time that indian directors and producers start thinking of indian customers as intelligent lot',\n",
       " 'what are we  fools what do they think they will show  men taking on a swat squad to teeters and we will believe them',\n",
       " 'is the indian police so stupid that they are trying to nab some criminals',\n",
       " 'they take an entire squad of   policemen and no one was there to surround the palace',\n",
       " 'the action was crap and i have never seen such bad action',\n",
       " 'akshay kumar was between a circle of  policemen all shooting at him',\n",
       " 'and he shooting back at them',\n",
       " 'none of the policemens bullet touched him but he killed all the policemen',\n",
       " 'crap',\n",
       " 'crap',\n",
       " 'i think the fight director who thought of this scene should take retirement',\n",
       " 'i strongly recommend not to see this movie',\n",
       " 'i was very displeased with this move',\n",
       " 'everything was terrible from the start',\n",
       " 'the comedy was unhumorous the action overdone the songs unmelodious',\n",
       " 'even the storyline was weightless',\n",
       " 'from a writer who has written successful scripts like guru and dhoom i had high expectations',\n",
       " 'the actors worked way too hard and did not help the film at all',\n",
       " 'of course kareena rocked the screen in a bikini but for two seconds',\n",
       " 'i think hindi stunt directors should research how action movies are done',\n",
       " 'they tend to exaggerate way too much',\n",
       " 'in chinese films this style works because that is their signature piece',\n",
       " 'but hindi cinemas signature are the songs',\n",
       " 'a good action movie should last no more than two hours and cannot look unrealistic',\n",
       " 'but in the future im sure these action movies will get much sharper',\n",
       " 'also to be noted comedy and action films do not mix unless done properly',\n",
       " 'good luck next time',\n",
       " 'if there is one film which is the worst of this year its tashan the first promo gave an indication that the film will be a boring dhoom  style film and well i knew first only it would be a bad film whatever it maybe because of it being a yashraj film or maybe seeing the cheesy promo but this film gave me a shock it was even worst then dhoom  and what i expected first saifs introduction which is boring then saif kareena meet kareena is so artificial and then anil kapoor oh god what he is doing in such a weird film what kinda role it is what acting is he doing his first scene is alright but then his act gets repetitive and he overacts then came akshay who provided some nice scenes but then the film became more boring and with all the outdated stuff childhood romance overdose of childish rajnikant style action scenes and all boring scenes the ending is another jokevijay krishna acharya would have got  films more to direct if this film had worked thats the strategy of yashraj only money nothing else so vijay is another addition to their list of crap filmmakers music vishal shekhar is ordinaryperformances akshay kumar comes in the film as a whiff of fresh air he actually provides some engaging moments saif ali khan is irritating kareena is equally bad anil kapoor hams outrageously and spoils the show even more rest are okay',\n",
       " 'absolutely awful movie',\n",
       " 'utter waste of time',\n",
       " 'background music is so loud that you cannot understand speech',\n",
       " 'well if you really listen closely whatever they speak is actually unintelligible',\n",
       " 'camera work is bad editing is not present background score gives a headache action is shoddy dialogs are unintelligible acting is abysmal and well kareena used to look like a wrestler now she looks like a starved wrestler',\n",
       " 'hell you can slim down but you cannot gain grace',\n",
       " 'after spending three hours watching a movie i want to like it but this movie would not even allow me that pleasure',\n",
       " 'please if you want to torture yourself go ahead watch this',\n",
       " 'sometime i fail to understand what do the directors think when they make a movie',\n",
       " 'i had had a trauma after watching welcome  and thought that they wont do it again',\n",
       " 'but after loads of amazing promos tashan finally ended as heart attack',\n",
       " 'such amazing  songs in promo  dil haara chhaliya and tashan mein',\n",
       " 'and what u get in the movie zero story predictable plot plenty of akshay kumar stunts and nothing interesting apart from watching kareena after her major weight loss',\n",
       " 'musicwise another major disaster',\n",
       " 'in the music album they have spent time on giving pathetic small dialogs of these  jokers and they havent thought of giving the background song of the scenes when akshay kumar is doing stunts',\n",
       " 'that song is such nice quite comparable to tashan mein and that is not taken in the music album  if you plan to watch this movie i would say watch it to listen to that background song which goes something like',\n",
       " 'bachchan bachchan pandey',\n",
       " 'overall very disappointed even with the way bhaiyyaji has made attempt to speak bad englishgo away man i need to puke',\n",
       " 'i had never thought the standard of yashraj films would ever degrade to such an extent the film has a nonsense storyline which catches no interest',\n",
       " 'saif has over acted',\n",
       " 'kareena has improved her figure but is not a good actress anyway',\n",
       " 'akshay is good',\n",
       " 'anil is also good',\n",
       " 'may i say the role wasnt good',\n",
       " 'great deal of cheapness is filled in',\n",
       " 'wondered if that was supposed to be the comedy part of the movie',\n",
       " 'just because last few movies were flops does that mean yashraj films should make this kind of rubbish it has a history of so many good films',\n",
       " 'overall i was totally disappointed with the movie',\n",
       " 'the film lacks style i mean original style',\n",
       " 'everything looks copied including action first appearances in the movie songs dialog delivery etc etc',\n",
       " 'yes there the goofups were original like in the beginning a car is shown with number up number and few seconds later it starts falling down a hill with number mh',\n",
       " 'that was one in many goofups of the movie  anything good in the movie yes for kareena fans if there are any kareena in bikini',\n",
       " 'for akshay fans his dialogs and action stunts',\n",
       " 'thats it',\n",
       " 'nothing else',\n",
       " 'so watch it on your own risk and dont blame the director or actors',\n",
       " 'director is already insane and actors i pity them',\n",
       " 'this movie is horrible',\n",
       " 'the acting is a waste basket',\n",
       " 'no crying no action hopeless songs',\n",
       " 'though the scenery is great',\n",
       " 'i have always wanted to go to greece',\n",
       " 'anyway as for saif youd expect a great performance but even he let down the people',\n",
       " 'akshay kumar recognized as the pimp of bollywood and the voice of singhs',\n",
       " 'he was sensational in this movie',\n",
       " 'for only this performance filmfare should introduce another award',\n",
       " 'the toiletries award for the worst performance',\n",
       " 'by the way the trophy should be a toilet seat',\n",
       " 'kareena kapoor',\n",
       " 'she first of all is not comparable to her sister karisma',\n",
       " 'in acting in looks or in body',\n",
       " 'she now wants to prove to herself that she surpasses her',\n",
       " 'she comes into this movie wearing bikinis and tank tops and short shorts',\n",
       " 'i really wonder why saif ali khan is letting his wifetobe dress like that',\n",
       " 'but she mustve impressed some people dressing like that',\n",
       " 'and if you ask how then consider every man is having an erection watching this movie',\n",
       " 'they are dreaming of having kareena kapoor in bed naked with a condom',\n",
       " 'including me',\n",
       " 'personally i think that she dressed like a whore but i really liked it',\n",
       " 'i am forced to give it a  but id really give this movie a',\n",
       " 'an unachieved film',\n",
       " 'ok i am not japanese',\n",
       " 'i do know a little about japanese culture and a little less about japanese pop culture',\n",
       " 'other than that i am spanish i eat paella and i like black humor',\n",
       " 'good with that point set i can comment on the movie i have no idea on how it is enjoyable to the japanese audiences mamoru oshii is quite a good director despite the overly pedantic postmodern stuff in the style of talking head and even that was curious and somehow interesting and i am surprised he came up with this',\n",
       " 'it may just be one of those lostintranslation cases i am afraid it is but as a european viewer watching the film with subtext overloaded english subtitles i just thought it was horrible',\n",
       " 'the jokes seemed bad the script was overcooked i mean give the audience a break and shut up a little you damn narrator to the point of almost making my head explode over an overkill of fastpaced speaking and absurd action',\n",
       " 'however i thought the animation was really cool',\n",
       " 'the idea is great and it is well exploited in those animated scenes',\n",
       " 'however the eyecandy finishes as soon as the characters are left aside to start with an endless not funny at all mumbojumbo speech over still pictures',\n",
       " 'it just makes you want to fast forward to the next cutout hysterical characters scene',\n",
       " 'i read mamoru oshii is actually planning on a sequel for this',\n",
       " 'the idea was good but horribly exploited',\n",
       " 'maybe the second part will bring up the good parts of this first one and actually make an interesting movie or maybe it will be more and more overnarrated scenes',\n",
       " 'but hell if you thought talking head was dense amazing lifes of fast food gifters will give cause you a stroke',\n",
       " 'of course all this comment is based on the experiences of someone who is european',\n",
       " 'probably this is totally useless to japanese people maybe it was a really funny film lost in cultural frontiers and translation',\n",
       " 'maybe',\n",
       " 'for this movie defines a new low in bollywood and has set the standard against which all cp must now be compared',\n",
       " 'first off the beginning did have elements of style',\n",
       " 'and if handled well could have become a cult classic ala pulp fiction or a desi desperado',\n",
       " 'but the plot was there one begins to meander and at one point completely loses it',\n",
       " 'throw in a deranged don with an obsession for english a call center smart alec a femme fa tale who can don a bikini and a saree with the same aplomb a levitating gravity defying hitman and a cop with a hundred or was it a thousand black cat commandos on their trail',\n",
       " 'good ingredients in competent hands',\n",
       " 'but this is where i would like to ask the director sir what were you smokingim sure this movie would be remembered in the annals of bollywood film making  for what must never be done  insult the intelligence of the most brain dead of movie goers',\n",
       " 'possibly the only redeeming feature in this desi matrix plus desperado plus grindhouse caper is the music',\n",
       " 'watch the videos',\n",
       " 'hear the airplay and you wont be disappointed',\n",
       " 'vishal shekhar come up with some eminently hummable tunes',\n",
       " 'how i wish the director had spent the money in creating some more eye candy',\n",
       " 'as i sign off i want to really badly know how does akshays bullet wound vanish in a microsecond',\n",
       " 'what were you editors doing tashan maybe',\n",
       " 'the sight of kareena kapoor in a twopiece bikini is about the only thing that wakes you up from your sleep while watching tashan â the megadisappointing mindnumbing new film at the cinemas this weekend',\n",
       " 'bad films are bad films and we see some every week but tashan is not just a bad film its a terrible film',\n",
       " 'terrible because it takes its audience for granted terrible also because the filmmakers expect to get away without a plot or any common sense only because theyve got big movie stars onboard',\n",
       " 'written and directed by vijay krishna acharya tashan is what youd describe as a road movie but one thats going in all the wrong directions',\n",
       " 'saif ali khan stars as jimmy cliff a callcentre executive whos hired to teach english to bhaiyyaji  thats anil kapoor playing an ambitious up gangster desperate to go cool',\n",
       " 'jimmys got his eye on pooja the gangsters pretty young assistant played by kareena kapoor who uses jimmy to swindle her boss of  crore rupees',\n",
       " 'determined to recover his money and also to punish both jimmy and pooja bhaiyyaji recruits his most trusted henchman to do the job',\n",
       " 'so you have akshay kumar as bachchan pandey the gangsters faithful aide from kanpur who tracks down the culprits and recovers the stolen money thats hidden across the length and breadth of the country',\n",
       " 'much like those bad eighties potboilers tashan too is held together by a threadbare script centred on a vendetta plot',\n",
       " 'but the treatments so overthetop so indulgent that it fails to establish any connect',\n",
       " 'instead of a coherent screenplay or a traditional threeact structure you get a handful of set pieces around which most of the scenes are loosely constructed',\n",
       " 'that garish item song in the desert the bulletdodging action scene at a rajasthani fort kareeenas bikini moment even that ridiculous climatic action scene complete with shaolin monks a water scooter zipping through a dirty naala and believe it or not even a dhannostyle horsedriven tonga',\n",
       " 'in all fairness not all these set pieces are badly done  the item song in the desert is quite neat actually  but very little of it makes any sense in the larger picture because youre just going from one piece to another without any help from the script really',\n",
       " 'little do you expect in a seemingly fastpaced road movie to find a sickeningly sentimental flashback track about childhood sweethearts',\n",
       " 'you see the problem with tashan is nobody associated with this film knew what film they were making',\n",
       " 'whats more i dont think they cared either  the film reeks of arrogance',\n",
       " 'arbitrarily packing in elements of every genre without actually bothering to stop and see if the mix does work tashan is like an overcooked stew',\n",
       " 'there are films that kill you softly and then theres tashan a film that kills you with excess',\n",
       " 'packaged snazzily with glossyfinish camerawork exotic locations and fancy costumes every frame of the film probably cost lakhs to put together but it still feels like a hollow piece in the end because the story doesnt hold',\n",
       " 'borrowing narrative from tarantino and style from stephen chow doesnt help either because they dont blend with the films waferthin plot',\n",
       " 'one may have complained a little less if the characters were more engaging but anil kapoors grating hinglish dialogue makes you want to slit your wrists and saif ali khan fumbles through the film foolishly unable to find his feet',\n",
       " 'kareena kapoor meanwhile queen of overthetop delivery does a decent job',\n",
       " 'but of course if tashan is salvaged to some extent its thanks to akshay kumars irresistible presence and his spontaneous approach to the character',\n",
       " 'you cringe when hes cupping his crotch repeatedly and you scowl when he delivers those doublemeaning dialogues but not for a moment can you take your eyes off the screen when hes up there',\n",
       " 'despite some good music from vishalshekhar the songs seem like theyre only prolonging your misery',\n",
       " 'well thats because tashan is a test of your patience',\n",
       " 'in case you didnt know tashan means style',\n",
       " 'im sorry to say this film has none',\n",
       " 'such a long awaited movie',\n",
       " 'but it has disappointed me and my friends who had gone to see the movie on the first day',\n",
       " 'from the trailers it looked like a action movie but it turned out to be a out  out comedya bad comedy',\n",
       " 'but one thing that deserves appreciation is the acting by these professional actors theyve done their part of the movie very well',\n",
       " 'good acting but i dont think that can save the movie',\n",
       " 'india has been shot beautifully',\n",
       " 'kerala rajasthan ladakh were all saturated with color alright',\n",
       " 'nevertheless the way the intrinsic beauty of these places was shot made me want to find out exactly where those places were and when i could go there action sequences were shot very shabbily no one could make out head  tail of the stunts theyve used akkiakshay kumar very well but couldve been done much much better',\n",
       " 'animation is the worst ive seen in recent  movies had better animation scenes i guessinitial scene where the car is falling off flying should be better word the road into lake',\n",
       " 'and the movies name has been mentioned nearly every  to  mins just to make sure audiences dont forget the movie name i guess',\n",
       " 'i would have liked to write about the story but there wasnt any',\n",
       " 'i would have liked to quote a couple of hard hitting dialogs from the movie but hinglish is only funny for like  minutes after that its overkill',\n",
       " 'i would have liked to swoon over the keepuguessing suspense but it was as predictable as',\n",
       " 'um mm a yash raj movie',\n",
       " 'i would have liked to talk of the edgeoftheseat action but i dont like cartoons much',\n",
       " 'sighall in all this movie is perfect for',\n",
       " 'people attempting suicide  i promise itll push you over the edge',\n",
       " 'sadomasochists this movie is way more effective than the barbed wire that silas guy in the davinci code wore',\n",
       " 'people researching alternative ways to spread terrorism  i swear the audience leaving the hall seemed to be in a mood to kill someone',\n",
       " 'movie piraters more power to them',\n",
       " 'if any movies deserves to not have the audience spending money to watch  this is it',\n",
       " 'barnacles most types of plankton  green algae  because almost all other living things would require an iq factor somewhat greater than what the movie offers',\n",
       " 'afterthought the director of the movie obviously is a species of his own',\n",
       " 'and i hope to god that he is the only one of his kind',\n",
       " 'one is enoughthings that could have made this a better movie',\n",
       " 'a story',\n",
       " 'a choreographer',\n",
       " 'a screenplay writer',\n",
       " 'a stunt coordinator',\n",
       " 'a story did i already say that',\n",
       " 'a director  preferably one who is not mentally challenged although even one who was challenged could have done a better job',\n",
       " 'anil kapoorbubonic plague  avoid at all costs',\n",
       " 'a statutory warning  watching yash raj movies is injurious to your mental health things i liked about the movie',\n",
       " 'kareena kapoor  for obvious reasons',\n",
       " 'the english subtitles  mera dil kho gaya becomes  my heart is in a void  chaliya chaliya chaliya turns into im a flirt im a lover im a vagabond',\n",
       " 'priceless',\n",
       " 'in short tashan to me is like the opposite of a rubrics cube  the cube is supposed to increase the iq of the player tashan promises to lower your iq and that',\n",
       " 'in a mere',\n",
       " 'hours wootsigh',\n",
       " 'but thats just me',\n",
       " 'i could be wrong youve been warned anyways',\n",
       " 'this is the biggest flop of',\n",
       " 'i don know what director has is his mind of creating such a big disaster',\n",
       " 'the songs have been added without situations the story have been stretched to fill the  hrs gap and most disgusting are the action stunts performed by the actors its like everyone are having superpowers they can run in between the bullets are fire and nothing happens to them and one person fighting with  people',\n",
       " 'only the best performance was by anil kapoor man he is all time at his best playing the role of villain with a comic act speaking hinglish',\n",
       " 'akki is also done a good job',\n",
       " 'but the movieee just forget it',\n",
       " 'all the world said that the film tashan would be a good movie with great pleasure but this is not the case',\n",
       " 'vijay krishna acharya made a serious mistake to take as an actress kareena kapoor',\n",
       " 'she was unbearable throughout the film',\n",
       " 'her tomboy look does not really goes well',\n",
       " 'even the film the story of the film is not making sense at all',\n",
       " 'everyone said that the quetin taratino of india is vijay but its not at all quetin',\n",
       " 'the talent anil kapoor was involved in this stupid movie',\n",
       " 'anil is an actor of large caliber and this film is not',\n",
       " 'akshay kumar has also been a victim of this film as all is saif',\n",
       " 'the style and the phoormola is not really good in this film i was disappointed',\n",
       " 'i wasnt terribly impressed with dantes  season offering in homecoming it wasnt much of a horror story but rather a smart political statement with the undead',\n",
       " 'screwfly situation is the story of a virus unleashed on the world that causes mens sexual drive to replaced with murderous tendencies toward women',\n",
       " 'the episode starts out all right with a short film explaining the way the screw fly was killed of by scientists',\n",
       " 'then there is short scene where a man is arrested when females bodies are discovered in his home',\n",
       " 'i assume this is supposed to show the beginning of the outbreak but is unclear because this is never revisited',\n",
       " 'the episode go ons for a while introducing characters blah blah blah',\n",
       " 'it seems cool and mysterious but the episode stars to get worse and worse as it lurches forward until its sad and unsatisfying end',\n",
       " 'the worst episode',\n",
       " 'well except for chocolate',\n",
       " 'ive now written reviews for several of the moh episodes and this is among the worst',\n",
       " 'an interesting premise at the beginning is completely abandoned by the time the credits roll',\n",
       " 'if watching people things they never would in real life amuses you lets check out the basement then this is your show',\n",
       " 'except its not amusing or entertaining  its just annoying',\n",
       " 'the extent of the virus is never ever showed',\n",
       " 'i can very much overlook the fact that it affects men only as the resulting situation is very very frightening',\n",
       " 'but then things deteriorate as daughter lets obviously deranged dad into the home and ultimately dies at his hands',\n",
       " 'the woman flees north and runs into a few tens situations',\n",
       " 'then some sort of spirit or alien or something appears and saves her things that make you go huh',\n",
       " 'or something',\n",
       " 'then she is huddling for warmth',\n",
       " 'the end',\n",
       " 'awful',\n",
       " 'these directors are mailing this tripe in',\n",
       " 'masters of horror the screwfly solution starts as america is being infected by an airborne virus that affects the male population when aroused men indiscriminately kill any woman in sight apparently in the name of god',\n",
       " 'scientist alan jasn priestley is brought in by the government  knows more than most  senses the situation may have gone too far already so he tells his wife anne kerry norton to take their teenage daughter amy brenna obrien  try to survive as the future of the human race may depend on them',\n",
       " 'this canadian american coproduction was episode  from season  of the masters of horrror tv series directed by joe dante i thought the screwfly solution was pretty bad',\n",
       " 'i personally think the script by sam hamm sucks it takes itself far too seriously  i dont really understand why its part of the masters of horror series the horror that the filmmakers are going for in the screwfly solution is in the actual story itself  themes  ideas it brings up rather than on screen visual horror particularly the tenuous ecological message it sees intent on ramming down our throats whenever its gets the chance during its short  odd minute running time which i felt itself was a problem as the thing just finishes out of what could easily be interpreted as necessity rather than any meaningful attempt to wrap things up',\n",
       " 'i wasnt happy with the inconsistencies with the story either if men only kill when sexually aroused why does the flight attendant casually break that womans neck on the plane was he sexually aroused i think not',\n",
       " 'why does every bloke then think hes killing in the name of god i just cant see every single bloke on earth suddenly knowing the bible  starting to believe in god i just found the notion ridiculous  the show also states clearly that theres nothing religious about whats going on so whats the deal with everyone thinking they have a divine to murder any woman they see then theres the fact people get turned on by different things what about gays for instance will they kill guys instead of women i know theres a brief scene which makes a joke out of the gay issue but its conveniently brushed to one side  then theres the thing which annoyed me the most',\n",
       " 'the fact that presumably every bloke on earth has turned psycho  killed all the women they go about their everyday business like nothing ever happened it just felt so stupid the plotting is rubbish  to round things off theres a ending which looks like it was taken from a rejected episode of the xfiles    with a bright neon alien',\n",
       " 'director dante on this showing definitely doesnt qualify as a master of horror as far a im concerned the story is badly paced its just so stupid considering its played deadly straight  instead of trying to make a proper horror show he turns in more of a thriller with its deadly virus on the loose situation  the subsequent mother  daughter on the run because of it theres very little here in the way of what i would call effective horror  even less gore',\n",
       " 'theres a scene when a woman is stabbed with a broken bottle a brief scene after when a guy stabs his own groin with said bottle  another woman is stabbed in the stomach but nothing else to write home about',\n",
       " 'technically like the other episodes its really good  it doesnt have the look of a cheap tv series the special effects are great as usual  its well made',\n",
       " 'the acting is alright but noone really stood out',\n",
       " 'the screwfly solution is easily the worst masters of horror episode ive seen but bear in mind i havent seen all of them',\n",
       " 'yet',\n",
       " 'as a stand alone piece of entertainment it did nothing for me  as a show made by a socalled master of horror it disappoints me even more',\n",
       " 'i love the frequently misnomered masters of horror series',\n",
       " 'horror fans live in a constant lack of nourishment',\n",
       " 'projects like this and the similar greenlight project with gave us feast  like it or lump it are breeding grounds for wonderful thought bubbles in the minds of directors with a horror bent to develop and bring to maturation food for we who love to dine on horror',\n",
       " 'this one began with a kernel of reallykoolidea and ran',\n",
       " 'right off the edge of where in the world am i going with this',\n",
       " 'i dont know how to spoil the spoiled but spoiler ahead all of a sudden',\n",
       " 'no there was that light drifting across the night sky earlier',\n",
       " 'we have long haired luminescent aliens huh',\n",
       " 'huh brain drilling males and',\n",
       " 'yeah i get it but',\n",
       " 'well',\n",
       " 'the worst curse of storytelling  a rousing and promising set up without a rewarding denouement',\n",
       " 'cue to storytellers',\n",
       " 'your build up has to have a payoff that exceeds build up',\n",
       " 'not the other way around',\n",
       " 'storytelling math',\n",
       " 'end of spoilers  big oops',\n",
       " 'jewish newspaper reporter justin timberlake as joshua josh pollack is puzzled when a courtroom defendant whispers thank you to testifying officer ll cool j as rafe deed as he leaves the witness stand',\n",
       " 'in the opening sequences of this film you are given the explanation',\n",
       " 'you will see mr',\n",
       " 'cool js devilish detective partner dylan mcdermott as frances laz lazerov decide not to murder damien dante wayans as isaiah charles',\n",
       " 'the cops in the city of edison are so corrupt they shoot their suspects steal their money and snort their dope',\n",
       " 'whether hes out to impress his girlfriend herein called pussy or win a pulitzer the citys corruption does not sit well with the noble mr',\n",
       " 'timberlake',\n",
       " 'timberlake decides to investigate the corruption which reaches both unexpected scope and lifethreatening levels of danger',\n",
       " 'writerdirector david j',\n",
       " 'burke keeps the film above water but just barely',\n",
       " 'll cool j beats timberlake in the pop star to movie star sweepstakes aka the rapper to actor progression',\n",
       " 'mr',\n",
       " 'mcdermott has fun with his role',\n",
       " 'lending gravitas to the proceedings are sagely supporting actors morgan freeman as moses ashford and kevin spacey as levon wallace',\n",
       " 'f',\n",
       " 'r',\n",
       " 'a',\n",
       " 't',\n",
       " 'means first response assault and tactical but its more important to know that edison force stars justin timberlake and ll cool j not morgan freeman and kevin spacey who seems lost',\n",
       " 'edison  david j',\n",
       " 'burke  justin timberlake ll cool j morgan freeman dylan mcdermott',\n",
       " 'a huge disappointment from writer hamm and director dante',\n",
       " 'their previous collaboration on the first seasons homecoming was twisted and darkly hilarious in all the right ways',\n",
       " 'this poor handling of an intriguing premise left me bewildered',\n",
       " 'the supposed payoff showing generic aliens extracting something from the brains of the infected psychopaths was completely unsatisfying and explained nothing',\n",
       " 'if the point of the story was an extraterrestrial cleaning of the planet of its human infestation why did they go about it in such a gratuitously sadistic and misogynistic fashion why not just unleash a completely lethal virus a la stephen kings the stand instead of having the male population butcher the females i kept hoping the episode would improve as i kept watching but it just got more pretentious and preposterous',\n",
       " 'the religious subtext simply seemed forced but it was clear sam hamm must have thought it was profound by the weight he gave it',\n",
       " 'i like a lot of both dante and hamms work but this was just unwatchable',\n",
       " 'i gave this  stars because it has a lot of interesting themes many here have already mentioned',\n",
       " 'from the domestic violence to sexuality and many of the taboos therein',\n",
       " 'outside of the gore i really would not call this horror so much as i would science fiction',\n",
       " 'its bleak depressing and hopeless',\n",
       " 'while i dont mind a less than cheery ending im really very tired of the humans suck clichã© thats central to every movie',\n",
       " 'i know you cant get a liberal arts degree today without bowing to the alter of selfhatred as a member of the human race but hows bout as a writerdirector we pretend we are different than everyone else in the pack and notice that the aliens killing the human race are evil right now if you are reading this and believe that humanity deserves to die just go out find a lake and swim til your arms are tired',\n",
       " 'this way you wont be around to direct the next film or write the next book telling me i deserve to die for being alive',\n",
       " 'its silly not thoughtful and boring',\n",
       " 'warner bros',\n",
       " 'made many potboilers in the  and most of them are fast paced economical and very entertaining',\n",
       " 'i really love how the studio exploited the less glamorous elements of our daily life',\n",
       " 'this is one of warners few hardedged melodramas that simply doesnt work',\n",
       " 'edward g',\n",
       " 'robinson plays a ruthless editor of newspaper who resurrects the  old story of a murderess with tragic consequences',\n",
       " 'robinson gives a lively performance but he is surrounded by actors that dont cut the mustard',\n",
       " 'h',\n",
       " 'b',\n",
       " 'warner aline macmahon and boris karloff are good but the bad acting of frances starr and anthony bushell in the second leads really hurts the movie',\n",
       " 'starr is particularly bad during her big dramatic scene near the end of the movie',\n",
       " 'in addition the moralistic tone of the film seems ridiculous in the context of precode hollywood',\n",
       " 'leroys direction is full of innovative visual touches but he cannot overcome the bad acting and the unintentionally funny situations',\n",
       " 'sol politos camera work is strong',\n",
       " 'somehow this piece of dreck got an oscar nomination for best picture in a year that gave us m dracula and frankenstein',\n",
       " 'a little girls dead body is found stripped of all possible means of identification',\n",
       " 'when it is discovered that one leg is longer than the other it is assumed to be the body of a couples missing daughter',\n",
       " 'after this trauma the couple separates and the mother becomes addicted to tranquilizers and leads a miserable existence',\n",
       " 'all of this changes when one day many years later she receives a phone call from her daughter with the help of an excop and a reporter she sets out on a journey to determine if her daughter is indeed alive',\n",
       " 'los sin nombre is a mess plotwise moves at an achingly slow pace and is completely unscary',\n",
       " 'the saving grace is emma vilarasau who does an outstanding job as the desperate mother',\n",
       " 'the best part of the movie is the ending but im not sure it is worth enduring the rest of the film',\n",
       " 'beware of the english subtitles on the recent  releasethey arent very accurate',\n",
       " 'im not alone in admiring the first superman movie a film that richard donner executed masterfully',\n",
       " 'i am also not alone in scorning richard lesters superman',\n",
       " 'which brings us to the richard donner cut of the same movie sadly it is still an absolute abomination',\n",
       " 'supermans world is one where suspension of disbelief is required in strong doses but superman  stretches things too far',\n",
       " 'it doesnt matter who directed superman  because the script insults the intelligence of a first grader',\n",
       " 'in a sense there is no plot because the characters have zero motivation to act the way they do unlike the original superman',\n",
       " 'with or without his powers supermans strength or lack thereof is handled in the least believable manner',\n",
       " 'there is too much to criticize so i will not bother',\n",
       " 'i condemn this movie',\n",
       " 'perhaps the slapstick in the lester version is more appropriate to the moronic script this movie is based on',\n",
       " 'superduper bad',\n",
       " 'i grew up on the superman ii theatrical version  and as a kid i loved it more than part i since not only did it contain more superman and three supermantype villains it started off with a bang â the best clark kent to superman transformations and rescue scenes',\n",
       " 'kids no longer had to impatiently wait for superman to appear on screen as in part i',\n",
       " 'now as an adult i can see how the mighty had fallen with  see my review',\n",
       " 'ive always heard of the backstory on how they prematurely and unjustifiably fired the originals director richard donner from part ii',\n",
       " 'it must have been a rarity back then to film two separate movies simultaneously now its common back to the future and matrix    for example',\n",
       " 'unfortunately after finally seeing the richard donner cut or  i still cant fully recommend it',\n",
       " 'gone was the great superman change scene the entire paris rescue as was the wonderful recap of part i in  opening',\n",
       " 'in fact they all but wrote the words previously on supermanâ in',\n",
       " 'the special effects werent great in either part i or   but  they were mostly downright laughable â such as lois falling from the daily planet window',\n",
       " 'i will admit some new scenes worked and some they took out were welcomed departures such as any scene in the honeymoon suite',\n",
       " 'overall if you grew up on  as i did and loved it as a child â not nitpicking as i do as an adult you should absolutely see  as its almost a brand new childhood experience with dozens of new scenes',\n",
       " 'spoiler alert unfortunately the worst change comes last gone was also the weird amnesia kiss from  replaced with the exact same ending as i',\n",
       " 'this is not only a lazy unoriginal copout it doesnt make sense on why clark would go back to that diner if those events never actually happened',\n",
       " 'and will he continue to turn back time for every confrontation',\n",
       " 'so',\n",
       " 'we get so see added footage of brando',\n",
       " 'interesting but not exactly oscar worthy stuff',\n",
       " 'susannah york was hardly a slouch',\n",
       " 'new scene where lois finds out clark is superman is slightly unbelievable in that he doesnt notice that there are blanks coming out of the gun instead of real bullets',\n",
       " 'real bullets would have penetrated his clothes and then bounced off him onto the floor but forget that',\n",
       " 'lets listen to donner make fun of lesters version that made more logical sense',\n",
       " 'the president talks of the zod defacing the washington monument when it was originally mount rushmore',\n",
       " 'tweaking that scene made that line quite absurd',\n",
       " 'supermans freedom of the press line sounded silly compared to',\n",
       " 'care to step outside which was delivered better and had a fitting connection to clarks earlier scene in the truck stop',\n",
       " 'then there is the ending with the turn back the world to go back in time effect',\n",
       " 'it turned back everything in the whole movie and made you wonder where exactly the rocket aimed for hackensack n',\n",
       " 'j',\n",
       " 'ever went since it doesnt free zod and company any more',\n",
       " 'superman ii  the richard donner cut should be a fans dream come true',\n",
       " 'at long last footage only seen in photos and scenes that only existed on the printed page would finally come to life',\n",
       " 'a director that was unable to complete his vision would have the opportunity to have his vision restored',\n",
       " 'it seems like a winning situation',\n",
       " 'and then you start watching this assembly of footage and you realize this esoteric dream is a very real nightmare of sloppiness and incompetence',\n",
       " 'while its entirely possible that no movie could compete with the finished perfect version each of us has imagined over the years it really should have been a thrill to finally see this project',\n",
       " 'and it is only a very few times',\n",
       " 'you know things are shaky when the very first bit of text on screen looks like home brew computer graphics',\n",
       " 'but then we start seeing new footage alternates from superman  the movie for the trial and that first bit of hesitation fades away',\n",
       " 'hey this is pretty neat things are alright for these few fleeting moments until we see footage from stm intermixed with new effects for this project and it doesnt convince at all',\n",
       " 'and from this point on it never ever lets up',\n",
       " 'its probably not right to judge a movie because of bad visual effects but when this is supposedly the direct follow up to a movie whose tag line was youll believe a man can fly its difficult to believe anything shown on screen here',\n",
       " 'the best effects in this are from the original productions',\n",
       " 'another issue with this recut',\n",
       " 'a lot of it just doesnt make sense',\n",
       " 'the only reason any of it really works is because weve all seen the theatrical version of superman ii a movie that does make sense',\n",
       " 'lesters superman ii fills in the holes of this assembly',\n",
       " 'part of this could be because donner didnt get to complete shooting the other part could be because the makers of this project were intent on using as little lester material as possible',\n",
       " 'what we end up with is an assembly of footage that makes superman iv look airtight and coherent',\n",
       " 'after viewing this one gets the sense that while lester was faithful and comfortable using donner material michael thau and his team were extremely disrespectful towards anything filmed by lester',\n",
       " 'the best scenes in the donner cut are the ones lifted relatively intact from the released version of superman ii',\n",
       " 'that includes the moon sequence and the diner sequence not ironically both were filmed by donner',\n",
       " 'but anything else from that movie filmed by lester is reedited in such a hasty fashion that it now makes lester seem like a ham fisted know nothing',\n",
       " 'while lester honored the donner material lester here is thrown under the bus',\n",
       " 'so is there anything good in this release well marlon brando is in it and thats neat to see',\n",
       " 'in fact watching any of the material shot by donner is neat since it was all filmed at the same time as superman  the movie',\n",
       " 'but that only highlights the problems of this release',\n",
       " 'any of the major scenes really just lois jumping and scenes with marlon brando would have been better served as completed scenes in a deleted scenes section',\n",
       " 'instead they are shoe horned into a nonsensical narrative with inferior performances many alternate takes from familiar scenes are used sloppy edits and bad decisions',\n",
       " 'watch the opening scene at the daily planet',\n",
       " 'why are we looking at jackie coopers back as he calls for lois and clark at the end why do we have lois walking into her dark apartment only to have that followed by jackie cooper walking into a dark bathroom turning the lights on i was initially confused by this because i expected to see lois',\n",
       " 'the entire assembly is filled with questionable choices like this',\n",
       " 'battle scenes are a mess too with no geography between cuts',\n",
       " 'its just random action',\n",
       " 'of course the major action scenes were shot by lester and his material is only used as a bridge to the next set of donner outtakes or alternates',\n",
       " 'they should have used more of lesters footage but probably had too much pride to admit that',\n",
       " 'the sloppiness extends to the military missile as well',\n",
       " 'as noted elsewhere the missile shown in the donner cut bears the designation xk  while we all know its the xk  a blind man in stm knows that the producers of this assembly who tried so hard to honor the original film dropped the ball less than five minutes in and that mistake is indicative of the quality of the entire production',\n",
       " 'for all the supposed care that was put into this the final product has an air of shoddiness to it that is inescapable',\n",
       " 'the entire affair would probably be easier to digest if warners didnt make this a separate release here in the states',\n",
       " 'as it is were expected to pay for what is essentially a bonus disc of deleted scenes with a play all option',\n",
       " 'its really only worth one viewing so that we can finally see the legendary cut scenes but after that initial viewing i expect that this will be an excellent magnet for dust and little else',\n",
       " 'i know after my experience of watching this i had new respect for lesters version',\n",
       " 'its by no means perfect but lester realized the deficiencies that were in the script that stand out here in bold relief',\n",
       " 'he managed to make a movie that has entertained for many years and will continue to do so while this new recut will most likely only be remembered as a footnote in that films history',\n",
       " 'i was fascinated as to how truly bad this movie was',\n",
       " 'was the viewer supposed to learn something or reflect on anything here what was up with the pumpkins was i supposed to be impressed with the motel shots does it matter that there are some garbage bags on a rooftop across the street of a hotel why does the narrator unsuccessfully mock the people he interviews it is so obvious that he edited out the really informative parts of his interviews to achieve mockery',\n",
       " 'the best part of the movie was the interview with the film professor who tells us how bad this movie will be even before it is finished',\n",
       " 'i am truly amazed',\n",
       " 'i believe that the creator is struggling to become an intellectual or is trying to impress the intellectual community',\n",
       " 'i was expecting a documentary that focused on the tobacco industry in north carolina',\n",
       " 'instead i watched a man who rues the fact that his great grandfather lost his tobacco empire to the duke family',\n",
       " 'and this went on and on',\n",
       " 'if mr',\n",
       " 'mcelwees family had prevailed over the dukes i doubt that mr',\n",
       " 'mcelwee would have any problems with the death toll caused by tobaccorelated diseases',\n",
       " 'i grew up near the area where mr',\n",
       " 'mcelwees family began it tobacco business  i expected more than mcewees continual focus on his family',\n",
       " 'i learned very little about the history of tobacco in the nc economy and the ramifications to the states economy by tighter regulation of tobacco',\n",
       " 'the countless references to the movie bright leaves are out of place  so what if gary cooper played mr',\n",
       " 'mcelwees great grandfather does the viewer gain any understanding of the role of tobacco in the north carolina economy by the showing of old film clips of a fictionalized film i didnt',\n",
       " 'when you go at an open air cinema under the greek summer night you usually dont care what the movie is edison started really good with some good effort from the singerswhowanttobe actors and a once again great morgan freeman but',\n",
       " 'in a movie there is usually a good start to catch audiencedone a bit boring yet story filling middle of the movie that is more about characters and less about action done and the third part is something really good so that you can remember the movie',\n",
       " 'when you see  elite police officers packed with weapons that can demolish a building shoot at a guy behind a car fail to hit him even once while he kills all but  and then the guy takes out a flame thrower to kill the rest  you realise that the greek summer sky filled with stars is way too good to be distracted by a movie like this',\n",
       " 'the author sets out on a journey of discovery of his roots in the southern tobacco industry because he believes that the completely and deservedly forgotten movie bright leaf is about an ancestor of his',\n",
       " 'its not and he in fact discovers nothing of even mild interest in this absolutely silly and selfindulgent glorified home movie suitable for screening at the directors drunken family reunions but certainly not for commercial  or even noncommercial release',\n",
       " 'a good reminder of why most independent films are not picked up by major studios  because they are boring irrelevant and of no interest to anyone but the director and hisher immediate circles',\n",
       " 'avoid at all costs',\n",
       " 'the curse of frankenstein sticks faithfully to mary shelleys story for one word of the title which wouldnt be so bad if the changes were any good at all',\n",
       " 'the tragedy of the creature destroying frankensteins family has been completely excised and replaced with',\n",
       " 'nothing',\n",
       " 'the heart and moral centre of the story is gone',\n",
       " 'it doesnt help that this frankenstein is a conniving devious murderer he deserves everything he gets',\n",
       " 'the plot is basically a shallow checklist of frankenstein clichã©s',\n",
       " 'even taken on its own terms this is rubbish a bland rambling film featuring a shitelooking creature with a pudding bowl haircut',\n",
       " 'as its the first of hammers horror films directed by terence fisher and starring peter cushing and christopher lee its place in horror history is secure',\n",
       " 'but its crap',\n",
       " 'nintendo you ers how could you do this to me i cant believe it',\n",
       " 'this movie is actually worse than the first one',\n",
       " 'i went to see this at the theatre with my brother because my mother forced me to tag along',\n",
       " 'oh god',\n",
       " 'where do i even begin the plot sucked',\n",
       " 'the voice acting sucked',\n",
       " 'the animation sucked',\n",
       " 'the ending really sucked',\n",
       " 'if you liked this movie you suck too',\n",
       " 'and to  who said this was the greatest movie ever you are a tool plain and simple',\n",
       " 'this isnt a movie for anyone but crackaddled tenyear olds with game boys who think pikachu is god',\n",
       " 'im still cry to this day thinking about that horrible turd of a movie',\n",
       " 'and then there was pikachus adventure',\n",
       " 'dont even get me started on that horrible mess of a film',\n",
       " 'it is in all truth one of the most boring experiences of my entire life',\n",
       " 'dont go watch this at any costs',\n",
       " 'bottom line go out find every copy of this movie that you can and burn it',\n",
       " 'burn them all and then proceed to rent a good movie like aliens',\n",
       " 'or bowling for columbine',\n",
       " 'or even back to the future',\n",
       " 'now i have never ever seen a bad movie in all my years but what is with songs in the movie what physiological meaning does it have',\n",
       " 'wow some demented pokã©mon shows up and they multiply i can get a seizure from this',\n",
       " 'animie is pointless the makers of it are pointless its a big marketing scheme look just cut down on songs and they will get a good rating i reckon that this movie would have been fine if they put out a message you must see all the pokã©mon episodes to understand whats going on and it is not a film',\n",
       " 'it is just an animation it should be on video',\n",
       " 'ps ill give it a  because i just got  bucks i could not give it a half because theres no halves',\n",
       " 'pokemon the movie was a terrible film',\n",
       " 'unlike the first one this is not a good film at all',\n",
       " 'the graphics were decent but the story was flat and no real drama was built up in it',\n",
       " 'in the first one the interaction between the characters were decent',\n",
       " 'the subtraction of brock and addition of tracey was bad',\n",
       " 'tracey really doesnt have much to say or do and unlike brock offers no comic relief',\n",
       " 'the only good points is you get to see misty actually get jelous over ash and her early brooding over being called his girlfriend was entertaining',\n",
       " 'overall this film isnt worth renting and the short movie before didnt do anything for me or my wife',\n",
       " 'and we do consider ourselves pokemon fans',\n",
       " 'oh well maybe the next one will be better',\n",
       " 'cant ge t much worse',\n",
       " 'much worse than the original',\n",
       " 'it was actually painful to sit through and it barely held my six year olds interest',\n",
       " 'introduction of some new pokemon is marginally interesting but storyline is extrathin dialogue is still bad and music is mediocre',\n",
       " 'watch the television show instead  its much better',\n",
       " 'i recently watched this again and theres another version which is shorter',\n",
       " 'i get the feeling they are the same movie but i would like to know the difference',\n",
       " 'one is japanese and no pikachu short is all i can come up with',\n",
       " 'ohtherwise why vote for the same movie twice prof ivy was rather boring',\n",
       " 'she sounded as if she was almost asleep no expression at all with the few lines she had',\n",
       " 'this was enjoyable enough but there wasnt much to it at all',\n",
       " 'a collector whos after lugia he has no plan to destroy the world and the usual characters who try to stop him because trying to capture lugia causes a lot of destruction',\n",
       " 'the pokemon movies that follow are slightly better deoxys poke  is great with no',\n",
       " 'almost here',\n",
       " 'i figured that its about time i let this one out',\n",
       " 'pokã©mon fans are suffering in america these days',\n",
       " 'why because we rely on kids wb and  entertainment to provide us with our beloved series and movies',\n",
       " 'as far as the series goes they do a pretty good job in bringing the fun and magic of the japanese versions to television',\n",
       " 'so what is their problem when it comes to the movies honestly now i have seen all three pokã©mon movies in japanese and i will definitely be seeing the fourth one',\n",
       " 'they are excellent movies',\n",
       " 'they are all enjoyable and fun to watch',\n",
       " 'and after seeing pokã©mon  in theaters i cant help but wonder how these american producers read the japanese scripts',\n",
       " 'the way it appears it seems that they read and see something that says insert empty moral here in big bold faced letters',\n",
       " 'it definitely appears that way as they used the same wonderful dubbing methods they used on msb extreme sarcasm there and created this crap',\n",
       " 'possible spoilers from here onwell i guess i should first talk about pikachus rescue adventure',\n",
       " 'my first gripe with this came with no narration',\n",
       " 'i guess they got enough bad comments on the pokã©dex narration that plagued pikachus vacation and instead of going with a caring gentle womans voice as appeared in pikachu no natsu yasumi and pikachu tankentai they just cut the narration all together',\n",
       " 'this wouldnt have been a problem except for one thing',\n",
       " 'did anyone really understand why the exeggcute didnt let togepi go until the end possibly the fans but im sure not the parents',\n",
       " 'then theres the theme song',\n",
       " 'i couldnt help but roll my eyes at this one',\n",
       " 'the japanese theme song was tankentai wo tsukurou and was sung by japanese children',\n",
       " 'it was fun and enjoyable',\n",
       " 'this one nauseating',\n",
       " 'now one of my favorite parts of the short was the dancing kireihana',\n",
       " 'nice music fun to watch',\n",
       " 'thats changed with the bellossom',\n",
       " 'the music sucked for one but on top of that they had all the pokã©mon talk during the music which turned out to be jumpy annoying and just unnecessary',\n",
       " 'oh and then theres the poliwhirl who thinks hes a poliwrath',\n",
       " ...]"
      ]
     },
     "execution_count": 30,
     "metadata": {},
     "output_type": "execute_result"
    }
   ],
   "source": [
    "[x.strip() for x in upd_splitted_reviews_words if x.strip()]\n",
    "[x.strip() for x in upd_splitted_reviews_sentences if x.strip()]"
   ]
  },
  {
   "cell_type": "code",
   "execution_count": 31,
   "metadata": {
    "ExecuteTime": {
     "end_time": "2021-06-10T12:23:00.590593Z",
     "start_time": "2021-06-10T12:23:00.574656Z"
    },
    "id": "oWnFce39kouE"
   },
   "outputs": [],
   "source": [
    "splitted_reviews_sentences=[]\n",
    "splitted_reviews=[]\n",
    "\n",
    "splitted_reviews_sentences=upd_splitted_reviews_sentences\n",
    "splitted_reviews=upd_splitted_reviews_words"
   ]
  },
  {
   "cell_type": "code",
   "execution_count": 32,
   "metadata": {
    "ExecuteTime": {
     "end_time": "2021-06-10T12:23:03.133853Z",
     "start_time": "2021-06-10T12:23:03.125910Z"
    },
    "colab": {
     "base_uri": "https://localhost:8080/"
    },
    "id": "e7_LH13kkpQu",
    "outputId": "184b44ef-d5f7-4a52-8a90-3ff53134aa32"
   },
   "outputs": [
    {
     "data": {
      "text/plain": [
       "['story of a man who has unnatural feelings for a pig',\n",
       " ' starts out with a opening scene that is a terrific example of absurd comedy',\n",
       " ' a formal orchestra audience is turned into an insane violent mob by the crazy chantings of its singers',\n",
       " ' unfortunately it stays absurd the whole time with no general narrative eventually making it just too off putting',\n",
       " ' even those from the era should be turned off',\n",
       " ' the cryptic dialogue would make shakespeare seem easy to a third grader',\n",
       " ' on a technical level its better than you might think with some good cinematography by future great vilmos zsigmond',\n",
       " ' future stars sally kirkland and frederic forrest can be seen briefly',\n",
       " 'airport  starts as a brand new luxury  plane is loaded up with valuable paintings  such belonging to rich businessman philip stevens james stewart who is flying them  a bunch of vips to his estate in preparation of it being opened to the public as a museum also on board is stevens daughter julie kathleen quinlan  her son',\n",
       " ' the luxury jetliner takes off as planned but midair the plane is hijacked by the copilot chambers robert foxworth  his two accomplices banker monte markham  wilson michael pataki who knock the passengers  crew out with sleeping gas they plan to steal the valuable cargo  land on a disused plane strip on an isolated island but while making his descent chambers almost hits an oil rig in the ocean  loses control of the plane sending it crashing into the sea where it sinks to the bottom right bang in the middle of the bermuda triangle']"
      ]
     },
     "execution_count": 32,
     "metadata": {},
     "output_type": "execute_result"
    }
   ],
   "source": [
    "# filter(None, splitted_reviews_sentences)\n",
    "splitted_reviews_sentences = [x for x in splitted_reviews_sentences if x != '']\n",
    "# splitted_reviews_sentences = [x for x in splitted_reviews_sentences if len(x) <= 5]\n",
    "\n",
    "splitted_reviews_sentences[0:10]"
   ]
  },
  {
   "cell_type": "code",
   "execution_count": 33,
   "metadata": {
    "ExecuteTime": {
     "end_time": "2021-06-10T12:23:05.760721Z",
     "start_time": "2021-06-10T12:23:05.746748Z"
    },
    "id": "PAQqJaBnkpSx"
   },
   "outputs": [],
   "source": [
    "ss=splitted_reviews_sentences\n",
    "u_splitted_reviews_sentences=[]\n",
    "for i in ss:\n",
    "    if(len(i)==10):\n",
    "        continue\n",
    "    else:\n",
    "        u_splitted_reviews_sentences.append(i)\n",
    "\n",
    "splitted_reviews_sentences=[]\n",
    "splitted_reviews_sentences=u_splitted_reviews_sentences\n"
   ]
  },
  {
   "cell_type": "markdown",
   "metadata": {
    "id": "fMoO5RHNV-q9"
   },
   "source": [
    "**As our mission is to perform spelling correction on misspelled words; we must have misspelled words which called noised words. In the block below we create the noised dataset by taking each sentence in the review and review by review and noising it, then saving the noised dataset into a file for future use**"
   ]
  },
  {
   "cell_type": "code",
   "execution_count": 34,
   "metadata": {},
   "outputs": [
    {
     "name": "stdout",
     "output_type": "stream",
     "text": [
      "Utilizing resources existing in folder C:\\ProgramData\\Anaconda3\\lib\\site-packages\\neuspell\\../data\\noising_resources\\en-word-replacement-noise\n",
      "Utilizing resources existing in folder C:\\ProgramData\\Anaconda3\\lib\\site-packages\\neuspell\\../data\\noising_resources\\en-word-replacement-noise\n",
      "total # of texts after retokenization: 11822\n",
      "total # of tokens after retokenization: 215091\n",
      "total lines in inp to noisyfy_word_tokens: 11822\n",
      "total tokens in inp to noisyfy_word_tokens: 215091\n"
     ]
    },
    {
     "data": {
      "application/vnd.jupyter.widget-view+json": {
       "model_id": "00d81e35a9db43db93f10cfb884b4434",
       "version_major": 2,
       "version_minor": 0
      },
      "text/plain": [
       "  0%|          | 0/11822 [00:00<?, ?it/s]"
      ]
     },
     "metadata": {},
     "output_type": "display_data"
    },
    {
     "name": "stdout",
     "output_type": "stream",
     "text": [
      "unique tokens overlapped with replacement lookup: 7498\n",
      "total tokens overlapped with replacement lookup: 188033\n",
      "overlap percent wrt original_sentences: 87.4202\n",
      "overlap percent wrt mistakes_vocab: 41.3500\n",
      "22.8780% of overlapped tokens will get replaced to match the total % of misspellings to 20.0000%\n",
      "Percentage of tokens that actually got replaced 42187/215091=19.6136%\n",
      "No of tokens in mistakes_mappings queried: 4373\n"
     ]
    }
   ],
   "source": [
    "from neuspell.noising import WordReplacementNoiser\n",
    "\n",
    "word_repl_noiser = WordReplacementNoiser(language=\"english\")\n",
    "word_repl_noiser.load_resources()\n",
    "noise_texts = word_repl_noiser.noise(splitted_reviews_sentences)\n",
    "\n",
    "with open('noised_data.txt', 'w') as filehandle:\n",
    "    filehandle.writelines(\"%s ,\\n\" % review for review in noise_texts)"
   ]
  },
  {
   "cell_type": "markdown",
   "metadata": {},
   "source": [
    "**Example of noised review**"
   ]
  },
  {
   "cell_type": "code",
   "execution_count": 35,
   "metadata": {},
   "outputs": [
    {
     "data": {
      "text/plain": [
       "'strory of a man who has unaturral feelings for a pig'"
      ]
     },
     "execution_count": 35,
     "metadata": {},
     "output_type": "execute_result"
    }
   ],
   "source": [
    "noise_texts [0]"
   ]
  },
  {
   "cell_type": "code",
   "execution_count": 20,
   "metadata": {
    "ExecuteTime": {
     "end_time": "2021-06-10T12:23:08.507947Z",
     "start_time": "2021-06-10T12:23:08.494016Z"
    },
    "id": "iJzQSazYV-tV"
   },
   "outputs": [],
   "source": [
    "def _create_frequency_matrix(sentences):\n",
    "    frequency_matrix = {}\n",
    "    stopWords = set(stopwords.words(\"english\"))\n",
    "    #ps = PorterStemmer()\n",
    "    ps=SnowballStemmer(language=\"english\")\n",
    "\n",
    "    for sent in sentences:\n",
    "        freq_table = {}\n",
    "        words = word_tokenize(sent)\n",
    "        for word in words:\n",
    "            word = word.lower()\n",
    "            word = ps.stem(word)\n",
    "            if word in stopWords:\n",
    "                continue\n",
    "\n",
    "            if word in freq_table:\n",
    "                freq_table[word] += 1\n",
    "            else:\n",
    "                freq_table[word] = 1\n",
    "\n",
    "        frequency_matrix[sent[:15]] = freq_table\n",
    "\n",
    "    return frequency_matrix\n",
    "\n",
    "\n",
    "\n",
    "def get_count(words):\n",
    "    word_count_dict = {}\n",
    "    word_count_dict = Counter(words)\n",
    "    return word_count_dict\n",
    "\n",
    "#word_count_dict = get_count(book_words) # dictionary with the count\n",
    "\n",
    "# calculate probability of the occurrence\n",
    "def occurr_prob(word_count_dict):\n",
    "    probs = {}\n",
    "    m = sum(word_count_dict.values())\n",
    "    for key in word_count_dict:\n",
    "        probs[key] = word_count_dict[key]/m #calculate prob for each word\n",
    "    return probs\n"
   ]
  },
  {
   "cell_type": "code",
   "execution_count": 21,
   "metadata": {
    "ExecuteTime": {
     "end_time": "2021-06-10T12:23:11.285323Z",
     "start_time": "2021-06-10T12:23:11.238056Z"
    },
    "colab": {
     "base_uri": "https://localhost:8080/"
    },
    "id": "-xi26UC-V-v5",
    "outputId": "1933b36c-bfce-4c90-f793-baf9be31216b"
   },
   "outputs": [
    {
     "name": "stdout",
     "output_type": "stream",
     "text": [
      "114307\n"
     ]
    },
    {
     "data": {
      "text/plain": [
       "['story',\n",
       " 'man',\n",
       " 'unnatural',\n",
       " 'feelings',\n",
       " 'pig',\n",
       " 'starts',\n",
       " 'opening',\n",
       " 'scene',\n",
       " 'terrific',\n",
       " 'example',\n",
       " 'absurd',\n",
       " 'comedy',\n",
       " 'formal',\n",
       " 'orchestra',\n",
       " 'audience',\n",
       " 'turned',\n",
       " 'insane',\n",
       " 'violent',\n",
       " 'mob',\n",
       " 'crazy',\n",
       " 'chantings',\n",
       " 'singers',\n",
       " 'unfortunately',\n",
       " 'stays',\n",
       " 'absurd',\n",
       " 'whole',\n",
       " 'time',\n",
       " 'general',\n",
       " 'narrative',\n",
       " 'eventually',\n",
       " 'making',\n",
       " 'putting',\n",
       " 'even',\n",
       " 'era',\n",
       " 'turned',\n",
       " 'cryptic',\n",
       " 'dialogue',\n",
       " 'would',\n",
       " 'make',\n",
       " 'shakespeare',\n",
       " 'seem',\n",
       " 'easy',\n",
       " 'third',\n",
       " 'grader',\n",
       " 'technical',\n",
       " 'level',\n",
       " 'better',\n",
       " 'might',\n",
       " 'think',\n",
       " 'good',\n",
       " 'cinematography',\n",
       " 'future',\n",
       " 'great',\n",
       " 'vilmos',\n",
       " 'zsigmond',\n",
       " 'future',\n",
       " 'stars',\n",
       " 'sally',\n",
       " 'kirkland',\n",
       " 'frederic',\n",
       " 'forrest',\n",
       " 'seen',\n",
       " 'briefly',\n",
       " 'airport',\n",
       " '',\n",
       " 'starts',\n",
       " 'brand',\n",
       " 'new',\n",
       " 'luxury',\n",
       " '',\n",
       " 'plane',\n",
       " 'loaded',\n",
       " 'valuable',\n",
       " 'paintings',\n",
       " '',\n",
       " 'belonging',\n",
       " 'rich',\n",
       " 'businessman',\n",
       " 'philip',\n",
       " 'stevens',\n",
       " 'james',\n",
       " 'stewart',\n",
       " 'flying',\n",
       " '',\n",
       " 'bunch',\n",
       " 'vips',\n",
       " 'estate',\n",
       " 'preparation',\n",
       " 'opened',\n",
       " 'public',\n",
       " 'museum',\n",
       " 'also',\n",
       " 'board',\n",
       " 'stevens',\n",
       " 'daughter',\n",
       " 'julie',\n",
       " 'kathleen',\n",
       " 'quinlan',\n",
       " '',\n",
       " 'son',\n",
       " 'luxury',\n",
       " 'jetliner',\n",
       " 'takes',\n",
       " 'planned',\n",
       " 'midair',\n",
       " 'plane',\n",
       " 'hijacked',\n",
       " 'copilot',\n",
       " 'chambers',\n",
       " 'robert',\n",
       " 'foxworth',\n",
       " '',\n",
       " 'two',\n",
       " 'accomplices',\n",
       " 'banker',\n",
       " 'monte',\n",
       " 'markham',\n",
       " '',\n",
       " 'wilson',\n",
       " 'michael',\n",
       " 'pataki',\n",
       " 'knock',\n",
       " 'passengers',\n",
       " '',\n",
       " 'crew',\n",
       " 'sleeping',\n",
       " 'gas',\n",
       " 'plan',\n",
       " 'steal',\n",
       " 'valuable',\n",
       " 'cargo',\n",
       " '',\n",
       " 'land',\n",
       " 'disused',\n",
       " 'plane',\n",
       " 'strip',\n",
       " 'isolated',\n",
       " 'island',\n",
       " 'making',\n",
       " 'descent',\n",
       " 'chambers',\n",
       " 'almost',\n",
       " 'hits',\n",
       " 'oil',\n",
       " 'rig',\n",
       " 'ocean',\n",
       " '',\n",
       " 'loses',\n",
       " 'control',\n",
       " 'plane',\n",
       " 'sending',\n",
       " 'crashing',\n",
       " 'sea',\n",
       " 'sinks',\n",
       " 'bottom',\n",
       " 'right',\n",
       " 'bang',\n",
       " 'middle',\n",
       " 'bermuda',\n",
       " 'triangle',\n",
       " 'air',\n",
       " 'short',\n",
       " 'supply',\n",
       " 'water',\n",
       " 'leaking',\n",
       " '',\n",
       " 'flown',\n",
       " '',\n",
       " 'miles',\n",
       " 'course',\n",
       " 'problems',\n",
       " 'mount',\n",
       " 'survivors',\n",
       " 'await',\n",
       " 'help',\n",
       " 'time',\n",
       " 'fast',\n",
       " 'running',\n",
       " 'outalso',\n",
       " 'known',\n",
       " 'slightly',\n",
       " 'different',\n",
       " 'tile',\n",
       " 'airport',\n",
       " '',\n",
       " 'second',\n",
       " 'sequel',\n",
       " 'smashhit',\n",
       " 'disaster',\n",
       " 'thriller',\n",
       " 'airport',\n",
       " '',\n",
       " 'directed',\n",
       " 'jerry',\n",
       " 'jameson',\n",
       " '',\n",
       " 'like',\n",
       " 'predecessors',\n",
       " 'cant',\n",
       " 'say',\n",
       " 'airport',\n",
       " '',\n",
       " 'sort',\n",
       " 'forgotten',\n",
       " 'classic',\n",
       " 'entertaining',\n",
       " 'although',\n",
       " 'necessarily',\n",
       " 'right',\n",
       " 'reasons',\n",
       " 'three',\n",
       " 'airport',\n",
       " 'films',\n",
       " 'seen',\n",
       " 'far',\n",
       " 'actually',\n",
       " 'liked',\n",
       " 'one',\n",
       " 'best',\n",
       " 'favourite',\n",
       " 'plot',\n",
       " 'three',\n",
       " 'nice',\n",
       " 'midair',\n",
       " 'hijacking',\n",
       " '',\n",
       " 'crashing',\n",
       " 'didnt',\n",
       " 'see',\n",
       " 'oil',\n",
       " 'rig',\n",
       " '',\n",
       " 'sinking',\n",
       " '',\n",
       " 'maybe',\n",
       " 'makers',\n",
       " 'trying',\n",
       " 'cross',\n",
       " 'original',\n",
       " 'airport',\n",
       " 'another',\n",
       " 'popular',\n",
       " 'disaster',\n",
       " 'flick',\n",
       " 'period',\n",
       " 'poseidon',\n",
       " 'adventure',\n",
       " '',\n",
       " '',\n",
       " 'submerged',\n",
       " 'stays',\n",
       " 'end',\n",
       " 'stark',\n",
       " 'dilemma',\n",
       " 'facing',\n",
       " 'trapped',\n",
       " 'inside',\n",
       " 'either',\n",
       " 'suffocate',\n",
       " 'air',\n",
       " 'runs',\n",
       " 'drown',\n",
       " '',\n",
       " 'floods',\n",
       " 'doors',\n",
       " 'opened',\n",
       " '',\n",
       " 'decent',\n",
       " 'idea',\n",
       " 'could',\n",
       " 'made',\n",
       " 'great',\n",
       " 'little',\n",
       " 'disaster',\n",
       " 'flick',\n",
       " 'bad',\n",
       " 'unsympathetic',\n",
       " 'characters',\n",
       " 'dull',\n",
       " 'dialogue',\n",
       " 'lethargic',\n",
       " 'setpieces',\n",
       " '',\n",
       " 'real',\n",
       " 'lack',\n",
       " 'danger',\n",
       " 'suspense',\n",
       " 'tension',\n",
       " 'means',\n",
       " 'missed',\n",
       " 'opportunity',\n",
       " 'rather',\n",
       " 'sluggish',\n",
       " 'plot',\n",
       " 'keeps',\n",
       " 'one',\n",
       " 'entertained',\n",
       " '',\n",
       " 'odd',\n",
       " 'minutes',\n",
       " 'much',\n",
       " 'happens',\n",
       " 'plane',\n",
       " 'sinks',\n",
       " '',\n",
       " 'theres',\n",
       " 'much',\n",
       " 'urgency',\n",
       " 'thought',\n",
       " 'even',\n",
       " 'navy',\n",
       " 'become',\n",
       " 'involved',\n",
       " 'things',\n",
       " 'dont',\n",
       " 'pick',\n",
       " 'much',\n",
       " 'shots',\n",
       " 'huge',\n",
       " 'ships',\n",
       " '',\n",
       " 'helicopters',\n",
       " 'flying',\n",
       " 'theres',\n",
       " 'something',\n",
       " 'lacking',\n",
       " 'george',\n",
       " 'kennedy',\n",
       " 'jinxed',\n",
       " 'airline',\n",
       " 'worker',\n",
       " 'joe',\n",
       " 'patroni',\n",
       " 'back',\n",
       " 'gets',\n",
       " 'couple',\n",
       " 'scenes',\n",
       " '',\n",
       " 'barely',\n",
       " 'even',\n",
       " 'says',\n",
       " 'anything',\n",
       " 'preferring',\n",
       " 'look',\n",
       " 'worried',\n",
       " 'backgroundthe',\n",
       " 'home',\n",
       " 'video',\n",
       " '',\n",
       " 'theatrical',\n",
       " 'version',\n",
       " 'airport',\n",
       " '',\n",
       " 'run',\n",
       " '',\n",
       " 'minutes',\n",
       " 'us',\n",
       " 'tv',\n",
       " 'versions',\n",
       " 'add',\n",
       " 'extra',\n",
       " 'hour',\n",
       " 'footage',\n",
       " 'including',\n",
       " 'new',\n",
       " 'opening',\n",
       " 'credits',\n",
       " 'sequence',\n",
       " 'many',\n",
       " 'scenes',\n",
       " 'george',\n",
       " 'kennedy',\n",
       " 'patroni',\n",
       " 'flashbacks',\n",
       " 'flesh',\n",
       " 'characters',\n",
       " 'longer',\n",
       " 'rescue',\n",
       " 'scenes',\n",
       " '',\n",
       " 'discovery',\n",
       " 'another',\n",
       " 'couple',\n",
       " 'dead',\n",
       " 'bodies',\n",
       " 'including',\n",
       " 'navigator',\n",
       " 'would',\n",
       " 'like',\n",
       " 'see',\n",
       " 'extra',\n",
       " 'footage',\n",
       " 'sure',\n",
       " 'could',\n",
       " 'sit',\n",
       " 'near',\n",
       " 'three',\n",
       " 'hour',\n",
       " 'cut',\n",
       " 'airport',\n",
       " '',\n",
       " 'expected',\n",
       " 'film',\n",
       " 'dated',\n",
       " 'badly',\n",
       " 'horrible',\n",
       " 'fashions',\n",
       " '',\n",
       " 'interior',\n",
       " 'design',\n",
       " 'choices',\n",
       " 'say',\n",
       " 'toy',\n",
       " 'plane',\n",
       " 'model',\n",
       " 'effects',\n",
       " 'arent',\n",
       " 'great',\n",
       " 'either',\n",
       " 'along',\n",
       " 'two',\n",
       " 'airport',\n",
       " 'sequels',\n",
       " 'takes',\n",
       " 'pride',\n",
       " 'place',\n",
       " 'razzie',\n",
       " 'awards',\n",
       " 'hall',\n",
       " 'shame',\n",
       " 'although',\n",
       " 'think',\n",
       " 'lots',\n",
       " 'worse',\n",
       " 'films',\n",
       " 'reckon',\n",
       " 'thats',\n",
       " 'little',\n",
       " 'harsh',\n",
       " 'action',\n",
       " 'scenes',\n",
       " 'little',\n",
       " 'dull',\n",
       " 'unfortunately',\n",
       " 'pace',\n",
       " 'slow',\n",
       " '',\n",
       " 'much',\n",
       " 'excitement',\n",
       " 'tension',\n",
       " 'generated',\n",
       " 'shame',\n",
       " 'reckon',\n",
       " 'could',\n",
       " 'pretty',\n",
       " 'good',\n",
       " 'film',\n",
       " 'made',\n",
       " 'properlythe',\n",
       " 'production',\n",
       " 'values',\n",
       " 'alright',\n",
       " 'nothing',\n",
       " 'spectacular',\n",
       " 'acting',\n",
       " 'isnt',\n",
       " 'great',\n",
       " 'two',\n",
       " 'time',\n",
       " 'oscar',\n",
       " 'winner',\n",
       " 'jack',\n",
       " 'lemmon',\n",
       " 'said',\n",
       " 'since',\n",
       " 'mistake',\n",
       " 'star',\n",
       " 'one',\n",
       " 'time',\n",
       " 'oscar',\n",
       " 'winner',\n",
       " 'james',\n",
       " 'stewart',\n",
       " 'looks',\n",
       " 'old',\n",
       " '',\n",
       " 'frail',\n",
       " 'also',\n",
       " 'one',\n",
       " 'time',\n",
       " 'oscar',\n",
       " 'winner',\n",
       " 'lee',\n",
       " 'grant',\n",
       " 'looks',\n",
       " 'drunk',\n",
       " 'sir',\n",
       " 'christopher',\n",
       " 'lee',\n",
       " 'given',\n",
       " 'little',\n",
       " '',\n",
       " 'plenty',\n",
       " 'familiar',\n",
       " 'faces',\n",
       " 'look',\n",
       " 'tooairport',\n",
       " '',\n",
       " 'disaster',\n",
       " 'orientated',\n",
       " 'three',\n",
       " 'airport',\n",
       " 'films',\n",
       " 'far',\n",
       " '',\n",
       " 'liked',\n",
       " 'ideas',\n",
       " 'behind',\n",
       " 'even',\n",
       " 'bit',\n",
       " 'silly',\n",
       " 'production',\n",
       " '',\n",
       " 'bland',\n",
       " 'direction',\n",
       " 'doesnt',\n",
       " 'help',\n",
       " 'though',\n",
       " '',\n",
       " 'film',\n",
       " 'sunken',\n",
       " 'plane',\n",
       " 'shouldnt',\n",
       " 'boring',\n",
       " 'lethargic',\n",
       " 'followed',\n",
       " 'concorde',\n",
       " '',\n",
       " 'airport',\n",
       " '',\n",
       " '',\n",
       " 'film',\n",
       " 'lacked',\n",
       " 'something',\n",
       " 'couldnt',\n",
       " 'put',\n",
       " 'finger',\n",
       " 'first',\n",
       " 'charisma',\n",
       " 'part',\n",
       " 'leading',\n",
       " 'actress',\n",
       " 'inevitably',\n",
       " 'translated',\n",
       " 'lack',\n",
       " 'chemistry',\n",
       " 'shared',\n",
       " 'screen',\n",
       " 'leading',\n",
       " 'man',\n",
       " 'even',\n",
       " 'romantic',\n",
       " 'scenes',\n",
       " 'came',\n",
       " 'across',\n",
       " 'merely',\n",
       " 'actors',\n",
       " 'play',\n",
       " 'could',\n",
       " 'well',\n",
       " 'director',\n",
       " 'miscalculated',\n",
       " 'needed',\n",
       " 'actors',\n",
       " 'dont',\n",
       " 'knowbut',\n",
       " 'could',\n",
       " 'screenplay',\n",
       " 'exactly',\n",
       " 'chef',\n",
       " 'love',\n",
       " 'seemed',\n",
       " 'enamored',\n",
       " 'culinary',\n",
       " 'skills',\n",
       " 'restaurant',\n",
       " 'ultimately',\n",
       " 'youthful',\n",
       " 'exploits',\n",
       " 'anybody',\n",
       " 'anything',\n",
       " 'else',\n",
       " 'never',\n",
       " 'convinced',\n",
       " 'love',\n",
       " 'princessi',\n",
       " 'disappointed',\n",
       " 'movie',\n",
       " 'dont',\n",
       " 'forget',\n",
       " 'nominated',\n",
       " 'oscar',\n",
       " 'judge',\n",
       " 'sorry',\n",
       " 'everyone',\n",
       " 'know',\n",
       " 'supposed',\n",
       " 'art',\n",
       " 'film',\n",
       " 'wow',\n",
       " 'handed',\n",
       " 'guns',\n",
       " 'screening',\n",
       " 'people',\n",
       " 'could',\n",
       " 'blow',\n",
       " 'brains',\n",
       " 'watch',\n",
       " 'although',\n",
       " 'scene',\n",
       " 'design',\n",
       " 'photographic',\n",
       " 'direction',\n",
       " 'excellent',\n",
       " 'story',\n",
       " 'painful',\n",
       " 'watch',\n",
       " 'absence',\n",
       " 'sound',\n",
       " 'track',\n",
       " 'brutal',\n",
       " 'loooonnnnng',\n",
       " 'shots',\n",
       " 'long',\n",
       " 'long',\n",
       " 'watch',\n",
       " 'two',\n",
       " 'people',\n",
       " 'sitting',\n",
       " 'talking',\n",
       " 'especially',\n",
       " 'dialogue',\n",
       " 'two',\n",
       " 'people',\n",
       " 'complaining',\n",
       " 'really',\n",
       " 'hard',\n",
       " 'time',\n",
       " 'getting',\n",
       " 'film',\n",
       " 'performances',\n",
       " 'excellent',\n",
       " 'much',\n",
       " 'dark',\n",
       " 'sombre',\n",
       " 'uninspired',\n",
       " 'stuff',\n",
       " 'take',\n",
       " 'thing',\n",
       " 'liked',\n",
       " 'maureen',\n",
       " 'stapleton',\n",
       " 'red',\n",
       " 'dress',\n",
       " 'dancing',\n",
       " 'scene',\n",
       " 'otherwise',\n",
       " 'ripoff',\n",
       " 'bergman',\n",
       " 'im',\n",
       " 'fan',\n",
       " 'f',\n",
       " 'either',\n",
       " 'think',\n",
       " 'anyone',\n",
       " 'says',\n",
       " 'enjoyed',\n",
       " '',\n",
       " '',\n",
       " 'hours',\n",
       " 'well',\n",
       " 'lying',\n",
       " 'little',\n",
       " 'parents',\n",
       " 'took',\n",
       " 'along',\n",
       " 'theater',\n",
       " 'see',\n",
       " 'interiors',\n",
       " 'one',\n",
       " 'many',\n",
       " 'movies',\n",
       " 'watched',\n",
       " 'parents',\n",
       " 'one',\n",
       " 'walked',\n",
       " 'since',\n",
       " 'never',\n",
       " 'seen',\n",
       " 'interiors',\n",
       " 'recently',\n",
       " 'could',\n",
       " 'lived',\n",
       " 'rest',\n",
       " 'life',\n",
       " 'without',\n",
       " 'pretentious',\n",
       " 'ponderous',\n",
       " 'painfully',\n",
       " 'boring',\n",
       " 'piece',\n",
       " '',\n",
       " 'wine',\n",
       " 'cheese',\n",
       " 'tripe',\n",
       " 'woody',\n",
       " 'allen',\n",
       " 'one',\n",
       " 'favorite',\n",
       " 'directors',\n",
       " 'interiors',\n",
       " 'far',\n",
       " 'worst',\n",
       " 'piece',\n",
       " 'crap',\n",
       " 'career',\n",
       " 'unmistakable',\n",
       " 'style',\n",
       " 'ingmar',\n",
       " 'berman',\n",
       " 'allen',\n",
       " 'gives',\n",
       " 'us',\n",
       " 'dark',\n",
       " 'angular',\n",
       " 'muted',\n",
       " 'insight',\n",
       " 'lives',\n",
       " 'family',\n",
       " 'wrought',\n",
       " 'psychological',\n",
       " 'damage',\n",
       " 'caused',\n",
       " 'divorce',\n",
       " 'estrangement',\n",
       " 'career',\n",
       " 'love',\n",
       " 'nonlove',\n",
       " 'halitosis',\n",
       " 'whatever',\n",
       " 'film',\n",
       " 'intentionally',\n",
       " 'comic',\n",
       " 'relief',\n",
       " 'music',\n",
       " 'drenched',\n",
       " 'shadowy',\n",
       " 'pathos',\n",
       " 'film',\n",
       " 'style',\n",
       " 'best',\n",
       " 'defined',\n",
       " 'expressionist',\n",
       " 'nature',\n",
       " 'using',\n",
       " 'improvisational',\n",
       " 'method',\n",
       " 'dialogue',\n",
       " 'illicit',\n",
       " 'pronounced',\n",
       " 'depth',\n",
       " 'meaning',\n",
       " 'truth',\n",
       " 'woody',\n",
       " 'allen',\n",
       " 'ingmar',\n",
       " 'bergman',\n",
       " 'film',\n",
       " 'painfully',\n",
       " 'slow',\n",
       " 'dull',\n",
       " 'beyond',\n",
       " 'simply',\n",
       " 'connection',\n",
       " 'sympathy',\n",
       " 'characters',\n",
       " 'instead',\n",
       " 'felt',\n",
       " 'contempt',\n",
       " 'parade',\n",
       " 'shuffling',\n",
       " 'whining',\n",
       " 'nicotine',\n",
       " 'stained',\n",
       " 'martyrs',\n",
       " 'perpetual',\n",
       " 'quest',\n",
       " 'identity',\n",
       " 'amid',\n",
       " 'backdrop',\n",
       " 'cosmopolitan',\n",
       " 'affluence',\n",
       " 'baked',\n",
       " 'brie',\n",
       " 'intelligentsia',\n",
       " 'story',\n",
       " 'looms',\n",
       " 'like',\n",
       " 'fart',\n",
       " 'room',\n",
       " 'everyone',\n",
       " 'speaks',\n",
       " 'affected',\n",
       " 'platitudes',\n",
       " 'elevated',\n",
       " 'language',\n",
       " 'cigarettes',\n",
       " 'everyone',\n",
       " 'lost',\n",
       " 'struggling',\n",
       " 'desperate',\n",
       " 'find',\n",
       " 'direction',\n",
       " 'understanding',\n",
       " 'whatever',\n",
       " 'goes',\n",
       " 'point',\n",
       " 'want',\n",
       " 'slap',\n",
       " 'never',\n",
       " 'resolution',\n",
       " 'interminable',\n",
       " 'introspective',\n",
       " 'babble',\n",
       " 'nothing',\n",
       " 'psychological',\n",
       " 'drama',\n",
       " 'taken',\n",
       " 'extreme',\n",
       " 'beyond',\n",
       " 'audiences',\n",
       " 'ability',\n",
       " 'connect',\n",
       " 'woody',\n",
       " 'allen',\n",
       " 'chose',\n",
       " 'make',\n",
       " 'characters',\n",
       " 'immersed',\n",
       " 'feel',\n",
       " 'left',\n",
       " 'reason',\n",
       " 'found',\n",
       " 'movie',\n",
       " 'painfully',\n",
       " 'self',\n",
       " 'indulgent',\n",
       " 'spiritually',\n",
       " 'draining',\n",
       " 'see',\n",
       " 'going',\n",
       " 'insistence',\n",
       " 'promoting',\n",
       " 'message',\n",
       " 'prozac',\n",
       " 'prose',\n",
       " 'distorted',\n",
       " 'film',\n",
       " 'techniques',\n",
       " 'jettisons',\n",
       " 'past',\n",
       " 'point',\n",
       " 'relevance',\n",
       " 'highly',\n",
       " 'recommend',\n",
       " 'one',\n",
       " 'youre',\n",
       " 'feeling',\n",
       " 'little',\n",
       " 'happy',\n",
       " 'need',\n",
       " 'something',\n",
       " 'remind',\n",
       " 'death',\n",
       " 'otherwise',\n",
       " 'lets',\n",
       " 'pretend',\n",
       " 'film',\n",
       " 'never',\n",
       " 'happened',\n",
       " 'appears',\n",
       " 'many',\n",
       " 'critics',\n",
       " 'find',\n",
       " 'idea',\n",
       " 'woody',\n",
       " 'allen',\n",
       " 'drama',\n",
       " 'unpalatable',\n",
       " 'good',\n",
       " 'reason',\n",
       " 'unbearably',\n",
       " 'wooden',\n",
       " 'pretentious',\n",
       " 'imitations',\n",
       " 'bergman',\n",
       " 'lets',\n",
       " 'kid',\n",
       " 'critics',\n",
       " 'mostly',\n",
       " 'supportive',\n",
       " 'allens',\n",
       " 'bergman',\n",
       " 'pretensions',\n",
       " 'allens',\n",
       " 'whining',\n",
       " 'accusations',\n",
       " 'contrary',\n",
       " 'notwithstanding',\n",
       " 'dont',\n",
       " 'get',\n",
       " 'allen',\n",
       " 'generally',\n",
       " 'applauded',\n",
       " 'originality',\n",
       " 'imitating',\n",
       " 'bergman',\n",
       " 'contemporaneous',\n",
       " 'brian',\n",
       " 'depalma',\n",
       " 'excoriated',\n",
       " 'ripping',\n",
       " 'hitchcock',\n",
       " 'suspensehorror',\n",
       " 'films',\n",
       " 'robin',\n",
       " 'woods',\n",
       " 'view',\n",
       " 'strange',\n",
       " 'form',\n",
       " 'cultural',\n",
       " 'snobbery',\n",
       " 'would',\n",
       " 'agree',\n",
       " 'second',\n",
       " 'attempt',\n",
       " 'new',\n",
       " 'york',\n",
       " 'intellectual',\n",
       " 'less',\n",
       " '',\n",
       " 'years',\n",
       " 'make',\n",
       " 'swedish',\n",
       " 'film',\n",
       " '',\n",
       " 'first',\n",
       " 'susan',\n",
       " 'sontags',\n",
       " 'brother',\n",
       " 'carl',\n",
       " 'made',\n",
       " 'sweden',\n",
       " 'swedish',\n",
       " 'actors',\n",
       " 'less',\n",
       " 'results',\n",
       " 'oscar',\n",
       " 'wilde',\n",
       " 'said',\n",
       " 'best',\n",
       " 'reference',\n",
       " 'dickens',\n",
       " 'old',\n",
       " 'curiosity',\n",
       " 'shop',\n",
       " 'one',\n",
       " 'would',\n",
       " 'heart',\n",
       " 'stone',\n",
       " 'laugh',\n",
       " 'loud',\n",
       " 'death',\n",
       " 'little',\n",
       " 'nell',\n",
       " 'pretty',\n",
       " 'much',\n",
       " 'thing',\n",
       " 'interiors',\n",
       " 'chock',\n",
       " 'full',\n",
       " 'solemnly',\n",
       " 'intoned',\n",
       " 'howlers',\n",
       " 'im',\n",
       " 'afraid',\n",
       " 'anger',\n",
       " 'looking',\n",
       " 'middle',\n",
       " 'distance',\n",
       " ...]"
      ]
     },
     "execution_count": 21,
     "metadata": {},
     "output_type": "execute_result"
    }
   ],
   "source": [
    "#from nltk.corpus import stopwords\n",
    "stop_words = set(stopwords.words('english'))     \n",
    "filtered_sentence = [w for w in splitted_reviews if not w in stop_words]   \n",
    "filtered_sentence\n",
    "\n",
    "\n",
    "print(len(filtered_sentence)) \n",
    "filtered_sentence\n"
   ]
  },
  {
   "cell_type": "code",
   "execution_count": null,
   "metadata": {
    "ExecuteTime": {
     "end_time": "2021-06-10T12:23:12.816951Z",
     "start_time": "2021-06-10T12:22:34.485Z"
    },
    "colab": {
     "base_uri": "https://localhost:8080/"
    },
    "id": "k6bAp3yCV-zB",
    "outputId": "9ffaa347-af16-4d8d-c71c-8096772ae37d"
   },
   "outputs": [],
   "source": [
    "lmtzr = SnowballStemmer(language=\"english\")\n",
    "lemmatized_words = [lmtzr.stem(word) for word in filtered_sentence]\n",
    "lemmatized_words\n"
   ]
  },
  {
   "cell_type": "code",
   "execution_count": null,
   "metadata": {
    "id": "qIz3EXPjV-1-"
   },
   "outputs": [],
   "source": []
  },
  {
   "cell_type": "markdown",
   "metadata": {
    "id": "FCWlWMYGWOfH"
   },
   "source": [
    "# show dependences"
   ]
  },
  {
   "cell_type": "markdown",
   "metadata": {},
   "source": [
    "nourhan"
   ]
  },
  {
   "cell_type": "code",
   "execution_count": 37,
   "metadata": {
    "colab": {
     "base_uri": "https://localhost:8080/"
    },
    "id": "M9IqLcJLagia",
    "outputId": "8466b1d8-f311-4c63-fb66-c500fe5c32ab"
   },
   "outputs": [
    {
     "name": "stdout",
     "output_type": "stream",
     "text": [
      "\n",
      "Usage:   \n",
      "  pip3 install [options] <requirement specifier> [package-index-options] ...\n",
      "  pip3 install [options] -r <requirements file> [package-index-options] ...\n",
      "  pip3 install [options] [-e] <vcs project url> ...\n",
      "  pip3 install [options] [-e] <local project path> ...\n",
      "  pip3 install [options] <archive url/path> ...\n",
      "\n",
      "ambiguous option: --no-dep (--no-dependencies, --no-deps?)\n"
     ]
    }
   ],
   "source": [
    "pip install https://github.com/explosion/spacy-models/releases/download/en_core_web_sm-2.0.0/en_core_web_sm-2.0.0.tar.gz --no-dep"
   ]
  },
  {
   "cell_type": "code",
   "execution_count": 38,
   "metadata": {
    "id": "8mgCTq6SV-4W"
   },
   "outputs": [],
   "source": [
    "import spacy\n",
    "from spacy import displacy\n",
    "nlp = spacy.load('en_core_web_sm')"
   ]
  },
  {
   "cell_type": "code",
   "execution_count": 41,
   "metadata": {
    "colab": {
     "base_uri": "https://localhost:8080/",
     "height": 1000
    },
    "id": "fgVIDTJ5V-7J",
    "outputId": "d3157343-9fba-4049-aa1b-b7da55b1b259"
   },
   "outputs": [
    {
     "name": "stdout",
     "output_type": "stream",
     "text": [
      "story of a man who has unnatural feelings for a pig\n",
      " starts out with a opening scene that is a terrific example of absurd comedy\n",
      " a formal orchestra audience is turned into an insane violent mob by the crazy chantings of its singers\n",
      " unfortunately it stays absurd the whole time with no general narrative eventually making it just too off putting\n",
      " even those from the era should be turned off\n"
     ]
    },
    {
     "data": {
      "text/html": [
       "<span class=\"tex2jax_ignore\"><div class=\"entities\" style=\"line-height: 2.5; direction: ltr\"> the cryptic dialogue would make shakespeare seem easy to a \n",
       "<mark class=\"entity\" style=\"background: #e4e7d2; padding: 0.45em 0.6em; margin: 0 0.25em; line-height: 1; border-radius: 0.35em;\">\n",
       "    third\n",
       "    <span style=\"font-size: 0.8em; font-weight: bold; line-height: 1; border-radius: 0.35em; text-transform: uppercase; vertical-align: middle; margin-left: 0.5rem\">ORDINAL</span>\n",
       "</mark>\n",
       " grader</div></span>"
      ],
      "text/plain": [
       "<IPython.core.display.HTML object>"
      ]
     },
     "metadata": {
      "tags": []
     },
     "output_type": "display_data"
    },
    {
     "name": "stdout",
     "output_type": "stream",
     "text": [
      " on a technical level its better than you might think with some good cinematography by future great vilmos zsigmond\n"
     ]
    },
    {
     "data": {
      "text/html": [
       "<span class=\"tex2jax_ignore\"><div class=\"entities\" style=\"line-height: 2.5; direction: ltr\"> future stars \n",
       "<mark class=\"entity\" style=\"background: #aa9cfc; padding: 0.45em 0.6em; margin: 0 0.25em; line-height: 1; border-radius: 0.35em;\">\n",
       "    sally kirkland\n",
       "    <span style=\"font-size: 0.8em; font-weight: bold; line-height: 1; border-radius: 0.35em; text-transform: uppercase; vertical-align: middle; margin-left: 0.5rem\">PERSON</span>\n",
       "</mark>\n",
       " and frederic forrest can be seen briefly</div></span>"
      ],
      "text/plain": [
       "<IPython.core.display.HTML object>"
      ]
     },
     "metadata": {
      "tags": []
     },
     "output_type": "display_data"
    },
    {
     "name": "stdout",
     "output_type": "stream",
     "text": [
      "airport  starts as a brand new luxury  \n",
      "plane is loaded up with valuable paintings  \n"
     ]
    },
    {
     "data": {
      "text/html": [
       "<span class=\"tex2jax_ignore\"><div class=\"entities\" style=\"line-height: 2.5; direction: ltr\">such belonging to rich businessman \n",
       "<mark class=\"entity\" style=\"background: #aa9cfc; padding: 0.45em 0.6em; margin: 0 0.25em; line-height: 1; border-radius: 0.35em;\">\n",
       "    philip stevens\n",
       "    <span style=\"font-size: 0.8em; font-weight: bold; line-height: 1; border-radius: 0.35em; text-transform: uppercase; vertical-align: middle; margin-left: 0.5rem\">PERSON</span>\n",
       "</mark>\n",
       " \n",
       "<mark class=\"entity\" style=\"background: #aa9cfc; padding: 0.45em 0.6em; margin: 0 0.25em; line-height: 1; border-radius: 0.35em;\">\n",
       "    james stewart\n",
       "    <span style=\"font-size: 0.8em; font-weight: bold; line-height: 1; border-radius: 0.35em; text-transform: uppercase; vertical-align: middle; margin-left: 0.5rem\">PERSON</span>\n",
       "</mark>\n",
       " who is flying them  a bunch of vips to his estate in preparation of it being opened to the public as a museum also on board is \n",
       "<mark class=\"entity\" style=\"background: #aa9cfc; padding: 0.45em 0.6em; margin: 0 0.25em; line-height: 1; border-radius: 0.35em;\">\n",
       "    stevens\n",
       "    <span style=\"font-size: 0.8em; font-weight: bold; line-height: 1; border-radius: 0.35em; text-transform: uppercase; vertical-align: middle; margin-left: 0.5rem\">PERSON</span>\n",
       "</mark>\n",
       " daughter \n",
       "<mark class=\"entity\" style=\"background: #aa9cfc; padding: 0.45em 0.6em; margin: 0 0.25em; line-height: 1; border-radius: 0.35em;\">\n",
       "    julie kathleen quinlan\n",
       "    <span style=\"font-size: 0.8em; font-weight: bold; line-height: 1; border-radius: 0.35em; text-transform: uppercase; vertical-align: middle; margin-left: 0.5rem\">PERSON</span>\n",
       "</mark>\n",
       "  her son</div></span>"
      ],
      "text/plain": [
       "<IPython.core.display.HTML object>"
      ]
     },
     "metadata": {
      "tags": []
     },
     "output_type": "display_data"
    },
    {
     "name": "stdout",
     "output_type": "stream",
     "text": [
      " the luxury jetliner takes off as planned but midair\n"
     ]
    },
    {
     "data": {
      "text/html": [
       "<span class=\"tex2jax_ignore\"><div class=\"entities\" style=\"line-height: 2.5; direction: ltr\">the plane is hijacked by the copilot chambers \n",
       "<mark class=\"entity\" style=\"background: #aa9cfc; padding: 0.45em 0.6em; margin: 0 0.25em; line-height: 1; border-radius: 0.35em;\">\n",
       "    robert foxworth\n",
       "    <span style=\"font-size: 0.8em; font-weight: bold; line-height: 1; border-radius: 0.35em; text-transform: uppercase; vertical-align: middle; margin-left: 0.5rem\">PERSON</span>\n",
       "</mark>\n",
       "  his \n",
       "<mark class=\"entity\" style=\"background: #e4e7d2; padding: 0.45em 0.6em; margin: 0 0.25em; line-height: 1; border-radius: 0.35em;\">\n",
       "    two\n",
       "    <span style=\"font-size: 0.8em; font-weight: bold; line-height: 1; border-radius: 0.35em; text-transform: uppercase; vertical-align: middle; margin-left: 0.5rem\">CARDINAL</span>\n",
       "</mark>\n",
       " accomplices banker \n",
       "<mark class=\"entity\" style=\"background: #aa9cfc; padding: 0.45em 0.6em; margin: 0 0.25em; line-height: 1; border-radius: 0.35em;\">\n",
       "    monte markham\n",
       "    <span style=\"font-size: 0.8em; font-weight: bold; line-height: 1; border-radius: 0.35em; text-transform: uppercase; vertical-align: middle; margin-left: 0.5rem\">PERSON</span>\n",
       "</mark>\n",
       "  \n",
       "<mark class=\"entity\" style=\"background: #aa9cfc; padding: 0.45em 0.6em; margin: 0 0.25em; line-height: 1; border-radius: 0.35em;\">\n",
       "    wilson michael pataki\n",
       "    <span style=\"font-size: 0.8em; font-weight: bold; line-height: 1; border-radius: 0.35em; text-transform: uppercase; vertical-align: middle; margin-left: 0.5rem\">PERSON</span>\n",
       "</mark>\n",
       " who knock the passengers  crew out with sleeping gas</div></span>"
      ],
      "text/plain": [
       "<IPython.core.display.HTML object>"
      ]
     },
     "metadata": {
      "tags": []
     },
     "output_type": "display_data"
    },
    {
     "name": "stdout",
     "output_type": "stream",
     "text": [
      "they plan to steal the valuable cargo  land on a disused plane strip on an isolated island but while making his descent chambers almost hits an oil rig in the ocean  loses control of the plane sending it crashing into the sea where it sinks to the bottom right bang in the middle of the bermuda triangle\n",
      " with air in short supply water leaking in  having flown over  miles off course\n",
      "the problems mount for the survivors as they await help with time fast running out\n",
      "also known under the slightly different tile airport  \n"
     ]
    },
    {
     "data": {
      "text/html": [
       "<span class=\"tex2jax_ignore\"><div class=\"entities\" style=\"line-height: 2.5; direction: ltr\">this \n",
       "<mark class=\"entity\" style=\"background: #e4e7d2; padding: 0.45em 0.6em; margin: 0 0.25em; line-height: 1; border-radius: 0.35em;\">\n",
       "    second\n",
       "    <span style=\"font-size: 0.8em; font-weight: bold; line-height: 1; border-radius: 0.35em; text-transform: uppercase; vertical-align: middle; margin-left: 0.5rem\">ORDINAL</span>\n",
       "</mark>\n",
       " sequel to the smashhit disaster thriller airport  was directed by \n",
       "<mark class=\"entity\" style=\"background: #aa9cfc; padding: 0.45em 0.6em; margin: 0 0.25em; line-height: 1; border-radius: 0.35em;\">\n",
       "    jerry jameson\n",
       "    <span style=\"font-size: 0.8em; font-weight: bold; line-height: 1; border-radius: 0.35em; text-transform: uppercase; vertical-align: middle; margin-left: 0.5rem\">PERSON</span>\n",
       "</mark>\n",
       "  </div></span>"
      ],
      "text/plain": [
       "<IPython.core.display.HTML object>"
      ]
     },
     "metadata": {
      "tags": []
     },
     "output_type": "display_data"
    },
    {
     "name": "stdout",
     "output_type": "stream",
     "text": [
      "while once again like its predecessors\n",
      "i cant say airport  \n",
      "is any sort of forgotten classic it is entertaining although not necessarily for the right reasons\n"
     ]
    },
    {
     "data": {
      "text/html": [
       "<span class=\"tex2jax_ignore\"><div class=\"entities\" style=\"line-height: 2.5; direction: ltr\"> out of the \n",
       "<mark class=\"entity\" style=\"background: #e4e7d2; padding: 0.45em 0.6em; margin: 0 0.25em; line-height: 1; border-radius: 0.35em;\">\n",
       "    three\n",
       "    <span style=\"font-size: 0.8em; font-weight: bold; line-height: 1; border-radius: 0.35em; text-transform: uppercase; vertical-align: middle; margin-left: 0.5rem\">CARDINAL</span>\n",
       "</mark>\n",
       " airport films i have seen so far i actually liked this one the best just</div></span>"
      ],
      "text/plain": [
       "<IPython.core.display.HTML object>"
      ]
     },
     "metadata": {
      "tags": []
     },
     "output_type": "display_data"
    },
    {
     "data": {
      "text/html": [
       "<span class=\"tex2jax_ignore\"><div class=\"entities\" style=\"line-height: 2.5; direction: ltr\"> it has my favourite plot of the \n",
       "<mark class=\"entity\" style=\"background: #e4e7d2; padding: 0.45em 0.6em; margin: 0 0.25em; line-height: 1; border-radius: 0.35em;\">\n",
       "    three\n",
       "    <span style=\"font-size: 0.8em; font-weight: bold; line-height: 1; border-radius: 0.35em; text-transform: uppercase; vertical-align: middle; margin-left: 0.5rem\">CARDINAL</span>\n",
       "</mark>\n",
       " with a nice midair hijacking  </div></span>"
      ],
      "text/plain": [
       "<IPython.core.display.HTML object>"
      ]
     },
     "metadata": {
      "tags": []
     },
     "output_type": "display_data"
    },
    {
     "name": "stdout",
     "output_type": "stream",
     "text": [
      "then the crashing didnt he see the oil rig  sinking of the  maybe the makers were trying to cross the original airport with another popular disaster flick of the period the poseidon adventure   submerged is where it stays until the end with a stark dilemma facing those trapped inside either suffocate when the air runs out or drown as the  floods or if any of the doors are opened  its a decent idea that could have made for a great little disaster flick but\n",
      "bad unsympathetic characters dull dialogue lethargic setpieces  a real lack of danger or suspense or tension\n",
      "means this is a missed opportunity\n"
     ]
    },
    {
     "data": {
      "text/html": [
       "<span class=\"tex2jax_ignore\"><div class=\"entities\" style=\"line-height: 2.5; direction: ltr\"> while the rather sluggish plot keeps \n",
       "<mark class=\"entity\" style=\"background: #e4e7d2; padding: 0.45em 0.6em; margin: 0 0.25em; line-height: 1; border-radius: 0.35em;\">\n",
       "    one\n",
       "    <span style=\"font-size: 0.8em; font-weight: bold; line-height: 1; border-radius: 0.35em; text-transform: uppercase; vertical-align: middle; margin-left: 0.5rem\">CARDINAL</span>\n",
       "</mark>\n",
       " entertained for  odd minutes not that much happens after the plane sinks  </div></span>"
      ],
      "text/plain": [
       "<IPython.core.display.HTML object>"
      ]
     },
     "metadata": {
      "tags": []
     },
     "output_type": "display_data"
    },
    {
     "name": "stdout",
     "output_type": "stream",
     "text": [
      "theres not as much urgency as i thought there should have been\n"
     ]
    },
    {
     "data": {
      "text/html": [
       "<span class=\"tex2jax_ignore\"><div class=\"entities\" style=\"line-height: 2.5; direction: ltr\"> even when the \n",
       "<mark class=\"entity\" style=\"background: #7aecec; padding: 0.45em 0.6em; margin: 0 0.25em; line-height: 1; border-radius: 0.35em;\">\n",
       "    navy\n",
       "    <span style=\"font-size: 0.8em; font-weight: bold; line-height: 1; border-radius: 0.35em; text-transform: uppercase; vertical-align: middle; margin-left: 0.5rem\">ORG</span>\n",
       "</mark>\n",
       " become involved things dont pick up that much with a few shots of huge ships  helicopters flying about</div></span>"
      ],
      "text/plain": [
       "<IPython.core.display.HTML object>"
      ]
     },
     "metadata": {
      "tags": []
     },
     "output_type": "display_data"
    },
    {
     "name": "stdout",
     "output_type": "stream",
     "text": [
      "but theres just something lacking here\n"
     ]
    },
    {
     "data": {
      "text/html": [
       "<span class=\"tex2jax_ignore\"><div class=\"entities\" style=\"line-height: 2.5; direction: ltr\"> \n",
       "<mark class=\"entity\" style=\"background: #aa9cfc; padding: 0.45em 0.6em; margin: 0 0.25em; line-height: 1; border-radius: 0.35em;\">\n",
       "    george kennedy\n",
       "    <span style=\"font-size: 0.8em; font-weight: bold; line-height: 1; border-radius: 0.35em; text-transform: uppercase; vertical-align: middle; margin-left: 0.5rem\">PERSON</span>\n",
       "</mark>\n",
       " as the jinxed airline worker \n",
       "<mark class=\"entity\" style=\"background: #aa9cfc; padding: 0.45em 0.6em; margin: 0 0.25em; line-height: 1; border-radius: 0.35em;\">\n",
       "    joe patroni\n",
       "    <span style=\"font-size: 0.8em; font-weight: bold; line-height: 1; border-radius: 0.35em; text-transform: uppercase; vertical-align: middle; margin-left: 0.5rem\">PERSON</span>\n",
       "</mark>\n",
       " is back but only gets a couple of scenes  barely even says anything preferring to just look worried in the background</div></span>"
      ],
      "text/plain": [
       "<IPython.core.display.HTML object>"
      ]
     },
     "metadata": {
      "tags": []
     },
     "output_type": "display_data"
    },
    {
     "data": {
      "text/html": [
       "<span class=\"tex2jax_ignore\"><div class=\"entities\" style=\"line-height: 2.5; direction: ltr\">the home video  theatrical version of airport  run  minutes while the \n",
       "<mark class=\"entity\" style=\"background: #feca74; padding: 0.45em 0.6em; margin: 0 0.25em; line-height: 1; border-radius: 0.35em;\">\n",
       "    us\n",
       "    <span style=\"font-size: 0.8em; font-weight: bold; line-height: 1; border-radius: 0.35em; text-transform: uppercase; vertical-align: middle; margin-left: 0.5rem\">GPE</span>\n",
       "</mark>\n",
       " tv versions add \n",
       "<mark class=\"entity\" style=\"background: #bfe1d9; padding: 0.45em 0.6em; margin: 0 0.25em; line-height: 1; border-radius: 0.35em;\">\n",
       "    an extra hour\n",
       "    <span style=\"font-size: 0.8em; font-weight: bold; line-height: 1; border-radius: 0.35em; text-transform: uppercase; vertical-align: middle; margin-left: 0.5rem\">TIME</span>\n",
       "</mark>\n",
       " of footage including a new opening credits sequence many more scenes with \n",
       "<mark class=\"entity\" style=\"background: #aa9cfc; padding: 0.45em 0.6em; margin: 0 0.25em; line-height: 1; border-radius: 0.35em;\">\n",
       "    george kennedy\n",
       "    <span style=\"font-size: 0.8em; font-weight: bold; line-height: 1; border-radius: 0.35em; text-transform: uppercase; vertical-align: middle; margin-left: 0.5rem\">PERSON</span>\n",
       "</mark>\n",
       " as \n",
       "<mark class=\"entity\" style=\"background: #aa9cfc; padding: 0.45em 0.6em; margin: 0 0.25em; line-height: 1; border-radius: 0.35em;\">\n",
       "    patroni\n",
       "    <span style=\"font-size: 0.8em; font-weight: bold; line-height: 1; border-radius: 0.35em; text-transform: uppercase; vertical-align: middle; margin-left: 0.5rem\">PERSON</span>\n",
       "</mark>\n",
       " flashbacks to flesh out characters longer rescue scenes  </div></span>"
      ],
      "text/plain": [
       "<IPython.core.display.HTML object>"
      ]
     },
     "metadata": {
      "tags": []
     },
     "output_type": "display_data"
    },
    {
     "name": "stdout",
     "output_type": "stream",
     "text": [
      "the discovery or another couple of dead bodies including the navigator\n",
      " while i would like to see this extra footage\n"
     ]
    },
    {
     "data": {
      "text/html": [
       "<span class=\"tex2jax_ignore\"><div class=\"entities\" style=\"line-height: 2.5; direction: ltr\">i am not sure i could sit through a near \n",
       "<mark class=\"entity\" style=\"background: #bfe1d9; padding: 0.45em 0.6em; margin: 0 0.25em; line-height: 1; border-radius: 0.35em;\">\n",
       "    three hour\n",
       "    <span style=\"font-size: 0.8em; font-weight: bold; line-height: 1; border-radius: 0.35em; text-transform: uppercase; vertical-align: middle; margin-left: 0.5rem\">TIME</span>\n",
       "</mark>\n",
       " cut of airport</div></span>"
      ],
      "text/plain": [
       "<IPython.core.display.HTML object>"
      ]
     },
     "metadata": {
      "tags": []
     },
     "output_type": "display_data"
    },
    {
     "name": "stdout",
     "output_type": "stream",
     "text": [
      " as expected the film has dated badly with horrible fashions  interior design choices\n",
      "i will say no more other than the toy plane model effects arent great either\n"
     ]
    },
    {
     "data": {
      "text/html": [
       "<span class=\"tex2jax_ignore\"><div class=\"entities\" style=\"line-height: 2.5; direction: ltr\"> along with the other \n",
       "<mark class=\"entity\" style=\"background: #e4e7d2; padding: 0.45em 0.6em; margin: 0 0.25em; line-height: 1; border-radius: 0.35em;\">\n",
       "    two\n",
       "    <span style=\"font-size: 0.8em; font-weight: bold; line-height: 1; border-radius: 0.35em; text-transform: uppercase; vertical-align: middle; margin-left: 0.5rem\">CARDINAL</span>\n",
       "</mark>\n",
       " airport sequels this takes pride of place in the razzie awards hall of shame although i can think of lots of worse films than this</div></span>"
      ],
      "text/plain": [
       "<IPython.core.display.HTML object>"
      ]
     },
     "metadata": {
      "tags": []
     },
     "output_type": "display_data"
    },
    {
     "name": "stdout",
     "output_type": "stream",
     "text": [
      "so i reckon thats a little harsh\n",
      " the action scenes are a little dull\n",
      "unfortunately the pace is slow  not much excitement or tension is generated which is a shame as i reckon this could have been a pretty good film if made properly\n",
      "the production values are alright if nothing spectacular\n",
      " the acting isnt\n"
     ]
    },
    {
     "data": {
      "text/html": [
       "<span class=\"tex2jax_ignore\"><div class=\"entities\" style=\"line-height: 2.5; direction: ltr\">great \n",
       "<mark class=\"entity\" style=\"background: #e4e7d2; padding: 0.45em 0.6em; margin: 0 0.25em; line-height: 1; border-radius: 0.35em;\">\n",
       "    two\n",
       "    <span style=\"font-size: 0.8em; font-weight: bold; line-height: 1; border-radius: 0.35em; text-transform: uppercase; vertical-align: middle; margin-left: 0.5rem\">CARDINAL</span>\n",
       "</mark>\n",
       " time oscar winner \n",
       "<mark class=\"entity\" style=\"background: #aa9cfc; padding: 0.45em 0.6em; margin: 0 0.25em; line-height: 1; border-radius: 0.35em;\">\n",
       "    jack lemmon\n",
       "    <span style=\"font-size: 0.8em; font-weight: bold; line-height: 1; border-radius: 0.35em; text-transform: uppercase; vertical-align: middle; margin-left: 0.5rem\">PERSON</span>\n",
       "</mark>\n",
       " has said since it was a mistake to star in</div></span>"
      ],
      "text/plain": [
       "<IPython.core.display.HTML object>"
      ]
     },
     "metadata": {
      "tags": []
     },
     "output_type": "display_data"
    },
    {
     "data": {
      "text/html": [
       "<span class=\"tex2jax_ignore\"><div class=\"entities\" style=\"line-height: 2.5; direction: ltr\">this \n",
       "<mark class=\"entity\" style=\"background: #e4e7d2; padding: 0.45em 0.6em; margin: 0 0.25em; line-height: 1; border-radius: 0.35em;\">\n",
       "    one\n",
       "    <span style=\"font-size: 0.8em; font-weight: bold; line-height: 1; border-radius: 0.35em; text-transform: uppercase; vertical-align: middle; margin-left: 0.5rem\">CARDINAL</span>\n",
       "</mark>\n",
       " time oscar winner \n",
       "<mark class=\"entity\" style=\"background: #aa9cfc; padding: 0.45em 0.6em; margin: 0 0.25em; line-height: 1; border-radius: 0.35em;\">\n",
       "    james stewart\n",
       "    <span style=\"font-size: 0.8em; font-weight: bold; line-height: 1; border-radius: 0.35em; text-transform: uppercase; vertical-align: middle; margin-left: 0.5rem\">PERSON</span>\n",
       "</mark>\n",
       " looks old  frail also</div></span>"
      ],
      "text/plain": [
       "<IPython.core.display.HTML object>"
      ]
     },
     "metadata": {
      "tags": []
     },
     "output_type": "display_data"
    },
    {
     "data": {
      "text/html": [
       "<span class=\"tex2jax_ignore\"><div class=\"entities\" style=\"line-height: 2.5; direction: ltr\">\n",
       "<mark class=\"entity\" style=\"background: #e4e7d2; padding: 0.45em 0.6em; margin: 0 0.25em; line-height: 1; border-radius: 0.35em;\">\n",
       "    one\n",
       "    <span style=\"font-size: 0.8em; font-weight: bold; line-height: 1; border-radius: 0.35em; text-transform: uppercase; vertical-align: middle; margin-left: 0.5rem\">CARDINAL</span>\n",
       "</mark>\n",
       " time oscar winner \n",
       "<mark class=\"entity\" style=\"background: #aa9cfc; padding: 0.45em 0.6em; margin: 0 0.25em; line-height: 1; border-radius: 0.35em;\">\n",
       "    lee grant\n",
       "    <span style=\"font-size: 0.8em; font-weight: bold; line-height: 1; border-radius: 0.35em; text-transform: uppercase; vertical-align: middle; margin-left: 0.5rem\">PERSON</span>\n",
       "</mark>\n",
       " looks drunk while sir \n",
       "<mark class=\"entity\" style=\"background: #aa9cfc; padding: 0.45em 0.6em; margin: 0 0.25em; line-height: 1; border-radius: 0.35em;\">\n",
       "    christopher lee\n",
       "    <span style=\"font-size: 0.8em; font-weight: bold; line-height: 1; border-radius: 0.35em; text-transform: uppercase; vertical-align: middle; margin-left: 0.5rem\">PERSON</span>\n",
       "</mark>\n",
       " is given little to do  there are plenty of other familiar faces to look out for too</div></span>"
      ],
      "text/plain": [
       "<IPython.core.display.HTML object>"
      ]
     },
     "metadata": {
      "tags": []
     },
     "output_type": "display_data"
    },
    {
     "data": {
      "text/html": [
       "<span class=\"tex2jax_ignore\"><div class=\"entities\" style=\"line-height: 2.5; direction: ltr\">airport  is the most disaster orientated of the \n",
       "<mark class=\"entity\" style=\"background: #e4e7d2; padding: 0.45em 0.6em; margin: 0 0.25em; line-height: 1; border-radius: 0.35em;\">\n",
       "    three\n",
       "    <span style=\"font-size: 0.8em; font-weight: bold; line-height: 1; border-radius: 0.35em; text-transform: uppercase; vertical-align: middle; margin-left: 0.5rem\">CARDINAL</span>\n",
       "</mark>\n",
       " airport films so far  </div></span>"
      ],
      "text/plain": [
       "<IPython.core.display.HTML object>"
      ]
     },
     "metadata": {
      "tags": []
     },
     "output_type": "display_data"
    },
    {
     "name": "stdout",
     "output_type": "stream",
     "text": [
      "i liked the ideas behind it even if they were a bit silly the production  \n",
      "bland direction doesnt help though  \n",
      "a film about a sunken plane just shouldnt be this boring or lethargic\n",
      " followed by the concorde\n"
     ]
    },
    {
     "data": {
      "text/html": [
       "<span class=\"tex2jax_ignore\"><div class=\"entities\" style=\"line-height: 2.5; direction: ltr\">this film lacked something i couldnt put my finger on at \n",
       "<mark class=\"entity\" style=\"background: #e4e7d2; padding: 0.45em 0.6em; margin: 0 0.25em; line-height: 1; border-radius: 0.35em;\">\n",
       "    first\n",
       "    <span style=\"font-size: 0.8em; font-weight: bold; line-height: 1; border-radius: 0.35em; text-transform: uppercase; vertical-align: middle; margin-left: 0.5rem\">ORDINAL</span>\n",
       "</mark>\n",
       " charisma on the part of the leading actress</div></span>"
      ],
      "text/plain": [
       "<IPython.core.display.HTML object>"
      ]
     },
     "metadata": {
      "tags": []
     },
     "output_type": "display_data"
    },
    {
     "name": "stdout",
     "output_type": "stream",
     "text": [
      " this inevitably translated to lack of chemistry when she shared the screen with her leading man\n",
      " even the romantic scenes came across as being merely the actors at play\n",
      " it could very well have been the director who miscalculated what he needed from the actors\n",
      " i just dont know\n",
      "but could it have been the screenplay just exactly who was the chef in love with\n",
      "he seemed more enamored of his culinary skills and restaurant and ultimately of himself and his youthful exploits than of anybody or anything else\n",
      " he never convinced me he was in love with the princess\n",
      "i was disappointed in this movie\n",
      " but dont forget it was nominated for an oscar\n",
      "so judge for yourself\n",
      "sorry everyone\n",
      "i know this is supposed to be an art film\n",
      "but wow they should have handed out guns at the screening\n",
      "so people could blow their brains out and not watch\n",
      " although the scene design and photographic direction was excellent this story is too painful to watch\n",
      " the absence of a sound track was brutal\n",
      " the loooonnnnng shots were too long\n"
     ]
    },
    {
     "data": {
      "text/html": [
       "<span class=\"tex2jax_ignore\"><div class=\"entities\" style=\"line-height: 2.5; direction: ltr\"> how long can you watch \n",
       "<mark class=\"entity\" style=\"background: #e4e7d2; padding: 0.45em 0.6em; margin: 0 0.25em; line-height: 1; border-radius: 0.35em;\">\n",
       "    two\n",
       "    <span style=\"font-size: 0.8em; font-weight: bold; line-height: 1; border-radius: 0.35em; text-transform: uppercase; vertical-align: middle; margin-left: 0.5rem\">CARDINAL</span>\n",
       "</mark>\n",
       " people just sitting there and talking especially when the dialogue is \n",
       "<mark class=\"entity\" style=\"background: #e4e7d2; padding: 0.45em 0.6em; margin: 0 0.25em; line-height: 1; border-radius: 0.35em;\">\n",
       "    two\n",
       "    <span style=\"font-size: 0.8em; font-weight: bold; line-height: 1; border-radius: 0.35em; text-transform: uppercase; vertical-align: middle; margin-left: 0.5rem\">CARDINAL</span>\n",
       "</mark>\n",
       " people complaining</div></span>"
      ],
      "text/plain": [
       "<IPython.core.display.HTML object>"
      ]
     },
     "metadata": {
      "tags": []
     },
     "output_type": "display_data"
    },
    {
     "name": "stdout",
     "output_type": "stream",
     "text": [
      " i really had a hard time just getting through this film\n",
      " the performances were excellent but how much of that dark sombre uninspired stuff can you take the only thing i liked\n"
     ]
    },
    {
     "data": {
      "text/html": [
       "<span class=\"tex2jax_ignore\"><div class=\"entities\" style=\"line-height: 2.5; direction: ltr\">was \n",
       "<mark class=\"entity\" style=\"background: #aa9cfc; padding: 0.45em 0.6em; margin: 0 0.25em; line-height: 1; border-radius: 0.35em;\">\n",
       "    maureen stapleton\n",
       "    <span style=\"font-size: 0.8em; font-weight: bold; line-height: 1; border-radius: 0.35em; text-transform: uppercase; vertical-align: middle; margin-left: 0.5rem\">PERSON</span>\n",
       "</mark>\n",
       " and her red dress and dancing scene</div></span>"
      ],
      "text/plain": [
       "<IPython.core.display.HTML object>"
      ]
     },
     "metadata": {
      "tags": []
     },
     "output_type": "display_data"
    },
    {
     "name": "stdout",
     "output_type": "stream",
     "text": [
      " otherwise this was a ripoff of bergman\n",
      " and im\n",
      "no fan f his either\n",
      " i think anyone who says they enjoyed   hours of this is well lying\n",
      "when i was little my parents took me along to the theater to see interiors\n",
      " it was one of many movies i watched with my parents\n",
      "but this was the only one we walked out of\n",
      " since then i had never seen interiors until just recently\n",
      "and i could have lived out the rest of my life without it\n",
      " what a pretentious ponderous and painfully boring piece of  wine and cheese tripe\n"
     ]
    },
    {
     "data": {
      "text/html": [
       "<span class=\"tex2jax_ignore\"><div class=\"entities\" style=\"line-height: 2.5; direction: ltr\"> \n",
       "<mark class=\"entity\" style=\"background: #aa9cfc; padding: 0.45em 0.6em; margin: 0 0.25em; line-height: 1; border-radius: 0.35em;\">\n",
       "    woody allen\n",
       "    <span style=\"font-size: 0.8em; font-weight: bold; line-height: 1; border-radius: 0.35em; text-transform: uppercase; vertical-align: middle; margin-left: 0.5rem\">PERSON</span>\n",
       "</mark>\n",
       " is one of my favorite directors but interiors is by far the worst piece of crap of his career</div></span>"
      ],
      "text/plain": [
       "<IPython.core.display.HTML object>"
      ]
     },
     "metadata": {
      "tags": []
     },
     "output_type": "display_data"
    },
    {
     "name": "stdout",
     "output_type": "stream",
     "text": [
      " in the unmistakable style of ingmar berman allen gives us a dark angular muted insight in to the lives of a family wrought by the psychological damage caused by divorce estrangement career love nonlove halitosis\n",
      "whatever\n",
      " the film intentionally has no comic relief no music and is drenched in shadowy pathos\n",
      " this film style can be best defined as expressionist in nature using an improvisational method of dialogue to illicit a more pronounced depth of meaning and truth\n"
     ]
    },
    {
     "data": {
      "text/html": [
       "<span class=\"tex2jax_ignore\"><div class=\"entities\" style=\"line-height: 2.5; direction: ltr\"> but \n",
       "<mark class=\"entity\" style=\"background: #aa9cfc; padding: 0.45em 0.6em; margin: 0 0.25em; line-height: 1; border-radius: 0.35em;\">\n",
       "    woody allen\n",
       "    <span style=\"font-size: 0.8em; font-weight: bold; line-height: 1; border-radius: 0.35em; text-transform: uppercase; vertical-align: middle; margin-left: 0.5rem\">PERSON</span>\n",
       "</mark>\n",
       " is no ingmar bergman</div></span>"
      ],
      "text/plain": [
       "<IPython.core.display.HTML object>"
      ]
     },
     "metadata": {
      "tags": []
     },
     "output_type": "display_data"
    },
    {
     "name": "stdout",
     "output_type": "stream",
     "text": [
      " the film is painfully slow and dull\n",
      " but beyond that i simply had no connection with or sympathy for any of the characters\n",
      " instead i felt only contempt for this parade of shuffling whining nicotine stained martyrs in a perpetual quest for identity\n"
     ]
    },
    {
     "data": {
      "text/html": [
       "<span class=\"tex2jax_ignore\"><div class=\"entities\" style=\"line-height: 2.5; direction: ltr\"> amid a backdrop of cosmopolitan affluence and baked \n",
       "<mark class=\"entity\" style=\"background: #aa9cfc; padding: 0.45em 0.6em; margin: 0 0.25em; line-height: 1; border-radius: 0.35em;\">\n",
       "    brie intelligentsia\n",
       "    <span style=\"font-size: 0.8em; font-weight: bold; line-height: 1; border-radius: 0.35em; text-transform: uppercase; vertical-align: middle; margin-left: 0.5rem\">PERSON</span>\n",
       "</mark>\n",
       "</div></span>"
      ],
      "text/plain": [
       "<IPython.core.display.HTML object>"
      ]
     },
     "metadata": {
      "tags": []
     },
     "output_type": "display_data"
    },
    {
     "name": "stdout",
     "output_type": "stream",
     "text": [
      "the story looms like a fart in the room\n",
      " everyone speaks in affected platitudes and elevated language between cigarettes\n",
      " everyone is lost and struggling desperate to find direction or understanding or whatever\n",
      "and it just goes on and on to the point where you just want to slap all of them\n",
      " its never about resolution its only about interminable introspective babble\n",
      " it is nothing more than a psychological drama taken to an extreme beyond the audiences ability to connect\n"
     ]
    },
    {
     "data": {
      "text/html": [
       "<span class=\"tex2jax_ignore\"><div class=\"entities\" style=\"line-height: 2.5; direction: ltr\"> \n",
       "<mark class=\"entity\" style=\"background: #aa9cfc; padding: 0.45em 0.6em; margin: 0 0.25em; line-height: 1; border-radius: 0.35em;\">\n",
       "    woody allen\n",
       "    <span style=\"font-size: 0.8em; font-weight: bold; line-height: 1; border-radius: 0.35em; text-transform: uppercase; vertical-align: middle; margin-left: 0.5rem\">PERSON</span>\n",
       "</mark>\n",
       " chose to make characters so immersed in themselves</div></span>"
      ],
      "text/plain": [
       "<IPython.core.display.HTML object>"
      ]
     },
     "metadata": {
      "tags": []
     },
     "output_type": "display_data"
    },
    {
     "name": "stdout",
     "output_type": "stream",
     "text": [
      "we feel left out\n",
      " and for that reason i found this movie painfully self indulgent and spiritually draining\n",
      " i see what he was going for but his insistence on promoting his message through prozac prose and distorted film techniques jettisons it past the point of relevance\n",
      " i highly recommend this one if youre feeling a little too happy and need something to remind you of death\n",
      " otherwise lets just pretend this film never happened\n",
      "it appears that many critics find the idea of a woody allen drama unpalatable\n",
      " and for good reason they are unbearably wooden and pretentious imitations of bergman\n",
      " and lets not kid\n",
      "ourselves critics were mostly supportive of allens bergman pretensions allens whining accusations to the contrary notwithstanding\n"
     ]
    },
    {
     "data": {
      "text/html": [
       "<span class=\"tex2jax_ignore\"><div class=\"entities\" style=\"line-height: 2.5; direction: ltr\"> what i dont get is this why was allen generally applauded for his originality in imitating bergman but the contemporaneous \n",
       "<mark class=\"entity\" style=\"background: #aa9cfc; padding: 0.45em 0.6em; margin: 0 0.25em; line-height: 1; border-radius: 0.35em;\">\n",
       "    brian depalma\n",
       "    <span style=\"font-size: 0.8em; font-weight: bold; line-height: 1; border-radius: 0.35em; text-transform: uppercase; vertical-align: middle; margin-left: 0.5rem\">PERSON</span>\n",
       "</mark>\n",
       " was excoriated for ripping off hitchcock in his suspensehorror films in \n",
       "<mark class=\"entity\" style=\"background: #aa9cfc; padding: 0.45em 0.6em; margin: 0 0.25em; line-height: 1; border-radius: 0.35em;\">\n",
       "    robin\n",
       "    <span style=\"font-size: 0.8em; font-weight: bold; line-height: 1; border-radius: 0.35em; text-transform: uppercase; vertical-align: middle; margin-left: 0.5rem\">PERSON</span>\n",
       "</mark>\n",
       " woods</div></span>"
      ],
      "text/plain": [
       "<IPython.core.display.HTML object>"
      ]
     },
     "metadata": {
      "tags": []
     },
     "output_type": "display_data"
    },
    {
     "name": "stdout",
     "output_type": "stream",
     "text": [
      "view its a strange form of cultural snobbery\n",
      " i would have to agree with that\n"
     ]
    },
    {
     "data": {
      "text/html": [
       "<span class=\"tex2jax_ignore\"><div class=\"entities\" style=\"line-height: 2.5; direction: ltr\">the \n",
       "<mark class=\"entity\" style=\"background: #e4e7d2; padding: 0.45em 0.6em; margin: 0 0.25em; line-height: 1; border-radius: 0.35em;\">\n",
       "    second\n",
       "    <span style=\"font-size: 0.8em; font-weight: bold; line-height: 1; border-radius: 0.35em; text-transform: uppercase; vertical-align: middle; margin-left: 0.5rem\">ORDINAL</span>\n",
       "</mark>\n",
       " attempt by a \n",
       "<mark class=\"entity\" style=\"background: #feca74; padding: 0.45em 0.6em; margin: 0 0.25em; line-height: 1; border-radius: 0.35em;\">\n",
       "    new york\n",
       "    <span style=\"font-size: 0.8em; font-weight: bold; line-height: 1; border-radius: 0.35em; text-transform: uppercase; vertical-align: middle; margin-left: 0.5rem\">GPE</span>\n",
       "</mark>\n",
       " intellectual in \n",
       "<mark class=\"entity\" style=\"background: #bfe1d9; padding: 0.45em 0.6em; margin: 0 0.25em; line-height: 1; border-radius: 0.35em;\">\n",
       "    less than  years\n",
       "    <span style=\"font-size: 0.8em; font-weight: bold; line-height: 1; border-radius: 0.35em; text-transform: uppercase; vertical-align: middle; margin-left: 0.5rem\">DATE</span>\n",
       "</mark>\n",
       " to make a \n",
       "<mark class=\"entity\" style=\"background: #c887fb; padding: 0.45em 0.6em; margin: 0 0.25em; line-height: 1; border-radius: 0.35em;\">\n",
       "    swedish\n",
       "    <span style=\"font-size: 0.8em; font-weight: bold; line-height: 1; border-radius: 0.35em; text-transform: uppercase; vertical-align: middle; margin-left: 0.5rem\">NORP</span>\n",
       "</mark>\n",
       " film  </div></span>"
      ],
      "text/plain": [
       "<IPython.core.display.HTML object>"
      ]
     },
     "metadata": {
      "tags": []
     },
     "output_type": "display_data"
    },
    {
     "data": {
      "text/html": [
       "<span class=\"tex2jax_ignore\"><div class=\"entities\" style=\"line-height: 2.5; direction: ltr\">the \n",
       "<mark class=\"entity\" style=\"background: #e4e7d2; padding: 0.45em 0.6em; margin: 0 0.25em; line-height: 1; border-radius: 0.35em;\">\n",
       "    first\n",
       "    <span style=\"font-size: 0.8em; font-weight: bold; line-height: 1; border-radius: 0.35em; text-transform: uppercase; vertical-align: middle; margin-left: 0.5rem\">ORDINAL</span>\n",
       "</mark>\n",
       " being</div></span>"
      ],
      "text/plain": [
       "<IPython.core.display.HTML object>"
      ]
     },
     "metadata": {
      "tags": []
     },
     "output_type": "display_data"
    },
    {
     "data": {
      "text/html": [
       "<span class=\"tex2jax_ignore\"><div class=\"entities\" style=\"line-height: 2.5; direction: ltr\">\n",
       "<mark class=\"entity\" style=\"background: #aa9cfc; padding: 0.45em 0.6em; margin: 0 0.25em; line-height: 1; border-radius: 0.35em;\">\n",
       "    susan\n",
       "    <span style=\"font-size: 0.8em; font-weight: bold; line-height: 1; border-radius: 0.35em; text-transform: uppercase; vertical-align: middle; margin-left: 0.5rem\">PERSON</span>\n",
       "</mark>\n",
       " sontags brother \n",
       "<mark class=\"entity\" style=\"background: #aa9cfc; padding: 0.45em 0.6em; margin: 0 0.25em; line-height: 1; border-radius: 0.35em;\">\n",
       "    carl\n",
       "    <span style=\"font-size: 0.8em; font-weight: bold; line-height: 1; border-radius: 0.35em; text-transform: uppercase; vertical-align: middle; margin-left: 0.5rem\">PERSON</span>\n",
       "</mark>\n",
       " which was made in \n",
       "<mark class=\"entity\" style=\"background: #feca74; padding: 0.45em 0.6em; margin: 0 0.25em; line-height: 1; border-radius: 0.35em;\">\n",
       "    sweden\n",
       "    <span style=\"font-size: 0.8em; font-weight: bold; line-height: 1; border-radius: 0.35em; text-transform: uppercase; vertical-align: middle; margin-left: 0.5rem\">GPE</span>\n",
       "</mark>\n",
       " with \n",
       "<mark class=\"entity\" style=\"background: #c887fb; padding: 0.45em 0.6em; margin: 0 0.25em; line-height: 1; border-radius: 0.35em;\">\n",
       "    swedish\n",
       "    <span style=\"font-size: 0.8em; font-weight: bold; line-height: 1; border-radius: 0.35em; text-transform: uppercase; vertical-align: middle; margin-left: 0.5rem\">NORP</span>\n",
       "</mark>\n",
       " actors no less</div></span>"
      ],
      "text/plain": [
       "<IPython.core.display.HTML object>"
      ]
     },
     "metadata": {
      "tags": []
     },
     "output_type": "display_data"
    },
    {
     "name": "stdout",
     "output_type": "stream",
     "text": [
      "the results oscar wilde said it best in reference to dickens the old curiosity shop one would have to have a heart of stone not to laugh out loud at the death of little nell\n",
      " pretty much the same thing here\n",
      " interiors is chock full of solemnly intoned howlers\n",
      " i\n",
      "m afraid of my anger\n",
      " looking into the middle distance\n",
      "i dont like who im becoming\n",
      " the directorial quotations to use a polite term from bergman are close to parody\n",
      " the incredibly selfinvolved family keep reminding us of how brilliant and talented they are to the point of strangulation\n"
     ]
    },
    {
     "data": {
      "text/html": [
       "<span class=\"tex2jax_ignore\"><div class=\"entities\" style=\"line-height: 2.5; direction: ltr\"> i read a poem of yours \n",
       "<mark class=\"entity\" style=\"background: #bfe1d9; padding: 0.45em 0.6em; margin: 0 0.25em; line-height: 1; border-radius: 0.35em;\">\n",
       "    the other day\n",
       "    <span style=\"font-size: 0.8em; font-weight: bold; line-height: 1; border-radius: 0.35em; text-transform: uppercase; vertical-align: middle; margin-left: 0.5rem\">DATE</span>\n",
       "</mark>\n",
       "</div></span>"
      ],
      "text/plain": [
       "<IPython.core.display.HTML object>"
      ]
     },
     "metadata": {
      "tags": []
     },
     "output_type": "display_data"
    },
    {
     "name": "stdout",
     "output_type": "stream",
     "text": [
      " it was in  \n",
      "i dont know  the new yorker\n",
      " oh\n",
      " that was an old poem\n",
      " i reworked it\n",
      " far from not caring about these people however i found them quite hilarious\n",
      " much of the dialog is exactly like the funny stuff from allens earlier films  \n"
     ]
    },
    {
     "data": {
      "text/html": [
       "<span class=\"tex2jax_ignore\"><div class=\"entities\" style=\"line-height: 2.5; direction: ltr\">only he\n",
       "<mark class=\"entity\" style=\"background: #7aecec; padding: 0.45em 0.6em; margin: 0 0.25em; line-height: 1; border-radius: 0.35em;\">\n",
       "    s\n",
       "    <span style=\"font-size: 0.8em; font-weight: bold; line-height: 1; border-radius: 0.35em; text-transform: uppercase; vertical-align: middle; margin-left: 0.5rem\">ORG</span>\n",
       "</mark>\n",
       " directed his actors to play the lines straight</div></span>"
      ],
      "text/plain": [
       "<IPython.core.display.HTML object>"
      ]
     },
     "metadata": {
      "tags": []
     },
     "output_type": "display_data"
    },
    {
     "data": {
      "text/html": [
       "<span class=\"tex2jax_ignore\"><div class=\"entities\" style=\"line-height: 2.5; direction: ltr\"> having not cast himself in the movie he has poor \n",
       "<mark class=\"entity\" style=\"background: #aa9cfc; padding: 0.45em 0.6em; margin: 0 0.25em; line-height: 1; border-radius: 0.35em;\">\n",
       "    mary beth hurt\n",
       "    <span style=\"font-size: 0.8em; font-weight: bold; line-height: 1; border-radius: 0.35em; text-transform: uppercase; vertical-align: middle; margin-left: 0.5rem\">PERSON</span>\n",
       "</mark>\n",
       " copy all of his \n",
       "<mark class=\"entity\" style=\"background: #c887fb; padding: 0.45em 0.6em; margin: 0 0.25em; line-height: 1; border-radius: 0.35em;\">\n",
       "    thespian\n",
       "    <span style=\"font-size: 0.8em; font-weight: bold; line-height: 1; border-radius: 0.35em; text-transform: uppercase; vertical-align: middle; margin-left: 0.5rem\">NORP</span>\n",
       "</mark>\n",
       " tics intonations and neurotic habits turning her into an embarrassing surrogate much like \n",
       "<mark class=\"entity\" style=\"background: #aa9cfc; padding: 0.45em 0.6em; margin: 0 0.25em; line-height: 1; border-radius: 0.35em;\">\n",
       "    kenneth branagh\n",
       "    <span style=\"font-size: 0.8em; font-weight: bold; line-height: 1; border-radius: 0.35em; text-transform: uppercase; vertical-align: middle; margin-left: 0.5rem\">PERSON</span>\n",
       "</mark>\n",
       " in celebrity</div></span>"
      ],
      "text/plain": [
       "<IPython.core.display.HTML object>"
      ]
     },
     "metadata": {
      "tags": []
     },
     "output_type": "display_data"
    },
    {
     "data": {
      "text/html": [
       "<span class=\"tex2jax_ignore\"><div class=\"entities\" style=\"line-height: 2.5; direction: ltr\">the basic plot  dysfunctional family with quietly domineering mother  seems to be lifted more or less from bergmans \n",
       "<mark class=\"entity\" style=\"background: #bfe1d9; padding: 0.45em 0.6em; margin: 0 0.25em; line-height: 1; border-radius: 0.35em;\">\n",
       "    winter\n",
       "    <span style=\"font-size: 0.8em; font-weight: bold; line-height: 1; border-radius: 0.35em; text-transform: uppercase; vertical-align: middle; margin-left: 0.5rem\">DATE</span>\n",
       "</mark>\n",
       " light the basic family \n",
       "<mark class=\"entity\" style=\"background: #aa9cfc; padding: 0.45em 0.6em; margin: 0 0.25em; line-height: 1; border-radius: 0.35em;\">\n",
       "    melodrama\n",
       "    <span style=\"font-size: 0.8em; font-weight: bold; line-height: 1; border-radius: 0.35em; text-transform: uppercase; vertical-align: middle; margin-left: 0.5rem\">PERSON</span>\n",
       "</mark>\n",
       " tricked up with a lot of existential angst</div></span>"
      ],
      "text/plain": [
       "<IPython.core.display.HTML object>"
      ]
     },
     "metadata": {
      "tags": []
     },
     "output_type": "display_data"
    },
    {
     "name": "stdout",
     "output_type": "stream",
     "text": [
      " it all comes through in the shopworn visualaural tricks the deafening scratching of a pencil on paper the towering surf that dwarfs the people walking on the beach\n",
      " etc etc\n",
      "allens later serious films are less embarrassing but also far less entertaining\n",
      " ill take interiors\n",
      " woodys rarely made a funnier movie\n",
      "i dont know who to blame the timid writers or the clueless director\n"
     ]
    },
    {
     "data": {
      "text/html": [
       "<span class=\"tex2jax_ignore\"><div class=\"entities\" style=\"line-height: 2.5; direction: ltr\"> it seemed to be one of those movies where so much was paid to the stars angie \n",
       "<mark class=\"entity\" style=\"background: #aa9cfc; padding: 0.45em 0.6em; margin: 0 0.25em; line-height: 1; border-radius: 0.35em;\">\n",
       "    charlie denise rosanna\n",
       "    <span style=\"font-size: 0.8em; font-weight: bold; line-height: 1; border-radius: 0.35em; text-transform: uppercase; vertical-align: middle; margin-left: 0.5rem\">PERSON</span>\n",
       "</mark>\n",
       " and \n",
       "<mark class=\"entity\" style=\"background: #aa9cfc; padding: 0.45em 0.6em; margin: 0 0.25em; line-height: 1; border-radius: 0.35em;\">\n",
       "    jon\n",
       "    <span style=\"font-size: 0.8em; font-weight: bold; line-height: 1; border-radius: 0.35em; text-transform: uppercase; vertical-align: middle; margin-left: 0.5rem\">PERSON</span>\n",
       "</mark>\n",
       " that there wasnt enough left to really make a movie</div></span>"
      ],
      "text/plain": [
       "<IPython.core.display.HTML object>"
      ]
     },
     "metadata": {
      "tags": []
     },
     "output_type": "display_data"
    },
    {
     "name": "stdout",
     "output_type": "stream",
     "text": [
      " this could have been very entertaining but there was a veil of timidity even cowardice that hung over each scene\n"
     ]
    },
    {
     "data": {
      "text/html": [
       "<span class=\"tex2jax_ignore\"><div class=\"entities\" style=\"line-height: 2.5; direction: ltr\"> since it got an r rating anyway why was the ubiquitous bubble bath scene shot with a  woman and not angie harmon why does \n",
       "<mark class=\"entity\" style=\"background: #7aecec; padding: 0.45em 0.6em; margin: 0 0.25em; line-height: 1; border-radius: 0.35em;\">\n",
       "    sheen\n",
       "    <span style=\"font-size: 0.8em; font-weight: bold; line-height: 1; border-radius: 0.35em; text-transform: uppercase; vertical-align: middle; margin-left: 0.5rem\">ORG</span>\n",
       "</mark>\n",
       " sleepwalk through potentially hot relationships with \n",
       "<mark class=\"entity\" style=\"background: #e4e7d2; padding: 0.45em 0.6em; margin: 0 0.25em; line-height: 1; border-radius: 0.35em;\">\n",
       "    two\n",
       "    <span style=\"font-size: 0.8em; font-weight: bold; line-height: 1; border-radius: 0.35em; text-transform: uppercase; vertical-align: middle; margin-left: 0.5rem\">CARDINAL</span>\n",
       "</mark>\n",
       " of the most beautiful and sexy actresses in the world if they were only looking for laughs why not cast whoopi goldberg and \n",
       "<mark class=\"entity\" style=\"background: #aa9cfc; padding: 0.45em 0.6em; margin: 0 0.25em; line-height: 1; border-radius: 0.35em;\">\n",
       "    judy tenuta\n",
       "    <span style=\"font-size: 0.8em; font-weight: bold; line-height: 1; border-radius: 0.35em; text-transform: uppercase; vertical-align: middle; margin-left: 0.5rem\">PERSON</span>\n",
       "</mark>\n",
       "</div></span>"
      ],
      "text/plain": [
       "<IPython.core.display.HTML object>"
      ]
     },
     "metadata": {
      "tags": []
     },
     "output_type": "display_data"
    },
    {
     "data": {
      "text/html": [
       "<span class=\"tex2jax_ignore\"><div class=\"entities\" style=\"line-height: 2.5; direction: ltr\">instead this was so predictable i was surprised to find that the director wasnt a \n",
       "<mark class=\"entity\" style=\"background: #bfe1d9; padding: 0.45em 0.6em; margin: 0 0.25em; line-height: 1; border-radius: 0.35em;\">\n",
       "    five year old\n",
       "    <span style=\"font-size: 0.8em; font-weight: bold; line-height: 1; border-radius: 0.35em; text-transform: uppercase; vertical-align: middle; margin-left: 0.5rem\">DATE</span>\n",
       "</mark>\n",
       "</div></span>"
      ],
      "text/plain": [
       "<IPython.core.display.HTML object>"
      ]
     },
     "metadata": {
      "tags": []
     },
     "output_type": "display_data"
    },
    {
     "name": "stdout",
     "output_type": "stream",
     "text": [
      " what a waste not just for the viewers but for the actors as well\n",
      "this film is mediocre at best\n",
      " angie harmon is as funny as a bag of hammers\n"
     ]
    }
   ],
   "source": [
    "for i in splitted_reviews_sentences[0:100]:\n",
    "    \n",
    "    doc = nlp(i)\n",
    "    \n",
    "    for sent in doc.sents:\n",
    "        docx = nlp(sent.text)\n",
    "        if docx.ents:\n",
    "            displacy.render(docx, style='ent', jupyter=True)\n",
    "        else:\n",
    "            \n",
    "            print(docx.text)\n"
   ]
  },
  {
   "cell_type": "markdown",
   "metadata": {
    "id": "bP6z9EC_WeS6"
   },
   "source": [
    "# TFIDF"
   ]
  },
  {
   "cell_type": "markdown",
   "metadata": {},
   "source": [
    "nourhan"
   ]
  },
  {
   "cell_type": "code",
   "execution_count": 42,
   "metadata": {
    "id": "3vTwx6lyV_Am"
   },
   "outputs": [],
   "source": [
    "from sklearn.model_selection import train_test_split\n",
    "from sklearn.feature_extraction.text import TfidfVectorizer"
   ]
  },
  {
   "cell_type": "code",
   "execution_count": 43,
   "metadata": {
    "colab": {
     "base_uri": "https://localhost:8080/",
     "height": 261
    },
    "id": "bS1xRaFwV_DD",
    "outputId": "a673e86e-9738-4c10-ba8c-2dc2369eb339"
   },
   "outputs": [
    {
     "name": "stdout",
     "output_type": "stream",
     "text": [
      "The new shape for splitted_reviews_sentences is (11822, 17141)\n"
     ]
    },
    {
     "data": {
      "text/html": [
       "<div>\n",
       "<style scoped>\n",
       "    .dataframe tbody tr th:only-of-type {\n",
       "        vertical-align: middle;\n",
       "    }\n",
       "\n",
       "    .dataframe tbody tr th {\n",
       "        vertical-align: top;\n",
       "    }\n",
       "\n",
       "    .dataframe thead th {\n",
       "        text-align: right;\n",
       "    }\n",
       "</style>\n",
       "<table border=\"1\" class=\"dataframe\">\n",
       "  <thead>\n",
       "    <tr style=\"text-align: right;\">\n",
       "      <th></th>\n",
       "      <th>0</th>\n",
       "      <th>1</th>\n",
       "      <th>2</th>\n",
       "      <th>3</th>\n",
       "      <th>4</th>\n",
       "      <th>5</th>\n",
       "      <th>6</th>\n",
       "      <th>7</th>\n",
       "      <th>8</th>\n",
       "      <th>9</th>\n",
       "      <th>10</th>\n",
       "      <th>11</th>\n",
       "      <th>12</th>\n",
       "      <th>13</th>\n",
       "      <th>14</th>\n",
       "      <th>15</th>\n",
       "      <th>16</th>\n",
       "      <th>17</th>\n",
       "      <th>18</th>\n",
       "      <th>19</th>\n",
       "      <th>20</th>\n",
       "      <th>21</th>\n",
       "      <th>22</th>\n",
       "      <th>23</th>\n",
       "      <th>24</th>\n",
       "      <th>25</th>\n",
       "      <th>26</th>\n",
       "      <th>27</th>\n",
       "      <th>28</th>\n",
       "      <th>29</th>\n",
       "      <th>30</th>\n",
       "      <th>31</th>\n",
       "      <th>32</th>\n",
       "      <th>33</th>\n",
       "      <th>34</th>\n",
       "      <th>35</th>\n",
       "      <th>36</th>\n",
       "      <th>37</th>\n",
       "      <th>38</th>\n",
       "      <th>39</th>\n",
       "      <th>...</th>\n",
       "      <th>17101</th>\n",
       "      <th>17102</th>\n",
       "      <th>17103</th>\n",
       "      <th>17104</th>\n",
       "      <th>17105</th>\n",
       "      <th>17106</th>\n",
       "      <th>17107</th>\n",
       "      <th>17108</th>\n",
       "      <th>17109</th>\n",
       "      <th>17110</th>\n",
       "      <th>17111</th>\n",
       "      <th>17112</th>\n",
       "      <th>17113</th>\n",
       "      <th>17114</th>\n",
       "      <th>17115</th>\n",
       "      <th>17116</th>\n",
       "      <th>17117</th>\n",
       "      <th>17118</th>\n",
       "      <th>17119</th>\n",
       "      <th>17120</th>\n",
       "      <th>17121</th>\n",
       "      <th>17122</th>\n",
       "      <th>17123</th>\n",
       "      <th>17124</th>\n",
       "      <th>17125</th>\n",
       "      <th>17126</th>\n",
       "      <th>17127</th>\n",
       "      <th>17128</th>\n",
       "      <th>17129</th>\n",
       "      <th>17130</th>\n",
       "      <th>17131</th>\n",
       "      <th>17132</th>\n",
       "      <th>17133</th>\n",
       "      <th>17134</th>\n",
       "      <th>17135</th>\n",
       "      <th>17136</th>\n",
       "      <th>17137</th>\n",
       "      <th>17138</th>\n",
       "      <th>17139</th>\n",
       "      <th>17140</th>\n",
       "    </tr>\n",
       "  </thead>\n",
       "  <tbody>\n",
       "    <tr>\n",
       "      <th>0</th>\n",
       "      <td>0.0</td>\n",
       "      <td>0.0</td>\n",
       "      <td>0.0</td>\n",
       "      <td>0.0</td>\n",
       "      <td>0.0</td>\n",
       "      <td>0.0</td>\n",
       "      <td>0.0</td>\n",
       "      <td>0.0</td>\n",
       "      <td>0.0</td>\n",
       "      <td>0.0</td>\n",
       "      <td>0.0</td>\n",
       "      <td>0.0</td>\n",
       "      <td>0.0</td>\n",
       "      <td>0.0</td>\n",
       "      <td>0.0</td>\n",
       "      <td>0.0</td>\n",
       "      <td>0.0</td>\n",
       "      <td>0.0</td>\n",
       "      <td>0.0</td>\n",
       "      <td>0.0</td>\n",
       "      <td>0.0</td>\n",
       "      <td>0.0</td>\n",
       "      <td>0.0</td>\n",
       "      <td>0.0</td>\n",
       "      <td>0.0</td>\n",
       "      <td>0.0</td>\n",
       "      <td>0.0</td>\n",
       "      <td>0.0</td>\n",
       "      <td>0.0</td>\n",
       "      <td>0.0</td>\n",
       "      <td>0.0</td>\n",
       "      <td>0.0</td>\n",
       "      <td>0.0</td>\n",
       "      <td>0.0</td>\n",
       "      <td>0.0</td>\n",
       "      <td>0.0</td>\n",
       "      <td>0.0</td>\n",
       "      <td>0.0</td>\n",
       "      <td>0.0</td>\n",
       "      <td>0.0</td>\n",
       "      <td>...</td>\n",
       "      <td>0.0</td>\n",
       "      <td>0.0</td>\n",
       "      <td>0.0</td>\n",
       "      <td>0.0</td>\n",
       "      <td>0.0</td>\n",
       "      <td>0.0</td>\n",
       "      <td>0.0</td>\n",
       "      <td>0.0</td>\n",
       "      <td>0.0</td>\n",
       "      <td>0.0</td>\n",
       "      <td>0.0</td>\n",
       "      <td>0.0</td>\n",
       "      <td>0.0</td>\n",
       "      <td>0.0</td>\n",
       "      <td>0.0</td>\n",
       "      <td>0.0</td>\n",
       "      <td>0.0</td>\n",
       "      <td>0.0</td>\n",
       "      <td>0.0</td>\n",
       "      <td>0.0</td>\n",
       "      <td>0.0</td>\n",
       "      <td>0.0</td>\n",
       "      <td>0.0</td>\n",
       "      <td>0.0</td>\n",
       "      <td>0.0</td>\n",
       "      <td>0.0</td>\n",
       "      <td>0.0</td>\n",
       "      <td>0.0</td>\n",
       "      <td>0.0</td>\n",
       "      <td>0.0</td>\n",
       "      <td>0.0</td>\n",
       "      <td>0.0</td>\n",
       "      <td>0.0</td>\n",
       "      <td>0.0</td>\n",
       "      <td>0.0</td>\n",
       "      <td>0.0</td>\n",
       "      <td>0.0</td>\n",
       "      <td>0.0</td>\n",
       "      <td>0.0</td>\n",
       "      <td>0.0</td>\n",
       "    </tr>\n",
       "    <tr>\n",
       "      <th>1</th>\n",
       "      <td>0.0</td>\n",
       "      <td>0.0</td>\n",
       "      <td>0.0</td>\n",
       "      <td>0.0</td>\n",
       "      <td>0.0</td>\n",
       "      <td>0.0</td>\n",
       "      <td>0.0</td>\n",
       "      <td>0.0</td>\n",
       "      <td>0.0</td>\n",
       "      <td>0.0</td>\n",
       "      <td>0.0</td>\n",
       "      <td>0.0</td>\n",
       "      <td>0.0</td>\n",
       "      <td>0.0</td>\n",
       "      <td>0.0</td>\n",
       "      <td>0.0</td>\n",
       "      <td>0.0</td>\n",
       "      <td>0.0</td>\n",
       "      <td>0.0</td>\n",
       "      <td>0.0</td>\n",
       "      <td>0.0</td>\n",
       "      <td>0.0</td>\n",
       "      <td>0.0</td>\n",
       "      <td>0.0</td>\n",
       "      <td>0.0</td>\n",
       "      <td>0.0</td>\n",
       "      <td>0.0</td>\n",
       "      <td>0.0</td>\n",
       "      <td>0.0</td>\n",
       "      <td>0.0</td>\n",
       "      <td>0.0</td>\n",
       "      <td>0.0</td>\n",
       "      <td>0.0</td>\n",
       "      <td>0.0</td>\n",
       "      <td>0.0</td>\n",
       "      <td>0.0</td>\n",
       "      <td>0.0</td>\n",
       "      <td>0.0</td>\n",
       "      <td>0.0</td>\n",
       "      <td>0.0</td>\n",
       "      <td>...</td>\n",
       "      <td>0.0</td>\n",
       "      <td>0.0</td>\n",
       "      <td>0.0</td>\n",
       "      <td>0.0</td>\n",
       "      <td>0.0</td>\n",
       "      <td>0.0</td>\n",
       "      <td>0.0</td>\n",
       "      <td>0.0</td>\n",
       "      <td>0.0</td>\n",
       "      <td>0.0</td>\n",
       "      <td>0.0</td>\n",
       "      <td>0.0</td>\n",
       "      <td>0.0</td>\n",
       "      <td>0.0</td>\n",
       "      <td>0.0</td>\n",
       "      <td>0.0</td>\n",
       "      <td>0.0</td>\n",
       "      <td>0.0</td>\n",
       "      <td>0.0</td>\n",
       "      <td>0.0</td>\n",
       "      <td>0.0</td>\n",
       "      <td>0.0</td>\n",
       "      <td>0.0</td>\n",
       "      <td>0.0</td>\n",
       "      <td>0.0</td>\n",
       "      <td>0.0</td>\n",
       "      <td>0.0</td>\n",
       "      <td>0.0</td>\n",
       "      <td>0.0</td>\n",
       "      <td>0.0</td>\n",
       "      <td>0.0</td>\n",
       "      <td>0.0</td>\n",
       "      <td>0.0</td>\n",
       "      <td>0.0</td>\n",
       "      <td>0.0</td>\n",
       "      <td>0.0</td>\n",
       "      <td>0.0</td>\n",
       "      <td>0.0</td>\n",
       "      <td>0.0</td>\n",
       "      <td>0.0</td>\n",
       "    </tr>\n",
       "    <tr>\n",
       "      <th>2</th>\n",
       "      <td>0.0</td>\n",
       "      <td>0.0</td>\n",
       "      <td>0.0</td>\n",
       "      <td>0.0</td>\n",
       "      <td>0.0</td>\n",
       "      <td>0.0</td>\n",
       "      <td>0.0</td>\n",
       "      <td>0.0</td>\n",
       "      <td>0.0</td>\n",
       "      <td>0.0</td>\n",
       "      <td>0.0</td>\n",
       "      <td>0.0</td>\n",
       "      <td>0.0</td>\n",
       "      <td>0.0</td>\n",
       "      <td>0.0</td>\n",
       "      <td>0.0</td>\n",
       "      <td>0.0</td>\n",
       "      <td>0.0</td>\n",
       "      <td>0.0</td>\n",
       "      <td>0.0</td>\n",
       "      <td>0.0</td>\n",
       "      <td>0.0</td>\n",
       "      <td>0.0</td>\n",
       "      <td>0.0</td>\n",
       "      <td>0.0</td>\n",
       "      <td>0.0</td>\n",
       "      <td>0.0</td>\n",
       "      <td>0.0</td>\n",
       "      <td>0.0</td>\n",
       "      <td>0.0</td>\n",
       "      <td>0.0</td>\n",
       "      <td>0.0</td>\n",
       "      <td>0.0</td>\n",
       "      <td>0.0</td>\n",
       "      <td>0.0</td>\n",
       "      <td>0.0</td>\n",
       "      <td>0.0</td>\n",
       "      <td>0.0</td>\n",
       "      <td>0.0</td>\n",
       "      <td>0.0</td>\n",
       "      <td>...</td>\n",
       "      <td>0.0</td>\n",
       "      <td>0.0</td>\n",
       "      <td>0.0</td>\n",
       "      <td>0.0</td>\n",
       "      <td>0.0</td>\n",
       "      <td>0.0</td>\n",
       "      <td>0.0</td>\n",
       "      <td>0.0</td>\n",
       "      <td>0.0</td>\n",
       "      <td>0.0</td>\n",
       "      <td>0.0</td>\n",
       "      <td>0.0</td>\n",
       "      <td>0.0</td>\n",
       "      <td>0.0</td>\n",
       "      <td>0.0</td>\n",
       "      <td>0.0</td>\n",
       "      <td>0.0</td>\n",
       "      <td>0.0</td>\n",
       "      <td>0.0</td>\n",
       "      <td>0.0</td>\n",
       "      <td>0.0</td>\n",
       "      <td>0.0</td>\n",
       "      <td>0.0</td>\n",
       "      <td>0.0</td>\n",
       "      <td>0.0</td>\n",
       "      <td>0.0</td>\n",
       "      <td>0.0</td>\n",
       "      <td>0.0</td>\n",
       "      <td>0.0</td>\n",
       "      <td>0.0</td>\n",
       "      <td>0.0</td>\n",
       "      <td>0.0</td>\n",
       "      <td>0.0</td>\n",
       "      <td>0.0</td>\n",
       "      <td>0.0</td>\n",
       "      <td>0.0</td>\n",
       "      <td>0.0</td>\n",
       "      <td>0.0</td>\n",
       "      <td>0.0</td>\n",
       "      <td>0.0</td>\n",
       "    </tr>\n",
       "    <tr>\n",
       "      <th>3</th>\n",
       "      <td>0.0</td>\n",
       "      <td>0.0</td>\n",
       "      <td>0.0</td>\n",
       "      <td>0.0</td>\n",
       "      <td>0.0</td>\n",
       "      <td>0.0</td>\n",
       "      <td>0.0</td>\n",
       "      <td>0.0</td>\n",
       "      <td>0.0</td>\n",
       "      <td>0.0</td>\n",
       "      <td>0.0</td>\n",
       "      <td>0.0</td>\n",
       "      <td>0.0</td>\n",
       "      <td>0.0</td>\n",
       "      <td>0.0</td>\n",
       "      <td>0.0</td>\n",
       "      <td>0.0</td>\n",
       "      <td>0.0</td>\n",
       "      <td>0.0</td>\n",
       "      <td>0.0</td>\n",
       "      <td>0.0</td>\n",
       "      <td>0.0</td>\n",
       "      <td>0.0</td>\n",
       "      <td>0.0</td>\n",
       "      <td>0.0</td>\n",
       "      <td>0.0</td>\n",
       "      <td>0.0</td>\n",
       "      <td>0.0</td>\n",
       "      <td>0.0</td>\n",
       "      <td>0.0</td>\n",
       "      <td>0.0</td>\n",
       "      <td>0.0</td>\n",
       "      <td>0.0</td>\n",
       "      <td>0.0</td>\n",
       "      <td>0.0</td>\n",
       "      <td>0.0</td>\n",
       "      <td>0.0</td>\n",
       "      <td>0.0</td>\n",
       "      <td>0.0</td>\n",
       "      <td>0.0</td>\n",
       "      <td>...</td>\n",
       "      <td>0.0</td>\n",
       "      <td>0.0</td>\n",
       "      <td>0.0</td>\n",
       "      <td>0.0</td>\n",
       "      <td>0.0</td>\n",
       "      <td>0.0</td>\n",
       "      <td>0.0</td>\n",
       "      <td>0.0</td>\n",
       "      <td>0.0</td>\n",
       "      <td>0.0</td>\n",
       "      <td>0.0</td>\n",
       "      <td>0.0</td>\n",
       "      <td>0.0</td>\n",
       "      <td>0.0</td>\n",
       "      <td>0.0</td>\n",
       "      <td>0.0</td>\n",
       "      <td>0.0</td>\n",
       "      <td>0.0</td>\n",
       "      <td>0.0</td>\n",
       "      <td>0.0</td>\n",
       "      <td>0.0</td>\n",
       "      <td>0.0</td>\n",
       "      <td>0.0</td>\n",
       "      <td>0.0</td>\n",
       "      <td>0.0</td>\n",
       "      <td>0.0</td>\n",
       "      <td>0.0</td>\n",
       "      <td>0.0</td>\n",
       "      <td>0.0</td>\n",
       "      <td>0.0</td>\n",
       "      <td>0.0</td>\n",
       "      <td>0.0</td>\n",
       "      <td>0.0</td>\n",
       "      <td>0.0</td>\n",
       "      <td>0.0</td>\n",
       "      <td>0.0</td>\n",
       "      <td>0.0</td>\n",
       "      <td>0.0</td>\n",
       "      <td>0.0</td>\n",
       "      <td>0.0</td>\n",
       "    </tr>\n",
       "    <tr>\n",
       "      <th>4</th>\n",
       "      <td>0.0</td>\n",
       "      <td>0.0</td>\n",
       "      <td>0.0</td>\n",
       "      <td>0.0</td>\n",
       "      <td>0.0</td>\n",
       "      <td>0.0</td>\n",
       "      <td>0.0</td>\n",
       "      <td>0.0</td>\n",
       "      <td>0.0</td>\n",
       "      <td>0.0</td>\n",
       "      <td>0.0</td>\n",
       "      <td>0.0</td>\n",
       "      <td>0.0</td>\n",
       "      <td>0.0</td>\n",
       "      <td>0.0</td>\n",
       "      <td>0.0</td>\n",
       "      <td>0.0</td>\n",
       "      <td>0.0</td>\n",
       "      <td>0.0</td>\n",
       "      <td>0.0</td>\n",
       "      <td>0.0</td>\n",
       "      <td>0.0</td>\n",
       "      <td>0.0</td>\n",
       "      <td>0.0</td>\n",
       "      <td>0.0</td>\n",
       "      <td>0.0</td>\n",
       "      <td>0.0</td>\n",
       "      <td>0.0</td>\n",
       "      <td>0.0</td>\n",
       "      <td>0.0</td>\n",
       "      <td>0.0</td>\n",
       "      <td>0.0</td>\n",
       "      <td>0.0</td>\n",
       "      <td>0.0</td>\n",
       "      <td>0.0</td>\n",
       "      <td>0.0</td>\n",
       "      <td>0.0</td>\n",
       "      <td>0.0</td>\n",
       "      <td>0.0</td>\n",
       "      <td>0.0</td>\n",
       "      <td>...</td>\n",
       "      <td>0.0</td>\n",
       "      <td>0.0</td>\n",
       "      <td>0.0</td>\n",
       "      <td>0.0</td>\n",
       "      <td>0.0</td>\n",
       "      <td>0.0</td>\n",
       "      <td>0.0</td>\n",
       "      <td>0.0</td>\n",
       "      <td>0.0</td>\n",
       "      <td>0.0</td>\n",
       "      <td>0.0</td>\n",
       "      <td>0.0</td>\n",
       "      <td>0.0</td>\n",
       "      <td>0.0</td>\n",
       "      <td>0.0</td>\n",
       "      <td>0.0</td>\n",
       "      <td>0.0</td>\n",
       "      <td>0.0</td>\n",
       "      <td>0.0</td>\n",
       "      <td>0.0</td>\n",
       "      <td>0.0</td>\n",
       "      <td>0.0</td>\n",
       "      <td>0.0</td>\n",
       "      <td>0.0</td>\n",
       "      <td>0.0</td>\n",
       "      <td>0.0</td>\n",
       "      <td>0.0</td>\n",
       "      <td>0.0</td>\n",
       "      <td>0.0</td>\n",
       "      <td>0.0</td>\n",
       "      <td>0.0</td>\n",
       "      <td>0.0</td>\n",
       "      <td>0.0</td>\n",
       "      <td>0.0</td>\n",
       "      <td>0.0</td>\n",
       "      <td>0.0</td>\n",
       "      <td>0.0</td>\n",
       "      <td>0.0</td>\n",
       "      <td>0.0</td>\n",
       "      <td>0.0</td>\n",
       "    </tr>\n",
       "  </tbody>\n",
       "</table>\n",
       "<p>5 rows × 17141 columns</p>\n",
       "</div>"
      ],
      "text/plain": [
       "   0      1      2      3      4      ...  17136  17137  17138  17139  17140\n",
       "0    0.0    0.0    0.0    0.0    0.0  ...    0.0    0.0    0.0    0.0    0.0\n",
       "1    0.0    0.0    0.0    0.0    0.0  ...    0.0    0.0    0.0    0.0    0.0\n",
       "2    0.0    0.0    0.0    0.0    0.0  ...    0.0    0.0    0.0    0.0    0.0\n",
       "3    0.0    0.0    0.0    0.0    0.0  ...    0.0    0.0    0.0    0.0    0.0\n",
       "4    0.0    0.0    0.0    0.0    0.0  ...    0.0    0.0    0.0    0.0    0.0\n",
       "\n",
       "[5 rows x 17141 columns]"
      ]
     },
     "execution_count": 43,
     "metadata": {
      "tags": []
     },
     "output_type": "execute_result"
    }
   ],
   "source": [
    "VecModel = TfidfVectorizer()\n",
    "X_Vec = VecModel.fit_transform(splitted_reviews_sentences)\n",
    "X_Vec = pd.DataFrame.sparse.from_spmatrix(X_Vec)\n",
    "\n",
    "print(f'The new shape for splitted_reviews_sentences is {X_Vec.shape}')\n",
    "X_Vec.head()"
   ]
  },
  {
   "cell_type": "code",
   "execution_count": 44,
   "metadata": {
    "colab": {
     "base_uri": "https://localhost:8080/"
    },
    "id": "TZjwCLGzV_Fs",
    "outputId": "aed771a8-92a7-49e8-9a51-d0d838e098cf"
   },
   "outputs": [
    {
     "name": "stdout",
     "output_type": "stream",
     "text": [
      "[0.5241367706933014, 0.5021928630466667, 0.4370334510556838, 0.2978028142848171, 0.24002383315344322, 0.2250974043520934, 0.21036999387044567, 0.16702324887880263, 0.11386675748341803, 0, 0, 0, 0, 0, 0, 0, 0, 0, 0, 0]\n",
      "--------------------------------------------------\n",
      "[0.4501590690847996, 0.3941115112019815, 0.3520176092809746, 0.33914252880480483, 0.33118586638107694, 0.3181350720741892, 0.26908795396552204, 0.2097554959510017, 0.16756185415487168, 0.14009877866285017, 0.12440889156913193, 0.11232526382541858, 0, 0, 0, 0, 0, 0, 0, 0]\n",
      "--------------------------------------------------\n",
      "[0.3455892532576134, 0.3455892532576134, 0.3455892532576134, 0.3311205514202602, 0.3311205514202602, 0.29191744042075396, 0.2761509879520568, 0.25406106318922983, 0.2352878469715967, 0.21096126178481203, 0.1656186151028339, 0.13490973350356708, 0.13447425978062566, 0.13099458213157403, 0.08315464757917702, 0.07507797561599909, 0.05577534633095104, 0, 0, 0]\n",
      "--------------------------------------------------\n",
      "[0.3622822013068696, 0.3297055355627051, 0.3228033676702587, 0.3050047246854854, 0.2855856008391321, 0.28308077541665394, 0.2532443600381363, 0.23237536933343414, 0.23166907921601482, 0.21364615775057244, 0.2039151063142504, 0.19523559059615617, 0.17447923139892688, 0.16777321546798948, 0.15620524945814307, 0.12967689534981322, 0.06457949075268296, 0, 0, 0]\n",
      "--------------------------------------------------\n",
      "[0.5199863475386938, 0.4388395088884479, 0.3488828501527755, 0.3299321377143676, 0.3284757284460041, 0.2691841928196758, 0.250989947604147, 0.2286602280814339, 0.10402758113942187, 0, 0, 0, 0, 0, 0, 0, 0, 0, 0, 0]\n",
      "--------------------------------------------------\n"
     ]
    }
   ],
   "source": [
    "for i in range(5) : \n",
    "    print(sorted(list(X_Vec.iloc[i,:]),reverse = True)[:20])\n",
    "    print('--------------------------------------------------')"
   ]
  },
  {
   "cell_type": "code",
   "execution_count": 44,
   "metadata": {
    "id": "MfLCOSwHkpWV"
   },
   "outputs": [],
   "source": []
  },
  {
   "cell_type": "markdown",
   "metadata": {
    "id": "VJniaw0vWtg9"
   },
   "source": [
    "# continuous bag of words"
   ]
  },
  {
   "cell_type": "markdown",
   "metadata": {},
   "source": [
    "nourhan"
   ]
  },
  {
   "cell_type": "code",
   "execution_count": 98,
   "metadata": {
    "ExecuteTime": {
     "end_time": "2021-06-10T13:25:47.166245Z",
     "start_time": "2021-06-10T13:25:45.538064Z"
    },
    "colab": {
     "base_uri": "https://localhost:8080/"
    },
    "id": "6GUM-Le7B070",
    "outputId": "1550b820-832b-4a23-f29c-e2cf08962770"
   },
   "outputs": [
    {
     "name": "stderr",
     "output_type": "stream",
     "text": [
      "WARNING: Ignoring invalid distribution -umpy (c:\\users\\nourhan\\anaconda3\\lib\\site-packages)\n",
      "ERROR: Invalid requirement: '#'\n",
      "WARNING: Ignoring invalid distribution -umpy (c:\\users\\nourhan\\anaconda3\\lib\\site-packages)\n",
      "WARNING: Ignoring invalid distribution -umpy (c:\\users\\nourhan\\anaconda3\\lib\\site-packages)\n",
      "[nltk_data] Downloading package punkt to\n",
      "[nltk_data]     C:\\Users\\Nourhan\\AppData\\Roaming\\nltk_data...\n",
      "[nltk_data]   Package punkt is already up-to-date!\n"
     ]
    },
    {
     "data": {
      "text/plain": [
       "True"
      ]
     },
     "execution_count": 98,
     "metadata": {},
     "output_type": "execute_result"
    }
   ],
   "source": [
    "import sys\n",
    "!{sys.executable} -m pip install emoji # to resolve: ModuleNotFoundError: No module named 'emoji'\n",
    "\n",
    "import re\n",
    "import nltk\n",
    "from nltk.tokenize import word_tokenize\n",
    "import numpy as np\n",
    "\n",
    "\n",
    "nltk.download('punkt')  # download pre-trained Punkt tokenizer for English"
   ]
  },
  {
   "cell_type": "code",
   "execution_count": 138,
   "metadata": {
    "ExecuteTime": {
     "end_time": "2021-06-10T13:38:28.259800Z",
     "start_time": "2021-06-10T13:38:28.243832Z"
    },
    "colab": {
     "base_uri": "https://localhost:8080/"
    },
    "id": "e1T-REASlrIi",
    "outputId": "f5aaa6d5-497b-4bfd-8681-78d91190f1ee"
   },
   "outputs": [
    {
     "data": {
      "text/plain": [
       "215413"
      ]
     },
     "execution_count": 138,
     "metadata": {},
     "output_type": "execute_result"
    }
   ],
   "source": [
    "len(splitted_reviews)"
   ]
  },
  {
   "cell_type": "code",
   "execution_count": 139,
   "metadata": {
    "ExecuteTime": {
     "end_time": "2021-06-10T13:38:44.844945Z",
     "start_time": "2021-06-10T13:38:32.974162Z"
    },
    "colab": {
     "base_uri": "https://localhost:8080/"
    },
    "id": "z-JR5wmVYj6q",
    "outputId": "c1aa76c3-28ec-4df7-96a1-4e7ee223f3cd"
   },
   "outputs": [
    {
     "name": "stderr",
     "output_type": "stream",
     "text": [
      "[nltk_data] Downloading package punkt to\n",
      "[nltk_data]     C:\\Users\\Nourhan\\AppData\\Roaming\\nltk_data...\n",
      "[nltk_data]   Package punkt is already up-to-date!\n"
     ]
    }
   ],
   "source": [
    "#tokenizing\n",
    "import nltk\n",
    "nltk.download('punkt')\n",
    "tokens=[]\n",
    "tokens = [word_tokenize(sent) for sent in splitted_reviews]\n"
   ]
  },
  {
   "cell_type": "code",
   "execution_count": null,
   "metadata": {},
   "outputs": [],
   "source": []
  },
  {
   "cell_type": "code",
   "execution_count": 141,
   "metadata": {
    "ExecuteTime": {
     "end_time": "2021-06-10T13:39:13.502880Z",
     "start_time": "2021-06-10T13:38:54.791014Z"
    },
    "id": "C5miqSp9cdvq"
   },
   "outputs": [],
   "source": [
    "\n",
    "words = tokens\n",
    "vocab=[]\n",
    "for i in words:\n",
    "    if(i in vocab):\n",
    "        continue\n",
    "    else:\n",
    "        vocab.append(i)\n"
   ]
  },
  {
   "cell_type": "code",
   "execution_count": 198,
   "metadata": {
    "ExecuteTime": {
     "end_time": "2021-06-10T13:55:24.591454Z",
     "start_time": "2021-06-10T13:55:24.577458Z"
    },
    "colab": {
     "base_uri": "https://localhost:8080/"
    },
    "id": "FY-h23XUdINL",
    "outputId": "3fe1604e-b5a3-4c74-f7f4-8ed9954f8850"
   },
   "outputs": [
    {
     "data": {
      "text/plain": [
       "5000"
      ]
     },
     "execution_count": 198,
     "metadata": {},
     "output_type": "execute_result"
    }
   ],
   "source": [
    "len(vocab)"
   ]
  },
  {
   "cell_type": "code",
   "execution_count": 143,
   "metadata": {
    "ExecuteTime": {
     "end_time": "2021-06-10T13:39:23.352568Z",
     "start_time": "2021-06-10T13:39:23.339547Z"
    },
    "id": "788SHgBxdxI0"
   },
   "outputs": [],
   "source": [
    "\n",
    "#convert the lists in list int strings in list\n",
    "vocab = [''.join(ele) for ele in vocab]\n"
   ]
  },
  {
   "cell_type": "code",
   "execution_count": 144,
   "metadata": {
    "ExecuteTime": {
     "end_time": "2021-06-10T13:39:28.130767Z",
     "start_time": "2021-06-10T13:39:28.101844Z"
    },
    "colab": {
     "base_uri": "https://localhost:8080/"
    },
    "id": "rL-6VEChd7VY",
    "outputId": "212ea27c-7acd-4774-820e-f3017512fcdb"
   },
   "outputs": [
    {
     "data": {
      "text/plain": [
       "['story',\n",
       " 'of',\n",
       " 'a',\n",
       " 'man',\n",
       " 'who',\n",
       " 'has',\n",
       " 'unnatural',\n",
       " 'feelings',\n",
       " 'for',\n",
       " 'pig',\n",
       " 'starts',\n",
       " 'out',\n",
       " 'with',\n",
       " 'opening',\n",
       " 'scene',\n",
       " 'that',\n",
       " 'is',\n",
       " 'terrific',\n",
       " 'example',\n",
       " 'absurd',\n",
       " 'comedy',\n",
       " 'formal',\n",
       " 'orchestra',\n",
       " 'audience',\n",
       " 'turned',\n",
       " 'into',\n",
       " 'an',\n",
       " 'insane',\n",
       " 'violent',\n",
       " 'mob',\n",
       " 'by',\n",
       " 'the',\n",
       " 'crazy',\n",
       " 'chantings',\n",
       " 'its',\n",
       " 'singers',\n",
       " 'unfortunately',\n",
       " 'it',\n",
       " 'stays',\n",
       " 'whole',\n",
       " 'time',\n",
       " 'no',\n",
       " 'general',\n",
       " 'narrative',\n",
       " 'eventually',\n",
       " 'making',\n",
       " 'just',\n",
       " 'too',\n",
       " 'off',\n",
       " 'putting',\n",
       " 'even',\n",
       " 'those',\n",
       " 'from',\n",
       " 'era',\n",
       " 'should',\n",
       " 'be',\n",
       " 'cryptic',\n",
       " 'dialogue',\n",
       " 'would',\n",
       " 'make',\n",
       " 'shakespeare',\n",
       " 'seem',\n",
       " 'easy',\n",
       " 'to',\n",
       " 'third',\n",
       " 'grader',\n",
       " 'on',\n",
       " 'technical',\n",
       " 'level',\n",
       " 'better',\n",
       " 'than',\n",
       " 'you',\n",
       " 'might',\n",
       " 'think',\n",
       " 'some',\n",
       " 'good',\n",
       " 'cinematography',\n",
       " 'future',\n",
       " 'great',\n",
       " 'vilmos',\n",
       " 'zsigmond',\n",
       " 'stars',\n",
       " 'sally',\n",
       " 'kirkland',\n",
       " 'and',\n",
       " 'frederic',\n",
       " 'forrest',\n",
       " 'can',\n",
       " 'seen',\n",
       " 'briefly',\n",
       " 'airport',\n",
       " '',\n",
       " 'as',\n",
       " 'brand',\n",
       " 'new',\n",
       " 'luxury',\n",
       " 'plane',\n",
       " 'loaded',\n",
       " 'up',\n",
       " 'valuable',\n",
       " 'paintings',\n",
       " 'such',\n",
       " 'belonging',\n",
       " 'rich',\n",
       " 'businessman',\n",
       " 'philip',\n",
       " 'stevens',\n",
       " 'james',\n",
       " 'stewart',\n",
       " 'flying',\n",
       " 'them',\n",
       " 'bunch',\n",
       " 'vips',\n",
       " 'his',\n",
       " 'estate',\n",
       " 'in',\n",
       " 'preparation',\n",
       " 'being',\n",
       " 'opened',\n",
       " 'public',\n",
       " 'museum',\n",
       " 'also',\n",
       " 'board',\n",
       " 'daughter',\n",
       " 'julie',\n",
       " 'kathleen',\n",
       " 'quinlan',\n",
       " 'her',\n",
       " 'son',\n",
       " 'jetliner',\n",
       " 'takes',\n",
       " 'planned',\n",
       " 'but',\n",
       " 'midair',\n",
       " 'hijacked',\n",
       " 'copilot',\n",
       " 'chambers',\n",
       " 'robert',\n",
       " 'foxworth',\n",
       " 'two',\n",
       " 'accomplices',\n",
       " 'banker',\n",
       " 'monte',\n",
       " 'markham',\n",
       " 'wilson',\n",
       " 'michael',\n",
       " 'pataki',\n",
       " 'knock',\n",
       " 'passengers',\n",
       " 'crew',\n",
       " 'sleeping',\n",
       " 'gas',\n",
       " 'they',\n",
       " 'plan',\n",
       " 'steal',\n",
       " 'cargo',\n",
       " 'land',\n",
       " 'disused',\n",
       " 'strip',\n",
       " 'isolated',\n",
       " 'island',\n",
       " 'while',\n",
       " 'descent',\n",
       " 'almost',\n",
       " 'hits',\n",
       " 'oil',\n",
       " 'rig',\n",
       " 'ocean',\n",
       " 'loses',\n",
       " 'control',\n",
       " 'sending',\n",
       " 'crashing',\n",
       " 'sea',\n",
       " 'where',\n",
       " 'sinks',\n",
       " 'bottom',\n",
       " 'right',\n",
       " 'bang',\n",
       " 'middle',\n",
       " 'bermuda',\n",
       " 'triangle',\n",
       " 'air',\n",
       " 'short',\n",
       " 'supply',\n",
       " 'water',\n",
       " 'leaking',\n",
       " 'having',\n",
       " 'flown',\n",
       " 'over',\n",
       " 'miles',\n",
       " 'course',\n",
       " 'problems',\n",
       " 'mount',\n",
       " 'survivors',\n",
       " 'await',\n",
       " 'help',\n",
       " 'fast',\n",
       " 'running',\n",
       " 'outalso',\n",
       " 'known',\n",
       " 'under',\n",
       " 'slightly',\n",
       " 'different',\n",
       " 'tile',\n",
       " 'this',\n",
       " 'second',\n",
       " 'sequel',\n",
       " 'smashhit',\n",
       " 'disaster',\n",
       " 'thriller',\n",
       " 'was',\n",
       " 'directed',\n",
       " 'jerry',\n",
       " 'jameson',\n",
       " 'once',\n",
       " 'again',\n",
       " 'like',\n",
       " 'predecessors',\n",
       " 'i',\n",
       " 'cant',\n",
       " 'say',\n",
       " 'any',\n",
       " 'sort',\n",
       " 'forgotten',\n",
       " 'classic',\n",
       " 'entertaining',\n",
       " 'although',\n",
       " 'not',\n",
       " 'necessarily',\n",
       " 'reasons',\n",
       " 'three',\n",
       " 'films',\n",
       " 'have',\n",
       " 'so',\n",
       " 'far',\n",
       " 'actually',\n",
       " 'liked',\n",
       " 'one',\n",
       " 'best',\n",
       " 'my',\n",
       " 'favourite',\n",
       " 'plot',\n",
       " 'nice',\n",
       " 'hijacking',\n",
       " 'then',\n",
       " 'didnt',\n",
       " 'he',\n",
       " 'see',\n",
       " 'sinking',\n",
       " 'maybe',\n",
       " 'makers',\n",
       " 'were',\n",
       " 'trying',\n",
       " 'cross',\n",
       " 'original',\n",
       " 'another',\n",
       " 'popular',\n",
       " 'flick',\n",
       " 'period',\n",
       " 'poseidon',\n",
       " 'adventure',\n",
       " 'submerged',\n",
       " 'until',\n",
       " 'end',\n",
       " 'stark',\n",
       " 'dilemma',\n",
       " 'facing',\n",
       " 'trapped',\n",
       " 'inside',\n",
       " 'either',\n",
       " 'suffocate',\n",
       " 'when',\n",
       " 'runs',\n",
       " 'or',\n",
       " 'drown',\n",
       " 'floods',\n",
       " 'if',\n",
       " 'doors',\n",
       " 'are',\n",
       " 'decent',\n",
       " 'idea',\n",
       " 'could',\n",
       " 'made',\n",
       " 'little',\n",
       " 'bad',\n",
       " 'unsympathetic',\n",
       " 'characters',\n",
       " 'dull',\n",
       " 'lethargic',\n",
       " 'setpieces',\n",
       " 'real',\n",
       " 'lack',\n",
       " 'danger',\n",
       " 'suspense',\n",
       " 'tension',\n",
       " 'means',\n",
       " 'missed',\n",
       " 'opportunity',\n",
       " 'rather',\n",
       " 'sluggish',\n",
       " 'keeps',\n",
       " 'entertained',\n",
       " 'odd',\n",
       " 'minutes',\n",
       " 'much',\n",
       " 'happens',\n",
       " 'after',\n",
       " 'theres',\n",
       " 'urgency',\n",
       " 'thought',\n",
       " 'there',\n",
       " 'been',\n",
       " 'navy',\n",
       " 'become',\n",
       " 'involved',\n",
       " 'things',\n",
       " 'dont',\n",
       " 'pick',\n",
       " 'few',\n",
       " 'shots',\n",
       " 'huge',\n",
       " 'ships',\n",
       " 'helicopters',\n",
       " 'about',\n",
       " 'something',\n",
       " 'lacking',\n",
       " 'here',\n",
       " 'george',\n",
       " 'kennedy',\n",
       " 'jinxed',\n",
       " 'airline',\n",
       " 'worker',\n",
       " 'joe',\n",
       " 'patroni',\n",
       " 'back',\n",
       " 'only',\n",
       " 'gets',\n",
       " 'couple',\n",
       " 'scenes',\n",
       " 'barely',\n",
       " 'says',\n",
       " 'anything',\n",
       " 'preferring',\n",
       " 'look',\n",
       " 'worried',\n",
       " 'backgroundthe',\n",
       " 'home',\n",
       " 'video',\n",
       " 'theatrical',\n",
       " 'version',\n",
       " 'run',\n",
       " 'us',\n",
       " 'tv',\n",
       " 'versions',\n",
       " 'add',\n",
       " 'extra',\n",
       " 'hour',\n",
       " 'footage',\n",
       " 'including',\n",
       " 'credits',\n",
       " 'sequence',\n",
       " 'many',\n",
       " 'more',\n",
       " 'flashbacks',\n",
       " 'flesh',\n",
       " 'longer',\n",
       " 'rescue',\n",
       " 'discovery',\n",
       " 'dead',\n",
       " 'bodies',\n",
       " 'navigator',\n",
       " 'am',\n",
       " 'sure',\n",
       " 'sit',\n",
       " 'through',\n",
       " 'near',\n",
       " 'cut',\n",
       " 'expected',\n",
       " 'film',\n",
       " 'dated',\n",
       " 'badly',\n",
       " 'horrible',\n",
       " 'fashions',\n",
       " 'interior',\n",
       " 'design',\n",
       " 'choices',\n",
       " 'will',\n",
       " 'other',\n",
       " 'toy',\n",
       " 'model',\n",
       " 'effects',\n",
       " 'arent',\n",
       " 'along',\n",
       " 'sequels',\n",
       " 'pride',\n",
       " 'place',\n",
       " 'razzie',\n",
       " 'awards',\n",
       " 'hall',\n",
       " 'shame',\n",
       " 'lots',\n",
       " 'worse',\n",
       " 'reckon',\n",
       " 'thats',\n",
       " 'harsh',\n",
       " 'action',\n",
       " 'pace',\n",
       " 'slow',\n",
       " 'excitement',\n",
       " 'generated',\n",
       " 'which',\n",
       " 'pretty',\n",
       " 'properlythe',\n",
       " 'production',\n",
       " 'values',\n",
       " 'alright',\n",
       " 'nothing',\n",
       " 'spectacular',\n",
       " 'acting',\n",
       " 'isnt',\n",
       " 'oscar',\n",
       " 'winner',\n",
       " 'jack',\n",
       " 'lemmon',\n",
       " 'said',\n",
       " 'since',\n",
       " 'mistake',\n",
       " 'star',\n",
       " 'looks',\n",
       " 'old',\n",
       " 'frail',\n",
       " 'lee',\n",
       " 'grant',\n",
       " 'drunk',\n",
       " 'sir',\n",
       " 'christopher',\n",
       " 'given',\n",
       " 'do',\n",
       " 'plenty',\n",
       " 'familiar',\n",
       " 'faces',\n",
       " 'tooairport',\n",
       " 'most',\n",
       " 'orientated',\n",
       " 'ideas',\n",
       " 'behind',\n",
       " 'bit',\n",
       " 'silly',\n",
       " 'bland',\n",
       " 'direction',\n",
       " 'doesnt',\n",
       " 'though',\n",
       " 'sunken',\n",
       " 'shouldnt',\n",
       " 'boring',\n",
       " 'followed',\n",
       " 'concorde',\n",
       " 'lacked',\n",
       " 'couldnt',\n",
       " 'put',\n",
       " 'finger',\n",
       " 'at',\n",
       " 'first',\n",
       " 'charisma',\n",
       " 'part',\n",
       " 'leading',\n",
       " 'actress',\n",
       " 'inevitably',\n",
       " 'translated',\n",
       " 'chemistry',\n",
       " 'she',\n",
       " 'shared',\n",
       " 'screen',\n",
       " 'romantic',\n",
       " 'came',\n",
       " 'across',\n",
       " 'merely',\n",
       " 'actors',\n",
       " 'play',\n",
       " 'very',\n",
       " 'well',\n",
       " 'director',\n",
       " 'miscalculated',\n",
       " 'what',\n",
       " 'needed',\n",
       " 'knowbut',\n",
       " 'screenplay',\n",
       " 'exactly',\n",
       " 'chef',\n",
       " 'love',\n",
       " 'seemed',\n",
       " 'enamored',\n",
       " 'culinary',\n",
       " 'skills',\n",
       " 'restaurant',\n",
       " 'ultimately',\n",
       " 'himself',\n",
       " 'youthful',\n",
       " 'exploits',\n",
       " 'anybody',\n",
       " 'else',\n",
       " 'never',\n",
       " 'convinced',\n",
       " 'me',\n",
       " 'princessi',\n",
       " 'disappointed',\n",
       " 'movie',\n",
       " 'forget',\n",
       " 'nominated',\n",
       " 'judge',\n",
       " 'yourself',\n",
       " 'sorry',\n",
       " 'everyone',\n",
       " 'know',\n",
       " 'supposed',\n",
       " 'art',\n",
       " 'wow',\n",
       " 'handed',\n",
       " 'guns',\n",
       " 'screening',\n",
       " 'people',\n",
       " 'blow',\n",
       " 'their',\n",
       " 'brains',\n",
       " 'watch',\n",
       " 'photographic',\n",
       " 'excellent',\n",
       " 'painful',\n",
       " 'absence',\n",
       " 'sound',\n",
       " 'track',\n",
       " 'brutal',\n",
       " 'loooonnnnng',\n",
       " 'long',\n",
       " 'how',\n",
       " 'sitting',\n",
       " 'talking',\n",
       " 'especially',\n",
       " 'complaining',\n",
       " 'really',\n",
       " 'had',\n",
       " 'hard',\n",
       " 'getting',\n",
       " 'performances',\n",
       " 'dark',\n",
       " 'sombre',\n",
       " 'uninspired',\n",
       " 'stuff',\n",
       " 'take',\n",
       " 'thing',\n",
       " 'maureen',\n",
       " 'stapleton',\n",
       " 'red',\n",
       " 'dress',\n",
       " 'dancing',\n",
       " 'otherwise',\n",
       " 'ripoff',\n",
       " 'bergman',\n",
       " 'im',\n",
       " 'fan',\n",
       " 'f',\n",
       " 'anyone',\n",
       " 'enjoyed',\n",
       " 'hours',\n",
       " 'lying',\n",
       " 'parents',\n",
       " 'took',\n",
       " 'theater',\n",
       " 'interiors',\n",
       " 'movies',\n",
       " 'watched',\n",
       " 'we',\n",
       " 'walked',\n",
       " 'recently',\n",
       " 'lived',\n",
       " 'rest',\n",
       " 'life',\n",
       " 'without',\n",
       " 'pretentious',\n",
       " 'ponderous',\n",
       " 'painfully',\n",
       " 'piece',\n",
       " 'wine',\n",
       " 'cheese',\n",
       " 'tripe',\n",
       " 'woody',\n",
       " 'allen',\n",
       " 'favorite',\n",
       " 'directors',\n",
       " 'worst',\n",
       " 'crap',\n",
       " 'career',\n",
       " 'unmistakable',\n",
       " 'style',\n",
       " 'ingmar',\n",
       " 'berman',\n",
       " 'gives',\n",
       " 'angular',\n",
       " 'muted',\n",
       " 'insight',\n",
       " 'lives',\n",
       " 'family',\n",
       " 'wrought',\n",
       " 'psychological',\n",
       " 'damage',\n",
       " 'caused',\n",
       " 'divorce',\n",
       " 'estrangement',\n",
       " 'nonlove',\n",
       " 'halitosis',\n",
       " 'whatever',\n",
       " 'intentionally',\n",
       " 'comic',\n",
       " 'relief',\n",
       " 'music',\n",
       " 'drenched',\n",
       " 'shadowy',\n",
       " 'pathos',\n",
       " 'defined',\n",
       " 'expressionist',\n",
       " 'nature',\n",
       " 'using',\n",
       " 'improvisational',\n",
       " 'method',\n",
       " 'illicit',\n",
       " 'pronounced',\n",
       " 'depth',\n",
       " 'meaning',\n",
       " 'truth',\n",
       " 'beyond',\n",
       " 'simply',\n",
       " 'connection',\n",
       " 'sympathy',\n",
       " 'instead',\n",
       " 'felt',\n",
       " 'contempt',\n",
       " 'parade',\n",
       " 'shuffling',\n",
       " 'whining',\n",
       " 'nicotine',\n",
       " 'stained',\n",
       " 'martyrs',\n",
       " 'perpetual',\n",
       " 'quest',\n",
       " 'identity',\n",
       " 'amid',\n",
       " 'backdrop',\n",
       " 'cosmopolitan',\n",
       " 'affluence',\n",
       " 'baked',\n",
       " 'brie',\n",
       " 'intelligentsia',\n",
       " 'looms',\n",
       " 'fart',\n",
       " 'room',\n",
       " 'speaks',\n",
       " 'affected',\n",
       " 'platitudes',\n",
       " 'elevated',\n",
       " 'language',\n",
       " 'between',\n",
       " 'cigarettes',\n",
       " 'lost',\n",
       " 'struggling',\n",
       " 'desperate',\n",
       " 'find',\n",
       " 'understanding',\n",
       " 'goes',\n",
       " 'point',\n",
       " 'want',\n",
       " 'slap',\n",
       " 'all',\n",
       " 'resolution',\n",
       " 'interminable',\n",
       " 'introspective',\n",
       " 'babble',\n",
       " 'drama',\n",
       " 'taken',\n",
       " 'extreme',\n",
       " 'audiences',\n",
       " 'ability',\n",
       " 'connect',\n",
       " 'chose',\n",
       " 'immersed',\n",
       " 'themselves',\n",
       " 'feel',\n",
       " 'left',\n",
       " 'reason',\n",
       " 'found',\n",
       " 'self',\n",
       " 'indulgent',\n",
       " 'spiritually',\n",
       " 'draining',\n",
       " 'going',\n",
       " 'insistence',\n",
       " 'promoting',\n",
       " 'message',\n",
       " 'prozac',\n",
       " 'prose',\n",
       " 'distorted',\n",
       " 'techniques',\n",
       " 'jettisons',\n",
       " 'past',\n",
       " 'relevance',\n",
       " 'highly',\n",
       " 'recommend',\n",
       " 'youre',\n",
       " 'feeling',\n",
       " 'happy',\n",
       " 'need',\n",
       " 'remind',\n",
       " 'death',\n",
       " 'lets',\n",
       " 'pretend',\n",
       " 'happened',\n",
       " 'appears',\n",
       " 'critics',\n",
       " 'unpalatable',\n",
       " 'unbearably',\n",
       " 'wooden',\n",
       " 'imitations',\n",
       " 'kid',\n",
       " 'ourselves',\n",
       " 'mostly',\n",
       " 'supportive',\n",
       " 'allens',\n",
       " 'pretensions',\n",
       " 'accusations',\n",
       " 'contrary',\n",
       " 'notwithstanding',\n",
       " 'get',\n",
       " 'why',\n",
       " 'generally',\n",
       " 'applauded',\n",
       " 'originality',\n",
       " 'imitating',\n",
       " 'contemporaneous',\n",
       " 'brian',\n",
       " 'depalma',\n",
       " 'excoriated',\n",
       " 'ripping',\n",
       " 'hitchcock',\n",
       " 'suspensehorror',\n",
       " 'robin',\n",
       " 'woods',\n",
       " 'view',\n",
       " 'strange',\n",
       " 'form',\n",
       " 'cultural',\n",
       " 'snobbery',\n",
       " 'agree',\n",
       " 'attempt',\n",
       " 'york',\n",
       " 'intellectual',\n",
       " 'less',\n",
       " 'years',\n",
       " 'swedish',\n",
       " 'susan',\n",
       " 'sontags',\n",
       " 'brother',\n",
       " 'carl',\n",
       " 'sweden',\n",
       " 'results',\n",
       " 'wilde',\n",
       " 'reference',\n",
       " 'dickens',\n",
       " 'curiosity',\n",
       " 'shop',\n",
       " 'heart',\n",
       " 'stone',\n",
       " 'laugh',\n",
       " 'loud',\n",
       " 'nell',\n",
       " 'same',\n",
       " 'chock',\n",
       " 'full',\n",
       " 'solemnly',\n",
       " 'intoned',\n",
       " 'howlers',\n",
       " 'afraid',\n",
       " 'anger',\n",
       " 'looking',\n",
       " 'distance',\n",
       " 'becoming',\n",
       " 'directorial',\n",
       " 'quotations',\n",
       " 'use',\n",
       " 'polite',\n",
       " 'term',\n",
       " 'close',\n",
       " 'parody',\n",
       " 'incredibly',\n",
       " 'selfinvolved',\n",
       " 'keep',\n",
       " 'reminding',\n",
       " 'brilliant',\n",
       " 'talented',\n",
       " 'strangulation',\n",
       " 'read',\n",
       " 'poem',\n",
       " 'yours',\n",
       " 'day',\n",
       " 'yorker',\n",
       " 'oh',\n",
       " 'reworked',\n",
       " 'caring',\n",
       " 'these',\n",
       " 'however',\n",
       " 'quite',\n",
       " 'hilarious',\n",
       " 'dialog',\n",
       " 'funny',\n",
       " 'earlier',\n",
       " 'hes',\n",
       " 'lines',\n",
       " 'straight',\n",
       " 'cast',\n",
       " 'poor',\n",
       " 'mary',\n",
       " 'beth',\n",
       " 'hurt',\n",
       " 'copy',\n",
       " 'thespian',\n",
       " 'tics',\n",
       " 'intonations',\n",
       " 'neurotic',\n",
       " 'habits',\n",
       " 'turning',\n",
       " 'embarrassing',\n",
       " 'surrogate',\n",
       " 'kenneth',\n",
       " 'branagh',\n",
       " 'celebritythe',\n",
       " 'basic',\n",
       " 'dysfunctional',\n",
       " 'quietly',\n",
       " 'domineering',\n",
       " 'mother',\n",
       " 'seems',\n",
       " 'lifted',\n",
       " 'bergmans',\n",
       " 'winter',\n",
       " 'light',\n",
       " 'melodrama',\n",
       " 'tricked',\n",
       " 'lot',\n",
       " 'existential',\n",
       " 'angst',\n",
       " 'comes',\n",
       " 'shopworn',\n",
       " 'visualaural',\n",
       " 'tricks',\n",
       " 'deafening',\n",
       " 'scratching',\n",
       " 'pencil',\n",
       " 'paper',\n",
       " 'towering',\n",
       " 'surf',\n",
       " 'dwarfs',\n",
       " 'walking',\n",
       " 'beach',\n",
       " 'etc',\n",
       " 'etcallens',\n",
       " 'later',\n",
       " 'serious',\n",
       " 'ill',\n",
       " 'woodys',\n",
       " 'rarely',\n",
       " 'funnier',\n",
       " 'blame',\n",
       " 'timid',\n",
       " 'writers',\n",
       " 'clueless',\n",
       " 'paid',\n",
       " 'angie',\n",
       " 'charlie',\n",
       " 'denise',\n",
       " 'rosanna',\n",
       " 'jon',\n",
       " 'wasnt',\n",
       " 'enough',\n",
       " 'veil',\n",
       " 'timidity',\n",
       " 'cowardice',\n",
       " 'hung',\n",
       " 'each',\n",
       " 'got',\n",
       " 'r',\n",
       " 'rating',\n",
       " 'anyway',\n",
       " 'ubiquitous',\n",
       " 'bubble',\n",
       " 'bath',\n",
       " 'shot',\n",
       " 'woman',\n",
       " 'harmon',\n",
       " 'does',\n",
       " 'sheen',\n",
       " 'sleepwalk',\n",
       " 'potentially',\n",
       " 'hot',\n",
       " 'relationships',\n",
       " 'beautiful',\n",
       " 'sexy',\n",
       " 'actresses',\n",
       " 'world',\n",
       " 'laughs',\n",
       " 'whoopi',\n",
       " 'goldberg',\n",
       " 'judy',\n",
       " 'tenuta',\n",
       " 'predictable',\n",
       " 'surprised',\n",
       " 'five',\n",
       " 'year',\n",
       " 'waste',\n",
       " 'viewers',\n",
       " 'mediocre',\n",
       " 'bag',\n",
       " 'hammers',\n",
       " 'bitchy',\n",
       " 'demeanor',\n",
       " 'law',\n",
       " 'order',\n",
       " 'carries',\n",
       " 'failed',\n",
       " 'come',\n",
       " 'unscathed',\n",
       " 'anticomedy',\n",
       " 'positive',\n",
       " 'mess',\n",
       " 'denises',\n",
       " 'marriage',\n",
       " 'hopefully',\n",
       " 'effort',\n",
       " 'produces',\n",
       " 'way',\n",
       " 'weak',\n",
       " 'outdated',\n",
       " 'country',\n",
       " 'walker',\n",
       " 'care',\n",
       " 'watching',\n",
       " 'subject',\n",
       " 'believable',\n",
       " 'set',\n",
       " 'dc',\n",
       " 'rang',\n",
       " 'true',\n",
       " 'applause',\n",
       " 'low',\n",
       " 'quick',\n",
       " 'stay',\n",
       " 'qa',\n",
       " 'eitheri',\n",
       " 'schrader',\n",
       " 'ahead',\n",
       " 'finished',\n",
       " 'finish',\n",
       " 'jumped',\n",
       " 'next',\n",
       " 'try',\n",
       " 'figure',\n",
       " 'guess',\n",
       " 'carter',\n",
       " 'private',\n",
       " 'boyfriend',\n",
       " 'artistic',\n",
       " 'male',\n",
       " 'bondage',\n",
       " 'torture',\n",
       " 'pictures',\n",
       " 'iraq',\n",
       " 'prisons',\n",
       " 'thinking',\n",
       " 'create',\n",
       " 'subculture',\n",
       " 'character',\n",
       " 'car',\n",
       " 'work',\n",
       " 'sense',\n",
       " 'reallythe',\n",
       " 'harrelson',\n",
       " 'played',\n",
       " 'flawlessly',\n",
       " 'did',\n",
       " 'may',\n",
       " 'twenty',\n",
       " 'ago',\n",
       " 'likely',\n",
       " 'recognized',\n",
       " 'lauren',\n",
       " 'lily',\n",
       " 'kristin',\n",
       " 'boringdont',\n",
       " 'unless',\n",
       " 'giant',\n",
       " 'pant',\n",
       " 'load',\n",
       " 'paul',\n",
       " ...]"
      ]
     },
     "execution_count": 144,
     "metadata": {},
     "output_type": "execute_result"
    }
   ],
   "source": [
    "vocab"
   ]
  },
  {
   "cell_type": "code",
   "execution_count": 152,
   "metadata": {
    "ExecuteTime": {
     "end_time": "2021-06-10T13:41:38.207546Z",
     "start_time": "2021-06-10T13:41:38.198039Z"
    },
    "id": "mioUYdZSdxMa"
   },
   "outputs": [],
   "source": [
    "vocab=vocab[0:5000]"
   ]
  },
  {
   "cell_type": "markdown",
   "metadata": {
    "id": "hPv9hL2GCHMa"
   },
   "source": [
    "Dictionaries map every token in the vocab to a number to be used to grab the context of each sentence after that"
   ]
  },
  {
   "cell_type": "code",
   "execution_count": 153,
   "metadata": {
    "ExecuteTime": {
     "end_time": "2021-06-10T13:41:42.997432Z",
     "start_time": "2021-06-10T13:41:42.984345Z"
    },
    "id": "58EB_TPQs77m"
   },
   "outputs": [],
   "source": [
    "# vocab = set(words)\n",
    "vocab_size = len(vocab)\n",
    "embed_dim = 10\n",
    "context_size = 2\n",
    "word_to_ix = {word: i for i, word in enumerate(vocab)}\n",
    "ix_to_word = {i: word for i, word in enumerate(vocab)}"
   ]
  },
  {
   "cell_type": "markdown",
   "metadata": {
    "id": "pxA-NYjuCOaS"
   },
   "source": [
    "Data bags (the context that make options of all hidden words in the sentence of 4 neighbours of the missed word), so it gives the whole examples if any of these five words are missed "
   ]
  },
  {
   "cell_type": "code",
   "execution_count": 204,
   "metadata": {
    "ExecuteTime": {
     "end_time": "2021-06-10T13:57:31.604994Z",
     "start_time": "2021-06-10T13:57:30.898568Z"
    },
    "colab": {
     "base_uri": "https://localhost:8080/"
    },
    "id": "EYPLzHkes7_A",
    "outputId": "5a27d822-1054-42a2-f97b-50000df7a3e8"
   },
   "outputs": [
    {
     "name": "stdout",
     "output_type": "stream",
     "text": [
      "[(['story', 'of', 'man', 'who'], 'a'), (['of', 'a', 'who', 'has'], 'man'), (['a', 'man', 'has', 'unnatural'], 'who'), (['man', 'who', 'unnatural', 'feelings'], 'has'), (['who', 'has', 'feelings', 'for'], 'unnatural')]\n"
     ]
    }
   ],
   "source": [
    "c=0\n",
    "data = []\n",
    "for i in range(2, len(words) - 2):\n",
    "    \n",
    "    context = [words[i - 2], words[i - 1], words[i + 1], words[i + 2]]\n",
    "    context = [''.join(ele) for ele in context]\n",
    "\n",
    "    target = words[i][0]\n",
    "    #print(c)\n",
    "    #print(target[0])\n",
    "    #c=c+1\n",
    "    # target = [''.join(ele) for ele in target]\n",
    "\n",
    "    data.append((context, target))\n",
    "print(data[:5])"
   ]
  },
  {
   "cell_type": "markdown",
   "metadata": {
    "id": "OXAN74GwDkYH"
   },
   "source": [
    "-\tEmbeddings of our vocab size with specific input dimension was specified before of 10 (hyperparameter can be changed)\n",
    "\n"
   ]
  },
  {
   "cell_type": "code",
   "execution_count": 154,
   "metadata": {
    "ExecuteTime": {
     "end_time": "2021-06-10T13:41:47.577086Z",
     "start_time": "2021-06-10T13:41:47.562124Z"
    }
   },
   "outputs": [],
   "source": [
    "embeddings =  np.random.random_sample((vocab_size, embed_dim))\n"
   ]
  },
  {
   "cell_type": "markdown",
   "metadata": {
    "id": "bOkSA-OZEyZ7"
   },
   "source": [
    "the linear model as the hidden layer "
   ]
  },
  {
   "cell_type": "code",
   "execution_count": 187,
   "metadata": {
    "ExecuteTime": {
     "end_time": "2021-06-10T13:53:52.385741Z",
     "start_time": "2021-06-10T13:53:52.373801Z"
    },
    "id": "5hvfkx8QweNy"
   },
   "outputs": [],
   "source": [
    "def linear(m, theta):\n",
    "    w = theta\n",
    "    return m.dot(w)"
   ]
  },
  {
   "cell_type": "markdown",
   "metadata": {
    "id": "cen-rUfIEuIT"
   },
   "source": [
    "Log softmax + NLLloss = Cross Entropy that should be used in the last layer implemented manually referenced by Kaggle "
   ]
  },
  {
   "cell_type": "code",
   "execution_count": 188,
   "metadata": {
    "ExecuteTime": {
     "end_time": "2021-06-10T13:53:56.944750Z",
     "start_time": "2021-06-10T13:53:56.930762Z"
    },
    "id": "q3B5bwQLweP8"
   },
   "outputs": [],
   "source": [
    "def log_softmax(x):\n",
    "    e_x = np.exp(x - np.max(x))\n",
    "    return np.log(e_x / e_x.sum())\n"
   ]
  },
  {
   "cell_type": "code",
   "execution_count": 189,
   "metadata": {
    "ExecuteTime": {
     "end_time": "2021-06-10T13:54:01.450047Z",
     "start_time": "2021-06-10T13:54:01.436087Z"
    },
    "id": "PkXH4Zvdw2VS"
   },
   "outputs": [],
   "source": [
    "def NLLLoss(logs, targets):\n",
    "    out = logs[range(len(targets)), targets]\n",
    "    return -out.sum()/len(out)"
   ]
  },
  {
   "cell_type": "code",
   "execution_count": 190,
   "metadata": {
    "ExecuteTime": {
     "end_time": "2021-06-10T13:54:05.958647Z",
     "start_time": "2021-06-10T13:54:05.945644Z"
    },
    "id": "oH4S274Tw2YH"
   },
   "outputs": [],
   "source": [
    "def log_softmax_crossentropy_with_logits(logits,target):\n",
    "\n",
    "    out = np.zeros_like(logits)\n",
    "    out[np.arange(len(logits)),target] = 1\n",
    "    \n",
    "    softmax = np.exp(logits) / np.exp(logits).sum(axis=-1,keepdims=True)\n",
    "    \n",
    "    return (- out + softmax) / logits.shape[0]"
   ]
  },
  {
   "cell_type": "code",
   "execution_count": null,
   "metadata": {
    "id": "uFJGWRg5E5-9"
   },
   "outputs": [],
   "source": []
  },
  {
   "cell_type": "markdown",
   "metadata": {
    "id": "Gq1ACPEkFDFx"
   },
   "source": [
    "forword function calculates the weights from the input layer to the output , backword function updates weight matrex based on the optimization function)"
   ]
  },
  {
   "cell_type": "code",
   "execution_count": 191,
   "metadata": {
    "ExecuteTime": {
     "end_time": "2021-06-10T13:54:10.551506Z",
     "start_time": "2021-06-10T13:54:10.536558Z"
    },
    "id": "l5xpzdTrw2a2"
   },
   "outputs": [],
   "source": [
    "def forward(context_idxs, theta):\n",
    "    m = embeddings[context_idxs].reshape(1, -1)\n",
    "    n = linear(m, theta)\n",
    "    o = log_softmax(n)\n",
    "    \n",
    "    return m, n, o"
   ]
  },
  {
   "cell_type": "code",
   "execution_count": 192,
   "metadata": {
    "ExecuteTime": {
     "end_time": "2021-06-10T13:54:15.298298Z",
     "start_time": "2021-06-10T13:54:15.285335Z"
    },
    "id": "sZpW7srkw2c_"
   },
   "outputs": [],
   "source": [
    "def backward(preds, theta, target_idxs):\n",
    "    m, n, o = preds\n",
    "    \n",
    "    dlog = log_softmax_crossentropy_with_logits(n, target_idxs)\n",
    "    dw = m.T.dot(dlog)\n",
    "    \n",
    "    return dw"
   ]
  },
  {
   "cell_type": "code",
   "execution_count": 193,
   "metadata": {
    "ExecuteTime": {
     "end_time": "2021-06-10T13:54:20.382999Z",
     "start_time": "2021-06-10T13:54:20.369036Z"
    },
    "id": "xGuRu2TVw2ft"
   },
   "outputs": [],
   "source": [
    "def optimize(theta, grad, lr=0.03):\n",
    "    theta -= grad * lr\n",
    "    return theta"
   ]
  },
  {
   "cell_type": "code",
   "execution_count": 159,
   "metadata": {
    "ExecuteTime": {
     "end_time": "2021-06-10T13:42:11.386441Z",
     "start_time": "2021-06-10T13:42:11.372478Z"
    }
   },
   "outputs": [
    {
     "data": {
      "text/plain": [
       "213094"
      ]
     },
     "execution_count": 159,
     "metadata": {},
     "output_type": "execute_result"
    }
   ],
   "source": [
    "len(data)\n"
   ]
  },
  {
   "cell_type": "code",
   "execution_count": null,
   "metadata": {},
   "outputs": [],
   "source": []
  },
  {
   "cell_type": "markdown",
   "metadata": {
    "id": "fpfRZtwRFklb"
   },
   "source": [
    "# training"
   ]
  },
  {
   "cell_type": "code",
   "execution_count": 157,
   "metadata": {
    "ExecuteTime": {
     "end_time": "2021-06-10T13:42:01.904089Z",
     "start_time": "2021-06-10T13:42:01.888789Z"
    }
   },
   "outputs": [],
   "source": [
    "theta = np.random.uniform(-1, 1, (2 * context_size * embed_dim, vocab_size))\n"
   ]
  },
  {
   "cell_type": "code",
   "execution_count": 161,
   "metadata": {
    "ExecuteTime": {
     "end_time": "2021-06-10T13:45:02.606328Z",
     "start_time": "2021-06-10T13:44:00.103561Z"
    }
   },
   "outputs": [],
   "source": [
    "epoch_losses = {}\n",
    "\n",
    "for epoch in range(8):\n",
    "\n",
    "    losses =  []\n",
    "\n",
    "    for context, target in data[0:1000]:\n",
    "        context_idxs = np.array([word_to_ix[w] for w in context])\n",
    "        preds = forward(context_idxs, theta)\n",
    "\n",
    "        target_idxs = np.array([word_to_ix[target]])\n",
    "        loss = NLLLoss(preds[-1], target_idxs)\n",
    "\n",
    "        losses.append(loss)\n",
    "        #print(losses)\n",
    "        grad = backward(preds, theta, target_idxs)\n",
    "        theta = optimize(theta, grad, lr=0.03)\n",
    "        \n",
    "     \n",
    "    epoch_losses[epoch] = losses"
   ]
  },
  {
   "cell_type": "code",
   "execution_count": 163,
   "metadata": {
    "ExecuteTime": {
     "end_time": "2021-06-10T13:45:39.851434Z",
     "start_time": "2021-06-10T13:45:39.723370Z"
    }
   },
   "outputs": [
    {
     "data": {
      "text/plain": [
       "Text(0, 0.5, 'Losses')"
      ]
     },
     "execution_count": 163,
     "metadata": {},
     "output_type": "execute_result"
    },
    {
     "data": {
      "image/png": "[encoded data removed]",
      "text/plain": [
       "<Figure size 432x288 with 1 Axes>"
      ]
     },
     "metadata": {
      "needs_background": "light"
     },
     "output_type": "display_data"
    }
   ],
   "source": [
    "ix = np.arange(0,8)\n",
    "\n",
    "fig = plt.figure()\n",
    "fig.suptitle('Epoch/Losses', fontsize=20)\n",
    "plt.plot(ix,[epoch_losses[i][0] for i in ix])\n",
    "plt.xlabel('Epochs', fontsize=12)\n",
    "plt.ylabel('Losses', fontsize=12)"
   ]
  },
  {
   "cell_type": "code",
   "execution_count": 177,
   "metadata": {
    "ExecuteTime": {
     "end_time": "2021-06-10T13:48:59.005861Z",
     "start_time": "2021-06-10T13:48:58.989881Z"
    }
   },
   "outputs": [],
   "source": [
    "def predict(words):\n",
    "    context_idxs = np.array([word_to_ix[w] for w in words])\n",
    "    preds = forward(context_idxs, theta)\n",
    "    word = ix_to_word[np.argmax(preds[-1])]\n",
    "    \n",
    "    return word\n"
   ]
  },
  {
   "cell_type": "code",
   "execution_count": 178,
   "metadata": {
    "ExecuteTime": {
     "end_time": "2021-06-10T13:49:03.625918Z",
     "start_time": "2021-06-10T13:49:03.612949Z"
    }
   },
   "outputs": [
    {
     "data": {
      "text/plain": [
       "'of'"
      ]
     },
     "execution_count": 178,
     "metadata": {},
     "output_type": "execute_result"
    }
   ],
   "source": [
    "predict(['a', 'story', 'a', 'man'])\n"
   ]
  },
  {
   "cell_type": "markdown",
   "metadata": {
    "id": "zy7X5_X7HwUi"
   },
   "source": [
    "then the accuracy is calculated if the target word is not the predicted add 1 to wrong variableand then use the following equation (1 - (wrong / len(data)"
   ]
  },
  {
   "cell_type": "code",
   "execution_count": 179,
   "metadata": {
    "ExecuteTime": {
     "end_time": "2021-06-10T13:49:54.900586Z",
     "start_time": "2021-06-10T13:49:54.896590Z"
    }
   },
   "outputs": [],
   "source": [
    "def accuracy():\n",
    "    wrong = 0\n",
    "\n",
    "    for context, target in data[0:5000]:\n",
    "        if(predict(context) != target):\n",
    "            wrong += 1\n",
    "            \n",
    "    return (1 - (wrong / len(data)))"
   ]
  },
  {
   "cell_type": "code",
   "execution_count": 180,
   "metadata": {
    "ExecuteTime": {
     "end_time": "2021-06-10T13:50:00.475532Z",
     "start_time": "2021-06-10T13:49:59.505500Z"
    }
   },
   "outputs": [
    {
     "data": {
      "text/plain": [
       "0.9780190901667809"
      ]
     },
     "execution_count": 180,
     "metadata": {},
     "output_type": "execute_result"
    }
   ],
   "source": [
    "accuracy()\n"
   ]
  },
  {
   "cell_type": "code",
   "execution_count": null,
   "metadata": {},
   "outputs": [],
   "source": []
  }
 ],
 "metadata": {
  "colab": {
   "collapsed_sections": [],
   "name": "NLP",
   "provenance": []
  },
  "kernelspec": {
   "display_name": "Python 3",
   "language": "python",
   "name": "python3"
  },
  "language_info": {
   "codemirror_mode": {
    "name": "ipython",
    "version": 3
   },
   "file_extension": ".py",
   "mimetype": "text/x-python",
   "name": "python",
   "nbconvert_exporter": "python",
   "pygments_lexer": "ipython3",
   "version": "3.8.8"
  },
  "toc": {
   "base_numbering": 1,
   "nav_menu": {},
   "number_sections": true,
   "sideBar": true,
   "skip_h1_title": false,
   "title_cell": "Table of Contents",
   "title_sidebar": "Contents",
   "toc_cell": false,
   "toc_position": {},
   "toc_section_display": true,
   "toc_window_display": false
  },
  "varInspector": {
   "cols": {
    "lenName": 16,
    "lenType": 16,
    "lenVar": 40
   },
   "kernels_config": {
    "python": {
     "delete_cmd_postfix": "",
     "delete_cmd_prefix": "del ",
     "library": "var_list.py",
     "varRefreshCmd": "print(var_dic_list())"
    },
    "r": {
     "delete_cmd_postfix": ") ",
     "delete_cmd_prefix": "rm(",
     "library": "var_list.r",
     "varRefreshCmd": "cat(var_dic_list()) "
    }
   },
   "types_to_exclude": [
    "module",
    "function",
    "builtin_function_or_method",
    "instance",
    "_Feature"
   ],
   "window_display": false
  }
 },
 "nbformat": 4,
 "nbformat_minor": 1
}
